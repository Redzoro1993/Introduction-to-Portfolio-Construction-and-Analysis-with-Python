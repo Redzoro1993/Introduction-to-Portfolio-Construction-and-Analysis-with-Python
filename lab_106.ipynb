{
  "nbformat": 4,
  "nbformat_minor": 0,
  "metadata": {
    "kernelspec": {
      "display_name": "Python 3",
      "language": "python",
      "name": "python3"
    },
    "language_info": {
      "codemirror_mode": {
        "name": "ipython",
        "version": 3
      },
      "file_extension": ".py",
      "mimetype": "text/x-python",
      "name": "python",
      "nbconvert_exporter": "python",
      "pygments_lexer": "ipython3",
      "version": "3.7.6"
    },
    "colab": {
      "name": "lab_106.ipynb",
      "provenance": [],
      "collapsed_sections": [],
      "include_colab_link": true
    }
  },
  "cells": [
    {
      "cell_type": "markdown",
      "metadata": {
        "id": "view-in-github",
        "colab_type": "text"
      },
      "source": [
        "<a href=\"https://colab.research.google.com/github/Redzoro1993/Introduction-to-Portfolio-Construction-and-Analysis-with-Python/blob/master/lab_106.ipynb\" target=\"_parent\"><img src=\"https://colab.research.google.com/assets/colab-badge.svg\" alt=\"Open In Colab\"/></a>"
      ]
    },
    {
      "cell_type": "markdown",
      "metadata": {
        "id": "UdXEuJImeo42",
        "colab_type": "text"
      },
      "source": [
        "# Downside Measures: SemiDeviation, VaR and CVaR\n",
        "\n",
        "We're going to look at a few measures of downside risk. We've already seen how to compute drawdowns, but we're going to look at 3 popular measures, and we are going to develop code to compute these and add them to our toolbox.\n",
        "\n",
        "The first measure is the simplest, which is the semideviation, which is nothing more than the volatility of the subset of returns that are negative.\n",
        "\n",
        "The code is very simple:\n",
        "\n",
        "```python\n",
        "def semideviation(r):\n",
        "    \"\"\"\n",
        "    Returns the semideviation aka negative semideviation of r\n",
        "    r must be a Series or a DataFrame, else raises a TypeError\n",
        "    \"\"\"\n",
        "    is_negative = r < 0\n",
        "    return r[is_negative].std(ddof=0)\n",
        "```\n"
      ]
    },
    {
      "cell_type": "code",
      "metadata": {
        "id": "jL6E1z48jXax",
        "colab_type": "code",
        "colab": {
          "base_uri": "https://localhost:8080/",
          "height": 35
        },
        "outputId": "ac84a6f6-10d8-4a97-e576-a5e3a70e1cb1"
      },
      "source": [
        "import os\n",
        "!git clone https://github.com/Redzoro1993/Introduction-to-Portfolio-Construction-and-Analysis-with-Python\n",
        "os.chdir(\"/content/Introduction-to-Portfolio-Construction-and-Analysis-with-Python/Modules\")\n",
        "!python3 edhec_risk_kit_106.py"
      ],
      "execution_count": 1,
      "outputs": [
        {
          "output_type": "stream",
          "text": [
            "fatal: destination path 'Introduction-to-Portfolio-Construction-and-Analysis-with-Python' already exists and is not an empty directory.\n"
          ],
          "name": "stdout"
        }
      ]
    },
    {
      "cell_type": "code",
      "metadata": {
        "id": "DLs3st8weo45",
        "colab_type": "code",
        "colab": {}
      },
      "source": [
        "import pandas as pd\n",
        "import edhec_risk_kit_106 as erk\n",
        "%load_ext autoreload\n",
        "%autoreload 2\n",
        "%matplotlib inline"
      ],
      "execution_count": 2,
      "outputs": []
    },
    {
      "cell_type": "code",
      "metadata": {
        "id": "R-Vz2VFsk-aJ",
        "colab_type": "code",
        "colab": {}
      },
      "source": [
        "hfi = erk.get_hfi_returns()"
      ],
      "execution_count": 3,
      "outputs": []
    },
    {
      "cell_type": "code",
      "metadata": {
        "id": "4NSD845seo5k",
        "colab_type": "code",
        "colab": {}
      },
      "source": [
        "def semideviation(r):\n",
        "    \"\"\"\n",
        "    Returns the semideviation aka negative semideviation of r\n",
        "    r must be a Series or a DataFrame, else raises a TypeError\n",
        "    \"\"\"\n",
        "    is_negative = r < 0\n",
        "    return r[is_negative].std(ddof=0)\n"
      ],
      "execution_count": 4,
      "outputs": []
    },
    {
      "cell_type": "code",
      "metadata": {
        "id": "RDuXpC4Ceo5r",
        "colab_type": "code",
        "colab": {
          "base_uri": "https://localhost:8080/",
          "height": 274
        },
        "outputId": "8e586750-2de1-4d40-a7c3-af114744c14b"
      },
      "source": [
        "erk.semideviation(hfi)"
      ],
      "execution_count": 5,
      "outputs": [
        {
          "output_type": "execute_result",
          "data": {
            "text/plain": [
              "Convertible Arbitrage     0.019540\n",
              "CTA Global                0.012443\n",
              "Distressed Securities     0.015185\n",
              "Emerging Markets          0.028039\n",
              "Equity Market Neutral     0.009566\n",
              "Event Driven              0.015429\n",
              "Fixed Income Arbitrage    0.017763\n",
              "Global Macro              0.006579\n",
              "Long/Short Equity         0.014051\n",
              "Merger Arbitrage          0.008875\n",
              "Relative Value            0.012244\n",
              "Short Selling             0.027283\n",
              "Funds Of Funds            0.012122\n",
              "dtype: float64"
            ]
          },
          "metadata": {
            "tags": []
          },
          "execution_count": 5
        }
      ]
    },
    {
      "cell_type": "code",
      "metadata": {
        "id": "8Xb_gcYNeo5y",
        "colab_type": "code",
        "colab": {
          "base_uri": "https://localhost:8080/",
          "height": 274
        },
        "outputId": "9b281c0e-afa5-4556-9883-c7fc8619d5ad"
      },
      "source": [
        "hfi[hfi<0].std(ddof=0)"
      ],
      "execution_count": 6,
      "outputs": [
        {
          "output_type": "execute_result",
          "data": {
            "text/plain": [
              "Convertible Arbitrage     0.019540\n",
              "CTA Global                0.012443\n",
              "Distressed Securities     0.015185\n",
              "Emerging Markets          0.028039\n",
              "Equity Market Neutral     0.009566\n",
              "Event Driven              0.015429\n",
              "Fixed Income Arbitrage    0.017763\n",
              "Global Macro              0.006579\n",
              "Long/Short Equity         0.014051\n",
              "Merger Arbitrage          0.008875\n",
              "Relative Value            0.012244\n",
              "Short Selling             0.027283\n",
              "Funds Of Funds            0.012122\n",
              "dtype: float64"
            ]
          },
          "metadata": {
            "tags": []
          },
          "execution_count": 6
        }
      ]
    },
    {
      "cell_type": "code",
      "metadata": {
        "id": "CB5M-c4Geo54",
        "colab_type": "code",
        "colab": {
          "base_uri": "https://localhost:8080/",
          "height": 274
        },
        "outputId": "09d4b709-1740-4821-f638-2278e19f04eb"
      },
      "source": [
        "erk.semideviation(hfi).sort_values()"
      ],
      "execution_count": 7,
      "outputs": [
        {
          "output_type": "execute_result",
          "data": {
            "text/plain": [
              "Global Macro              0.006579\n",
              "Merger Arbitrage          0.008875\n",
              "Equity Market Neutral     0.009566\n",
              "Funds Of Funds            0.012122\n",
              "Relative Value            0.012244\n",
              "CTA Global                0.012443\n",
              "Long/Short Equity         0.014051\n",
              "Distressed Securities     0.015185\n",
              "Event Driven              0.015429\n",
              "Fixed Income Arbitrage    0.017763\n",
              "Convertible Arbitrage     0.019540\n",
              "Short Selling             0.027283\n",
              "Emerging Markets          0.028039\n",
              "dtype: float64"
            ]
          },
          "metadata": {
            "tags": []
          },
          "execution_count": 7
        }
      ]
    },
    {
      "cell_type": "code",
      "metadata": {
        "id": "iiul1O8feo5-",
        "colab_type": "code",
        "colab": {
          "base_uri": "https://localhost:8080/",
          "height": 72
        },
        "outputId": "606b1916-3d5a-41e3-ab6f-9ad556c37c23"
      },
      "source": [
        "ffme = erk.get_ffme_returns()\n",
        "erk.semideviation(ffme)"
      ],
      "execution_count": 8,
      "outputs": [
        {
          "output_type": "execute_result",
          "data": {
            "text/plain": [
              "SmallCap    0.051772\n",
              "LargeCap    0.040245\n",
              "dtype: float64"
            ]
          },
          "metadata": {
            "tags": []
          },
          "execution_count": 8
        }
      ]
    },
    {
      "cell_type": "code",
      "metadata": {
        "id": "DroexoZ5eo6C",
        "colab_type": "code",
        "colab": {}
      },
      "source": [
        "# This will not work: erk.semideviation([1,2,3,4])"
      ],
      "execution_count": 9,
      "outputs": []
    },
    {
      "cell_type": "markdown",
      "metadata": {
        "id": "2puEFaLaeo6I",
        "colab_type": "text"
      },
      "source": [
        "# VaR and CVaR\n",
        "\n",
        "We'll look at three different ways to compute Value At Risk\n",
        "\n",
        "1. Historic VaR\n",
        "2. Parametric Gaussian VaR\n",
        "3. Modified (Cornish-Fisher) VaR\n",
        "\n",
        "To compute the historic VaR at a certain level, say 5%, all we have to do is to find the number such that 5% of the returns fall below that number and 95% of the returns fall above that number. In other words, we want the 5 percentile return.\n",
        "\n",
        "Fortunately, numpy has a `np.percentile` function that computes exactly that.\n",
        "\n",
        "Add the following code to the `edhec_risk_kit.py` file:\n",
        "\n",
        "```python\n",
        "\n",
        "def var_historic(r, level=5):\n",
        "    \"\"\"\n",
        "    Returns the historic Value at Risk at a specified level\n",
        "    i.e. returns the number such that \"level\" percent of the returns\n",
        "    fall below that number, and the (100-level) percent are above\n",
        "    \"\"\"\n",
        "    if isinstance(r, pd.DataFrame):\n",
        "        return r.aggregate(var_historic, level=level)\n",
        "    elif isinstance(r, pd.Series):\n",
        "        return -np.percentile(r, level)\n",
        "    else:\n",
        "        raise TypeError(\"Expected r to be a Series or DataFrame\")        \n",
        "```\n"
      ]
    },
    {
      "cell_type": "code",
      "metadata": {
        "id": "aGCIbz4Teo6K",
        "colab_type": "code",
        "colab": {
          "base_uri": "https://localhost:8080/",
          "height": 72
        },
        "outputId": "e069dafd-cdc8-482d-8da7-9375d3980634"
      },
      "source": [
        "import numpy as np\n",
        "np.percentile(hfi,5,axis=0)"
      ],
      "execution_count": 10,
      "outputs": [
        {
          "output_type": "execute_result",
          "data": {
            "text/plain": [
              "array([-0.01576, -0.03169, -0.01966, -0.04247, -0.00814, -0.02535,\n",
              "       -0.00787, -0.01499, -0.02598, -0.01047, -0.01174, -0.06783,\n",
              "       -0.02047])"
            ]
          },
          "metadata": {
            "tags": []
          },
          "execution_count": 10
        }
      ]
    },
    {
      "cell_type": "code",
      "metadata": {
        "id": "xECsoyNbeo6P",
        "colab_type": "code",
        "colab": {
          "base_uri": "https://localhost:8080/",
          "height": 274
        },
        "outputId": "98fae0d6-bb2a-4eb3-8a55-cc48f3580f82"
      },
      "source": [
        "erk.var_historic(hfi, level=1)"
      ],
      "execution_count": 11,
      "outputs": [
        {
          "output_type": "execute_result",
          "data": {
            "text/plain": [
              "Convertible Arbitrage     0.031776\n",
              "CTA Global                0.049542\n",
              "Distressed Securities     0.046654\n",
              "Emerging Markets          0.088466\n",
              "Equity Market Neutral     0.018000\n",
              "Event Driven              0.048612\n",
              "Fixed Income Arbitrage    0.041672\n",
              "Global Macro              0.024316\n",
              "Long/Short Equity         0.049558\n",
              "Merger Arbitrage          0.025336\n",
              "Relative Value            0.026660\n",
              "Short Selling             0.113576\n",
              "Funds Of Funds            0.039664\n",
              "dtype: float64"
            ]
          },
          "metadata": {
            "tags": []
          },
          "execution_count": 11
        }
      ]
    },
    {
      "cell_type": "markdown",
      "metadata": {
        "id": "R36p5lc_eo6V",
        "colab_type": "text"
      },
      "source": [
        "Note that for reporting purposes, it is common to invert the sign so we report a positive number to represent the _loss_ i.e. the amount that is at risk."
      ]
    },
    {
      "cell_type": "markdown",
      "metadata": {
        "id": "v6EOPkEkeo6V",
        "colab_type": "text"
      },
      "source": [
        "# Conditional VaR aka Beyond VaR\n",
        "\n",
        "Now that we have the VaR, the CVaR is very easy. All we need is to find the mean of the numbers that fell below the VaR!"
      ]
    },
    {
      "cell_type": "code",
      "metadata": {
        "id": "niZALHYoeo6X",
        "colab_type": "code",
        "colab": {
          "base_uri": "https://localhost:8080/",
          "height": 274
        },
        "outputId": "316d2730-bf54-4c03-f16b-7f2ec31060e3"
      },
      "source": [
        "erk.cvar_historic(hfi, level=1).sort_values()"
      ],
      "execution_count": 12,
      "outputs": [
        {
          "output_type": "execute_result",
          "data": {
            "text/plain": [
              "Global Macro              0.029333\n",
              "Equity Market Neutral     0.036100\n",
              "Merger Arbitrage          0.036233\n",
              "Relative Value            0.052367\n",
              "CTA Global                0.054767\n",
              "Funds Of Funds            0.061133\n",
              "Long/Short Equity         0.061867\n",
              "Distressed Securities     0.070967\n",
              "Event Driven              0.071267\n",
              "Fixed Income Arbitrage    0.072467\n",
              "Convertible Arbitrage     0.086100\n",
              "Short Selling             0.123867\n",
              "Emerging Markets          0.141167\n",
              "dtype: float64"
            ]
          },
          "metadata": {
            "tags": []
          },
          "execution_count": 12
        }
      ]
    },
    {
      "cell_type": "code",
      "metadata": {
        "id": "WhhwMCYMeo6d",
        "colab_type": "code",
        "colab": {
          "base_uri": "https://localhost:8080/",
          "height": 72
        },
        "outputId": "faa60ce1-3c8d-458e-c4f6-ec1f2d6305ff"
      },
      "source": [
        "erk.cvar_historic(ffme)"
      ],
      "execution_count": 13,
      "outputs": [
        {
          "output_type": "execute_result",
          "data": {
            "text/plain": [
              "SmallCap    0.162609\n",
              "LargeCap    0.121277\n",
              "dtype: float64"
            ]
          },
          "metadata": {
            "tags": []
          },
          "execution_count": 13
        }
      ]
    },
    {
      "cell_type": "markdown",
      "metadata": {
        "id": "1UHROJSmeo6q",
        "colab_type": "text"
      },
      "source": [
        "## Parametric Gaussian VaR\n",
        "\n",
        "The idea behind this is very simple. If a set of returns is normally distributed, we know, for instance, that 50% of the returns are below the mean and 50% are above.\n",
        "\n",
        "We also know that approx two thirds of the returns lie within 1 standard deviation. That means one third lie beyond one standard deviation from the mean. Since the normal distribution is symmetric, approximately one sixth (approx 16%) lie below one standard deviation away from the mean. Therefore, if we know the mean and standard deviation and if we assume that the returns are normally distributed, the 16% VaR would be the mean minus one standard deviation.\n",
        "\n",
        "In general we can always convert a percentile point to a z-score (which is the number of standard deviations away from the mean that a number is). Therefore, if we can convert the VaR level (such as 1% or 5%) to a z-score, we can calculate the return level where that percent of returns lie below it.\n",
        "\n",
        "`scipy.stat.norm` contains a function `ppf()` which does exactly that. It takes a percentile such as 0.05 or 0.01 and gives you the z-score corresponding to that in the normal distribution."
      ]
    },
    {
      "cell_type": "code",
      "metadata": {
        "id": "SqSDeLmEeo6q",
        "colab_type": "code",
        "colab": {
          "base_uri": "https://localhost:8080/",
          "height": 35
        },
        "outputId": "99f98fa9-ebf0-4803-9bad-5eb8b4bcca17"
      },
      "source": [
        "from scipy.stats import norm\n",
        "norm.ppf(.5)"
      ],
      "execution_count": 14,
      "outputs": [
        {
          "output_type": "execute_result",
          "data": {
            "text/plain": [
              "0.0"
            ]
          },
          "metadata": {
            "tags": []
          },
          "execution_count": 14
        }
      ]
    },
    {
      "cell_type": "code",
      "metadata": {
        "id": "vxdhPIcUeo6w",
        "colab_type": "code",
        "colab": {
          "base_uri": "https://localhost:8080/",
          "height": 35
        },
        "outputId": "7c228d02-75fc-4fb3-aa33-a1ca1fa2a3c2"
      },
      "source": [
        "norm.ppf(.16)"
      ],
      "execution_count": 15,
      "outputs": [
        {
          "output_type": "execute_result",
          "data": {
            "text/plain": [
              "-0.994457883209753"
            ]
          },
          "metadata": {
            "tags": []
          },
          "execution_count": 15
        }
      ]
    },
    {
      "cell_type": "markdown",
      "metadata": {
        "id": "j1OyNVQAeo60",
        "colab_type": "text"
      },
      "source": [
        "Therefore, all we need to do to estimate the VaR using this method is to find the z-score corresponding to percentile level, and then add that many standard deviations to the mean, to obtain the VaR.\n",
        "\n",
        "```python\n",
        "from scipy.stats import norm\n",
        "def var_gaussian(r, level=5):\n",
        "    \"\"\"\n",
        "    Returns the Parametric Gauusian VaR of a Series or DataFrame\n",
        "    \"\"\"\n",
        "    # compute the Z score assuming it was Gaussian\n",
        "    z = norm.ppf(level/100)\n",
        "    return -(r.mean() + z*r.std(ddof=0))\n",
        "```"
      ]
    },
    {
      "cell_type": "code",
      "metadata": {
        "id": "6dY3mjYMeo60",
        "colab_type": "code",
        "colab": {
          "base_uri": "https://localhost:8080/",
          "height": 274
        },
        "outputId": "4b4920f8-f9e3-4d16-dad3-22e2597b0b38"
      },
      "source": [
        "erk.var_gaussian(hfi)"
      ],
      "execution_count": 16,
      "outputs": [
        {
          "output_type": "execute_result",
          "data": {
            "text/plain": [
              "Convertible Arbitrage     0.021691\n",
              "CTA Global                0.034235\n",
              "Distressed Securities     0.021032\n",
              "Emerging Markets          0.047164\n",
              "Equity Market Neutral     0.008850\n",
              "Event Driven              0.021144\n",
              "Fixed Income Arbitrage    0.014579\n",
              "Global Macro              0.018766\n",
              "Long/Short Equity         0.026397\n",
              "Merger Arbitrage          0.010435\n",
              "Relative Value            0.013061\n",
              "Short Selling             0.080086\n",
              "Funds Of Funds            0.021292\n",
              "dtype: float64"
            ]
          },
          "metadata": {
            "tags": []
          },
          "execution_count": 16
        }
      ]
    },
    {
      "cell_type": "code",
      "metadata": {
        "id": "Fu1M62Bdeo66",
        "colab_type": "code",
        "colab": {
          "base_uri": "https://localhost:8080/",
          "height": 274
        },
        "outputId": "540919a9-0709-41a8-96c2-7b0d7e8dca9b"
      },
      "source": [
        "erk.var_historic(hfi)"
      ],
      "execution_count": 17,
      "outputs": [
        {
          "output_type": "execute_result",
          "data": {
            "text/plain": [
              "Convertible Arbitrage     0.01576\n",
              "CTA Global                0.03169\n",
              "Distressed Securities     0.01966\n",
              "Emerging Markets          0.04247\n",
              "Equity Market Neutral     0.00814\n",
              "Event Driven              0.02535\n",
              "Fixed Income Arbitrage    0.00787\n",
              "Global Macro              0.01499\n",
              "Long/Short Equity         0.02598\n",
              "Merger Arbitrage          0.01047\n",
              "Relative Value            0.01174\n",
              "Short Selling             0.06783\n",
              "Funds Of Funds            0.02047\n",
              "dtype: float64"
            ]
          },
          "metadata": {
            "tags": []
          },
          "execution_count": 17
        }
      ]
    },
    {
      "cell_type": "markdown",
      "metadata": {
        "id": "2283nYhmeo68",
        "colab_type": "text"
      },
      "source": [
        "# Cornish-Fisher Modification\n",
        "\n",
        "The Cornish-Fisher modification is an elegant and simple adjustment.\n",
        "\n",
        "The z-score tells us how many standard deviations away from the mean we need to go to find the VaR. If the returns arent normal, we know that z-score will give us an inaccurate number. The basic idea is that since we can observe the skewness and kurtosis of the data, we can adjust the z-score up or down to come up with a modifed z-score. e.g. intuitively, all other things being equal, if the skewness is negative, we'll decrease the z-score further down, and if the skewness is positive, we'll push it up.\n",
        "\n",
        "The adjusted z-score which we'll call $z_{cornishfisher}$ given by:\n",
        "\n",
        "$$ z_{cornishfisher} = z +\\frac{1}{6}(z^2-1)S + \\frac{1}{24}(z^3-3z)(K-3)-\\frac{1}{36}(2z^3-5z)S^2 $$\n",
        "\n",
        "\n",
        "We can modify the previous function by adding a \"modified\" parameter with a default value of `True` as follows. If `True` then the following piece of code is executed, which modifes `z`:\n",
        "\n",
        "```python\n",
        "    if modified:\n",
        "        # modify the Z score based on observed skewness and kurtosis\n",
        "        s = skewness(r)\n",
        "        k = kurtosis(r)\n",
        "        z = (z +\n",
        "                (z**2 - 1)*s/6 +\n",
        "                (z**3 -3*z)*(k-3)/24 -\n",
        "                (2*z**3 - 5*z)*(s**2)/36\n",
        "            )\n",
        "```\n",
        "\n",
        "The rewritten function is:\n",
        "\n",
        "```python\n",
        "from scipy.stats import norm\n",
        "def var_gaussian(r, level=5, modified=False):\n",
        "    \"\"\"\n",
        "    Returns the Parametric Gauusian VaR of a Series or DataFrame\n",
        "    If \"modified\" is True, then the modified VaR is returned,\n",
        "    using the Cornish-Fisher modification\n",
        "    \"\"\"\n",
        "    # compute the Z score assuming it was Gaussian\n",
        "    z = norm.ppf(level/100)\n",
        "    if modified:\n",
        "        # modify the Z score based on observed skewness and kurtosis\n",
        "        s = skewness(r)\n",
        "        k = kurtosis(r)\n",
        "        z = (z +\n",
        "                (z**2 - 1)*s/6 +\n",
        "                (z**3 -3*z)*(k-3)/24 -\n",
        "                (2*z**3 - 5*z)*(s**2)/36\n",
        "            )\n",
        "        \n",
        "    return -(r.mean() + z*r.std(ddof=0))\n",
        "\n",
        "```\n",
        "\n",
        "We can now compare the different methods:"
      ]
    },
    {
      "cell_type": "code",
      "metadata": {
        "id": "an3maOqeeo69",
        "colab_type": "code",
        "colab": {
          "base_uri": "https://localhost:8080/",
          "height": 405
        },
        "outputId": "e559c263-6a68-41ab-a3f7-a1f1fdc296a9"
      },
      "source": [
        "var_table = [erk.var_gaussian(hfi), \n",
        "             erk.var_gaussian(hfi, modified=True), \n",
        "             erk.var_historic(hfi)]\n",
        "comparison = pd.concat(var_table, axis=1)\n",
        "comparison.columns=['Gaussian', 'Cornish-Fisher', 'Historic']\n",
        "comparison.plot.bar(title=\"Hedge Fund Indices: VaR at 5%\")"
      ],
      "execution_count": 18,
      "outputs": [
        {
          "output_type": "execute_result",
          "data": {
            "text/plain": [
              "<matplotlib.axes._subplots.AxesSubplot at 0x7f825c090fd0>"
            ]
          },
          "metadata": {
            "tags": []
          },
          "execution_count": 18
        },
        {
          "output_type": "display_data",
          "data": {
            "image/png": "[encoded data removed]",
            "text/plain": [
              "<Figure size 432x288 with 1 Axes>"
            ]
          },
          "metadata": {
            "tags": [],
            "needs_background": "light"
          }
        }
      ]
    },
    {
      "cell_type": "markdown",
      "metadata": {
        "id": "ZSokj1jceo7A",
        "colab_type": "text"
      },
      "source": [
        "Note that in some cases, the cornish-fisher VaR is lower i.e. estimates a smaller loss than you would get from a pure gaussian assumption. That can happen if the observed skewness is positive, as is the case for \"Short Selling\" and \"Global Macro\""
      ]
    },
    {
      "cell_type": "code",
      "metadata": {
        "id": "agCzfQigeo7B",
        "colab_type": "code",
        "colab": {
          "base_uri": "https://localhost:8080/",
          "height": 274
        },
        "outputId": "c25c69a9-06b5-4e9f-c363-bd07843eaec5"
      },
      "source": [
        "erk.skewness(hfi).sort_values(ascending=False)"
      ],
      "execution_count": 19,
      "outputs": [
        {
          "output_type": "execute_result",
          "data": {
            "text/plain": [
              "Global Macro              0.982922\n",
              "Short Selling             0.767975\n",
              "CTA Global                0.173699\n",
              "Funds Of Funds           -0.361783\n",
              "Long/Short Equity        -0.390227\n",
              "Emerging Markets         -1.167067\n",
              "Distressed Securities    -1.300842\n",
              "Merger Arbitrage         -1.320083\n",
              "Event Driven             -1.409154\n",
              "Relative Value           -1.815470\n",
              "Equity Market Neutral    -2.124435\n",
              "Convertible Arbitrage    -2.639592\n",
              "Fixed Income Arbitrage   -3.940320\n",
              "dtype: float64"
            ]
          },
          "metadata": {
            "tags": []
          },
          "execution_count": 19
        }
      ]
    }
  ]
}