{
  "nbformat": 4,
  "nbformat_minor": 0,
  "metadata": {
    "colab": {
      "name": "ALM - taller1.ipynb",
      "provenance": [],
      "authorship_tag": "ABX9TyO7lMB1pVgx2s1WfIO6euxs",
      "include_colab_link": true
    },
    "kernelspec": {
      "name": "python3",
      "display_name": "Python 3"
    },
    "language_info": {
      "name": "python"
    }
  },
  "cells": [
    {
      "cell_type": "markdown",
      "metadata": {
        "id": "view-in-github",
        "colab_type": "text"
      },
      "source": [
        "<a href=\"https://colab.research.google.com/github/Redzoro1993/Introduction-to-Portfolio-Construction-and-Analysis-with-Python/blob/master/ALM_taller1.ipynb\" target=\"_parent\"><img src=\"https://colab.research.google.com/assets/colab-badge.svg\" alt=\"Open In Colab\"/></a>"
      ]
    },
    {
      "cell_type": "code",
      "metadata": {
        "id": "VbP7AzDQfdm4"
      },
      "source": [
        "import pandas as pd \n",
        "import numpy as np"
      ],
      "execution_count": 1,
      "outputs": []
    },
    {
      "cell_type": "code",
      "metadata": {
        "colab": {
          "base_uri": "https://localhost:8080/",
          "height": 109
        },
        "id": "D7h6tiKEf7Qh",
        "outputId": "4c6a8734-bca3-4cef-cf94-1cbad94cd87d"
      },
      "source": [
        "data = pd.read_excel(\"Calculo PE Portafolio- Simulación Flujos Contingentes.xlsx\", sheet_name = \"Portafolio Créditos\")\n",
        "data[\"n_cuotas_x_pagar\"] = data['Plazo (meses)'] - data['Número de cuota actual']\n",
        "data.head(2)"
      ],
      "execution_count": 3,
      "outputs": [
        {
          "output_type": "execute_result",
          "data": {
            "text/html": [
              "<div>\n",
              "<style scoped>\n",
              "    .dataframe tbody tr th:only-of-type {\n",
              "        vertical-align: middle;\n",
              "    }\n",
              "\n",
              "    .dataframe tbody tr th {\n",
              "        vertical-align: top;\n",
              "    }\n",
              "\n",
              "    .dataframe thead th {\n",
              "        text-align: right;\n",
              "    }\n",
              "</style>\n",
              "<table border=\"1\" class=\"dataframe\">\n",
              "  <thead>\n",
              "    <tr style=\"text-align: right;\">\n",
              "      <th></th>\n",
              "      <th>Crédito</th>\n",
              "      <th>Plazo (meses)</th>\n",
              "      <th>Capital Prestado</th>\n",
              "      <th>Tasa de Interes Efectivo Anual</th>\n",
              "      <th>Número de cuota actual</th>\n",
              "      <th>% Cuotas Pagadas</th>\n",
              "      <th>n_cuotas_x_pagar</th>\n",
              "    </tr>\n",
              "  </thead>\n",
              "  <tbody>\n",
              "    <tr>\n",
              "      <th>0</th>\n",
              "      <td>1</td>\n",
              "      <td>24</td>\n",
              "      <td>90</td>\n",
              "      <td>0.2</td>\n",
              "      <td>14</td>\n",
              "      <td>0.4</td>\n",
              "      <td>10</td>\n",
              "    </tr>\n",
              "    <tr>\n",
              "      <th>1</th>\n",
              "      <td>2</td>\n",
              "      <td>24</td>\n",
              "      <td>30</td>\n",
              "      <td>0.2</td>\n",
              "      <td>13</td>\n",
              "      <td>0.3</td>\n",
              "      <td>11</td>\n",
              "    </tr>\n",
              "  </tbody>\n",
              "</table>\n",
              "</div>"
            ],
            "text/plain": [
              "   Crédito  Plazo (meses)  ...  % Cuotas Pagadas  n_cuotas_x_pagar\n",
              "0        1             24  ...               0.4                10\n",
              "1        2             24  ...               0.3                11\n",
              "\n",
              "[2 rows x 7 columns]"
            ]
          },
          "metadata": {},
          "execution_count": 3
        }
      ]
    },
    {
      "cell_type": "code",
      "metadata": {
        "colab": {
          "base_uri": "https://localhost:8080/"
        },
        "id": "vWXqH_B2gNDe",
        "outputId": "22a41047-c52b-4b34-ad1c-a72ad511aa4e"
      },
      "source": [
        "creditos1 = []\n",
        "for i in range(data.shape[0]):\n",
        "    n_cuotas_x_pagar = data['n_cuotas_x_pagar'].iloc[i]\n",
        "    \n",
        "    capital = data['Capital Prestado'].iloc[i]\n",
        "    tasa_ea = data['Tasa de Interes Efectivo Anual'].iloc[i]\n",
        "    tasa_mensual = (tasa_ea + 1) ** (1/12) - 1\n",
        "    \n",
        "    capital_amort = [capital - j*capital/data['Plazo (meses)'].iloc[i]  for j in range(data['Plazo (meses)'].iloc[i])]\n",
        "    capital_amort = capital_amort[data['Número de cuota actual'].iloc[i]:]\n",
        "    flujos = [ capital/data['Plazo (meses)'].iloc[i] + c*tasa_mensual  for c in   capital_amort ]\n",
        "    creditos1.append([i,flujos])\n",
        "    \n",
        "n_credito = 0 # el credito Numero 1 \n",
        "print(\"El credito numero \" + str(n_credito+1) + \" tiene los flujos: \")\n",
        "print(creditos1[n_credito][1])\n",
        "print(\"El credito numero \" + str(n_credito+1) + \" le hacen falta pagar \" +str(len(creditos1[n_credito][1])) + \" flujos.\")\n"
      ],
      "execution_count": 5,
      "outputs": [
        {
          "output_type": "stream",
          "name": "stdout",
          "text": [
            "El credito numero 1 tiene los flujos: \n",
            "[4.32410514373992, 4.266694629365928, 4.209284114991936, 4.151873600617944, 4.094463086243952, 4.0370525718699595, 3.979642057495968, 3.922231543121976, 3.864821028747984, 3.807410514373992]\n",
            "El credito numero 1 le hacen falta pagar 10 flujos.\n"
          ]
        }
      ]
    },
    {
      "cell_type": "code",
      "metadata": {
        "id": "xNoF_ZvqC5Jh"
      },
      "source": [
        "creditos = pd.DataFrame(creditos1)"
      ],
      "execution_count": 24,
      "outputs": []
    },
    {
      "cell_type": "code",
      "metadata": {
        "colab": {
          "base_uri": "https://localhost:8080/",
          "height": 412
        },
        "id": "aOBbT0s2DLci",
        "outputId": "6a8b463f-e478-427c-9d38-58702b69bd84"
      },
      "source": [
        "creditos"
      ],
      "execution_count": 25,
      "outputs": [
        {
          "output_type": "execute_result",
          "data": {
            "text/html": [
              "<div>\n",
              "<style scoped>\n",
              "    .dataframe tbody tr th:only-of-type {\n",
              "        vertical-align: middle;\n",
              "    }\n",
              "\n",
              "    .dataframe tbody tr th {\n",
              "        vertical-align: top;\n",
              "    }\n",
              "\n",
              "    .dataframe thead th {\n",
              "        text-align: right;\n",
              "    }\n",
              "</style>\n",
              "<table border=\"1\" class=\"dataframe\">\n",
              "  <thead>\n",
              "    <tr style=\"text-align: right;\">\n",
              "      <th></th>\n",
              "      <th>0</th>\n",
              "      <th>1</th>\n",
              "    </tr>\n",
              "  </thead>\n",
              "  <tbody>\n",
              "    <tr>\n",
              "      <th>0</th>\n",
              "      <td>0</td>\n",
              "      <td>[4.32410514373992, 4.266694629365928, 4.209284...</td>\n",
              "    </tr>\n",
              "    <tr>\n",
              "      <th>1</th>\n",
              "      <td>1</td>\n",
              "      <td>[1.460505219371304, 1.4413683812466398, 1.4222...</td>\n",
              "    </tr>\n",
              "    <tr>\n",
              "      <th>2</th>\n",
              "      <td>2</td>\n",
              "      <td>[3.363192889575493, 3.3185402672846105, 3.2738...</td>\n",
              "    </tr>\n",
              "    <tr>\n",
              "      <th>3</th>\n",
              "      <td>3</td>\n",
              "      <td>[4.711185678309141, 4.660154109976704, 4.60912...</td>\n",
              "    </tr>\n",
              "    <tr>\n",
              "      <th>4</th>\n",
              "      <td>4</td>\n",
              "      <td>[2.324285358887097, 2.2902643133321385, 2.2562...</td>\n",
              "    </tr>\n",
              "    <tr>\n",
              "      <th>...</th>\n",
              "      <td>...</td>\n",
              "      <td>...</td>\n",
              "    </tr>\n",
              "    <tr>\n",
              "      <th>245</th>\n",
              "      <td>245</td>\n",
              "      <td>[2.3555928391545704, 2.330077054988352, 2.3045...</td>\n",
              "    </tr>\n",
              "    <tr>\n",
              "      <th>246</th>\n",
              "      <td>246</td>\n",
              "      <td>[0.8843649016657706, 0.8716070095826614, 0.858...</td>\n",
              "    </tr>\n",
              "    <tr>\n",
              "      <th>247</th>\n",
              "      <td>247</td>\n",
              "      <td>[1.6724583627679215, 1.6554478399904424, 1.638...</td>\n",
              "    </tr>\n",
              "    <tr>\n",
              "      <th>248</th>\n",
              "      <td>248</td>\n",
              "      <td>[1.2288279879097224, 1.216070095826613, 1.2033...</td>\n",
              "    </tr>\n",
              "    <tr>\n",
              "      <th>249</th>\n",
              "      <td>249</td>\n",
              "      <td>[4.9959296520687735, 4.932140191653227, 4.8683...</td>\n",
              "    </tr>\n",
              "  </tbody>\n",
              "</table>\n",
              "<p>250 rows × 2 columns</p>\n",
              "</div>"
            ],
            "text/plain": [
              "       0                                                  1\n",
              "0      0  [4.32410514373992, 4.266694629365928, 4.209284...\n",
              "1      1  [1.460505219371304, 1.4413683812466398, 1.4222...\n",
              "2      2  [3.363192889575493, 3.3185402672846105, 3.2738...\n",
              "3      3  [4.711185678309141, 4.660154109976704, 4.60912...\n",
              "4      4  [2.324285358887097, 2.2902643133321385, 2.2562...\n",
              "..   ...                                                ...\n",
              "245  245  [2.3555928391545704, 2.330077054988352, 2.3045...\n",
              "246  246  [0.8843649016657706, 0.8716070095826614, 0.858...\n",
              "247  247  [1.6724583627679215, 1.6554478399904424, 1.638...\n",
              "248  248  [1.2288279879097224, 1.216070095826613, 1.2033...\n",
              "249  249  [4.9959296520687735, 4.932140191653227, 4.8683...\n",
              "\n",
              "[250 rows x 2 columns]"
            ]
          },
          "metadata": {},
          "execution_count": 25
        }
      ]
    },
    {
      "cell_type": "code",
      "metadata": {
        "id": "1ng63fyIgZGx"
      },
      "source": [
        "# Punto 2\n",
        "tabla_prob_no_pago =  pd.read_excel(\"Calculo PE Portafolio- Simulación Flujos Contingentes.xlsx\", sheet_name = \"Tablas Probabilidad No-Pago\")\n",
        "names = tabla_prob_no_pago.columns.tolist() \n",
        "names[0] = 'edad'\n",
        "tabla_prob_no_pago.columns = names\n",
        "names\n",
        "\n",
        "# Si el % de cuotas no pagadas es  menor al 60% entonces voy a buscar la probabilidad de default asociada a <50%\n",
        "data.loc[data['% Cuotas Pagadas'] < 0.6,'% Cuotas Pagadas'] = names[-1]"
      ],
      "execution_count": 7,
      "outputs": []
    },
    {
      "cell_type": "code",
      "metadata": {
        "colab": {
          "base_uri": "https://localhost:8080/"
        },
        "id": "OdF02ynIgx3F",
        "outputId": "305b4cbc-e98b-45d4-c9cc-1d6b9bf9ee43"
      },
      "source": [
        "def simulando_credito_i(i,tabla_prob_no_pago,sim):\n",
        "    simulaciones = []\n",
        "    while len(simulaciones) < sim: # obligar tener 1000 simulaciones\n",
        "        # probabilidad de no pago inicial:\n",
        "            # Si el % de cuotas no Pagados es inferior al 50% entonces toma una probabilidad de default mas alto de la edad del credito\n",
        "        caminata_j = []\n",
        "        contador = 0 # numero de veces que hace default dentro de la simulacion j\n",
        "        porc_cuotas_pagadas = data['% Cuotas Pagadas'].iloc[i] # score de pago\n",
        "        for flujo in range(data['Número de cuota actual'].iloc[i]+1,data['Plazo (meses)'].iloc[i]+1): # cada caminata tiene diferentes flujos\n",
        "            edad_credito_i = (flujo) / data['Plazo (meses)'].iloc[i]\n",
        "            edad_credito_i = round(edad_credito_i,1)\n",
        "            if edad_credito_i  < 1:\n",
        "                prob_no_pago = float(tabla_prob_no_pago[tabla_prob_no_pago[\"edad\"] == edad_credito_i][porc_cuotas_pagadas])\n",
        "                evento_pago = float(np.random.binomial(1,1-prob_no_pago,1))\n",
        "                #prob_no_pago = float(tabla_prob_no_pago[tabla_prob_no_pago[\"edad\"] == edad_credito_i][porc_cuotas_pagadas])\n",
        "                # si toma valor de 1 significa que realizo el pago | prob = 0 realizo el default\n",
        "                #prob_simulada = np.matrix([np.random.binomial(1,1-prob_no_pago,1) for j in range(data[\"n_cuotas_x_pagar\"].iloc[i]) ])\n",
        "                if evento_pago  == 0 and porc_cuotas_pagadas == \"<50%\" or evento_pago  == 1: \n",
        "                    # Hizo default y esta en el peor score de credito\n",
        "                    # O se mantiene en el mismo score de credito         \n",
        "                    # en cualquier caso, no se actualiza el porcentaje de cuotas pagadas              \n",
        "                    pass    \n",
        "                    \n",
        "                elif evento_pago  == 0: # hizo default y se detiera la cartera\n",
        "                    contador = contador + 1 # hizo default    \n",
        "                    porc_cuotas_pagadas = (flujo - contador) / flujo # % de cuotas pagados actualizando el evento de default\n",
        "                    porc_cuotas_pagadas = round(porc_cuotas_pagadas,1)\n",
        "                    if porc_cuotas_pagadas <= 0.5:\n",
        "                     porc_cuotas_pagadas ='<50%'\n",
        "            else: # estoy en el ultimo flujo\n",
        "                edad_credito_i = 0.9\n",
        "                prob_no_pago = float(tabla_prob_no_pago[tabla_prob_no_pago[\"edad\"] == edad_credito_i][porc_cuotas_pagadas])\n",
        "                evento_pago = float(np.random.binomial(1,1-prob_no_pago,1))\n",
        "                edad_credito_i = round(edad_credito_i,1)\n",
        "            caminata_j.append([flujo,evento_pago,edad_credito_i,porc_cuotas_pagadas,prob_no_pago])\n",
        "                \n",
        "        \n",
        "        #guardo las simulaciones\n",
        "        \n",
        "        simulaciones.append(caminata_j)\n",
        "        #simu.append(camin_j)\n",
        "    return(simulaciones)\n",
        "\n",
        "sim = 1000\n",
        "simulaciones = simulando_credito_i(i,tabla_prob_no_pago,sim)\n",
        "print(\"Simulacion 1: \")\n",
        "simulaciones[0]\n",
        "print(\"Simulacion 2: \")\n",
        "simulaciones[1]\n",
        "print(\"Simulacion 3: \")\n",
        "simulaciones[2]"
      ],
      "execution_count": 8,
      "outputs": [
        {
          "output_type": "stream",
          "name": "stdout",
          "text": [
            "Simulacion 1: \n",
            "Simulacion 2: \n",
            "Simulacion 3: \n"
          ]
        },
        {
          "output_type": "execute_result",
          "data": {
            "text/plain": [
              "[[12, 1.0, 0.5, 1.0, 0.06000000000000005],\n",
              " [13, 1.0, 0.5, 1.0, 0.06000000000000005],\n",
              " [14, 1.0, 0.6, 1.0, 0.06999999999999995],\n",
              " [15, 1.0, 0.6, 1.0, 0.06999999999999995],\n",
              " [16, 1.0, 0.7, 1.0, 0.07999999999999996],\n",
              " [17, 1.0, 0.7, 1.0, 0.07999999999999996],\n",
              " [18, 1.0, 0.8, 1.0, 0.08999999999999997],\n",
              " [19, 1.0, 0.8, 1.0, 0.08999999999999997],\n",
              " [20, 1.0, 0.8, 1.0, 0.08999999999999997],\n",
              " [21, 1.0, 0.9, 1.0, 0.09999999999999998],\n",
              " [22, 1.0, 0.9, 1.0, 0.09999999999999998],\n",
              " [23, 1.0, 0.9, 1.0, 0.09999999999999998],\n",
              " [24, 1.0, 0.9, 1.0, 0.09999999999999998]]"
            ]
          },
          "metadata": {},
          "execution_count": 8
        }
      ]
    },
    {
      "cell_type": "code",
      "metadata": {
        "colab": {
          "base_uri": "https://localhost:8080/",
          "height": 1000
        },
        "id": "PxoRxhyyhOYi",
        "outputId": "b30ded6a-dfb8-42e8-e2bd-9129cf697f13"
      },
      "source": [
        "## realizando la simulacion para todos los 259 papeles:\n",
        "\n",
        "from tqdm import tqdm \n",
        "loop = tqdm(total =data.shape[0], position = 0, leave =  False)\n",
        "\n",
        "all_sim_creditos = []\n",
        "for i in range(data.shape[0]):\n",
        "    simulaciones = simulando_credito_i(i,tabla_prob_no_pago,sim)\n",
        "    all_sim_creditos.append(simulaciones)\n",
        "    loop.set_description(\"Loading...\".format(i))\n",
        "    loop.update(1)\n",
        "\n",
        "## simulacion de cuotas futuras contigentes:\n",
        "\n",
        "n_credito = 0 #numero del credito\n",
        "creditos1[n_credito][0] # numero del credito\n",
        "creditos1[n_credito][1] # flujos del credito\n",
        "\n",
        "n_sim = 0 # simulacion 1\n",
        "print(\"La simulacion N. \" + str(n_sim+1) + \" del credito \" + str(n_credito+1) + \" es:\")\n",
        "all_sim_creditos[n_credito][n_sim]\n",
        "\n",
        "cuotas_x_evento = [] # flujo_n * evento_sim_n , me quedo con los flujos que me pagan\n",
        "cuotas_esperadas = [] #flujo_n * (1-prob_no_pago) \n",
        "loop = tqdm(total =data.shape[0], position = 0, leave =  False)\n",
        "for n_credito in range(data.shape[0]):\n",
        "    cuotas_x_evento_i = []\n",
        "    cuotas_esperadas_i = []\n",
        "    for n_sim in range(sim):\n",
        "        if len(creditos1[n_credito][1]) == 0:# el credito numero 23 falla porque esta en la cuota 24 y tiene 24 cuotas\n",
        "            cuotas_x_evento_i.append(np.array(0))\n",
        "            cuotas_esperadas_i.append(np.array(0))\n",
        "        else:\n",
        "            cuotas_x_evento_i.append(np.multiply(creditos1[n_credito][1],pd.DataFrame(all_sim_creditos[n_credito][n_sim])[1].tolist()))\n",
        "            cuotas_esperadas_i.append(np.multiply(creditos1[n_credito][1],(1-pd.DataFrame(all_sim_creditos[n_credito][n_sim])[4]).tolist()))\n",
        "    cuotas_x_evento.append(cuotas_x_evento_i)\n",
        "    cuotas_esperadas.append(cuotas_esperadas_i)\n",
        "    loop.set_description(\"Loading...\".format(n_credito))\n",
        "    loop.update(1)\n",
        "\n",
        "n_credito = 0\n",
        "n_sim = 0\n",
        "cuotas_x_evento[n_credito][n_sim]\n",
        "cuotas_esperadas[n_credito][n_sim]\n",
        "\n",
        "n_credito = 4\n",
        "print()\n",
        "print(\"El credito N. \"+str(n_credito+1) + \" tiene \" +str(np.matrix(cuotas_x_evento[n_credito]).shape[1]) + \" flujos y \" + str(np.matrix(cuotas_x_evento[n_credito]).shape[0]) + \" simulaciones\")\n",
        "\n",
        "# simulacion de montecarlo sobre los flujos hallados\n",
        "sim_cuotas_x_evento = []\n",
        "sim_cuotas_esperadas = []\n",
        "for n_credito in range(data.shape[0]):\n",
        "    sim_cuotas_x_evento.append(np.array(cuotas_x_evento[n_credito]).mean(axis=0))\n",
        "    sim_cuotas_esperadas.append(np.array(np.array(cuotas_esperadas[n_credito]).mean(axis=0)))  \n",
        "\n",
        "len(sim_cuotas_esperadas )\n",
        "len(sim_cuotas_x_evento )\n",
        "\n",
        "## Valor Presente de las cuotas futuras contractuales de los creditos:\n",
        "tir_ea = 0.1\n",
        "tir_mensual = (1+tir_ea) ** (1/12) -1\n",
        "\n",
        "vp = []\n",
        "for n_credito in range(data.shape[0]):\n",
        "    vp_i = [creditos1[n_credito][1][i] /(1+tir_mensual)**(i)  for i in range(len(creditos1[n_credito][1]))]\n",
        "    vp.append([vp_i,np.sum(vp_i)])\n",
        "\n",
        "## Valor Presente de las cuotas futuras contigentes de los creditos:\n",
        "vp_cuotas_x_evento = []\n",
        "vp_cuotas_esperadas = []\n",
        "for n_credito in range(data.shape[0]):\n",
        "    if sim_cuotas_esperadas[n_credito].shape == ():\n",
        "        vp_cuotas_x_evento.append(np.array(sim_cuotas_x_evento[n_credito] / (1+tir_mensual)**i))\n",
        "        vp_cuotas_esperadas.append(np.array(sim_cuotas_esperadas[n_credito] / (1+tir_mensual)**i))\n",
        "    else:\n",
        "        vp_cuotas_x_evento.append( [sim_cuotas_x_evento[n_credito][i] / (1+tir_mensual)**i for i in range(len(sim_cuotas_x_evento[n_credito]))])\n",
        "        vp_cuotas_esperadas.append( [sim_cuotas_esperadas[n_credito][i] / (1+tir_mensual)**i for i in range(len(sim_cuotas_esperadas[n_credito]))])\n",
        "\n",
        "len(vp_cuotas_x_evento)\n",
        "len(vp_cuotas_esperadas)\n",
        "\n",
        "\n",
        "# evento comparativo\n",
        "sum_vp_contractual = []\n",
        "sum_vp_contigentes_x_evento = []\n",
        "sum_vp_contigentes_esperadas = []\n",
        "for n_credito in range(data.shape[0]):\n",
        "    sum_vp_contractual.append(vp[n_credito][1])\n",
        "    sum_vp_contigentes_x_evento.append(np.sum(vp_cuotas_x_evento[n_credito]))\n",
        "    sum_vp_contigentes_esperadas.append(np.sum(vp_cuotas_esperadas[n_credito]))\n",
        "    \n",
        "import matplotlib.pyplot as plt\n",
        "plt.hist(sum_vp_contractual)    \n",
        "plt.title(\"Distribucion del valor presente de los creditos contractuales\")\n",
        "plt.ylabel(\"Frecuencia\")\n",
        "plt.show()\n",
        "\n",
        "plt.hist(sum_vp_contigentes_x_evento)\n",
        "plt.title(\"Distribucion del valor presente de los creditos contingentes\")\n",
        "plt.ylabel(\"Frecuencia\")\n",
        "plt.show()\n",
        "\n",
        "plt.hist(sum_vp_contigentes_esperadas)\n",
        "plt.title(\"Distribucion del valor presente de los flujos esperados\")\n",
        "plt.ylabel(\"Frecuencia\")\n",
        "plt.show()\n",
        "\n",
        "####################\n",
        "data[\"sum_vp_contractual\"] =np.array(sum_vp_contractual)\n",
        "data[\"sum_vp_contigentes_x_evento\"] =np.array(sum_vp_contigentes_x_evento)\n",
        "data[\"sum_vp_contigentes_esperadas\"] =np.array(sum_vp_contigentes_esperadas)\n",
        "\n",
        "# Gráfico de dispersión:\n",
        "fig = plt.figure(figsize=(10,7))\n",
        "plt.scatter(x=np.matrix(data)[:,-1] , y=data[\"sum_vp_contractual\"], c = data['% de cuotas Pagados'], cmap='rainbow')\n",
        "plt.xlabel('sum_vp_contigentes_esperadas')\n",
        "plt.ylabel('sum_vp_contractual')\n",
        "plt.title('Gráfico de Dispersión de los Componentes Principales')\n",
        "plt.show()\n",
        "\n",
        "np.matrix(data)[:,-1]\n",
        "data.columns\n"
      ],
      "execution_count": 9,
      "outputs": [
        {
          "output_type": "stream",
          "name": "stderr",
          "text": [
            "Loading...: 100%|██████████| 250/250 [54:32<00:00, 12.47s/it]"
          ]
        },
        {
          "output_type": "stream",
          "name": "stdout",
          "text": [
            "La simulacion N. 1 del credito 1 es:\n"
          ]
        },
        {
          "output_type": "stream",
          "name": "stderr",
          "text": [
            "Loading...: 100%|██████████| 250/250 [06:18<00:00,  1.50s/it]"
          ]
        },
        {
          "output_type": "stream",
          "name": "stdout",
          "text": [
            "\n",
            "El credito N. 5 tiene 3 flujos y 1000 simulaciones\n"
          ]
        },
        {
          "output_type": "display_data",
          "data": {
            "image/png": "[encoded data removed]",
            "text/plain": [
              "<Figure size 432x288 with 1 Axes>"
            ]
          },
          "metadata": {
            "needs_background": "light"
          }
        },
        {
          "output_type": "display_data",
          "data": {
            "image/png": "[encoded data removed]",
            "text/plain": [
              "<Figure size 432x288 with 1 Axes>"
            ]
          },
          "metadata": {
            "needs_background": "light"
          }
        },
        {
          "output_type": "display_data",
          "data": {
            "image/png": "[encoded data removed]",
            "text/plain": [
              "<Figure size 432x288 with 1 Axes>"
            ]
          },
          "metadata": {
            "needs_background": "light"
          }
        },
        {
          "output_type": "error",
          "ename": "KeyError",
          "evalue": "ignored",
          "traceback": [
            "\u001b[0;31m---------------------------------------------------------------------------\u001b[0m",
            "\u001b[0;31mKeyError\u001b[0m                                  Traceback (most recent call last)",
            "\u001b[0;32m/usr/local/lib/python3.7/dist-packages/pandas/core/indexes/base.py\u001b[0m in \u001b[0;36mget_loc\u001b[0;34m(self, key, method, tolerance)\u001b[0m\n\u001b[1;32m   2897\u001b[0m             \u001b[0;32mtry\u001b[0m\u001b[0;34m:\u001b[0m\u001b[0;34m\u001b[0m\u001b[0;34m\u001b[0m\u001b[0m\n\u001b[0;32m-> 2898\u001b[0;31m                 \u001b[0;32mreturn\u001b[0m \u001b[0mself\u001b[0m\u001b[0;34m.\u001b[0m\u001b[0m_engine\u001b[0m\u001b[0;34m.\u001b[0m\u001b[0mget_loc\u001b[0m\u001b[0;34m(\u001b[0m\u001b[0mcasted_key\u001b[0m\u001b[0;34m)\u001b[0m\u001b[0;34m\u001b[0m\u001b[0;34m\u001b[0m\u001b[0m\n\u001b[0m\u001b[1;32m   2899\u001b[0m             \u001b[0;32mexcept\u001b[0m \u001b[0mKeyError\u001b[0m \u001b[0;32mas\u001b[0m \u001b[0merr\u001b[0m\u001b[0;34m:\u001b[0m\u001b[0;34m\u001b[0m\u001b[0;34m\u001b[0m\u001b[0m\n",
            "\u001b[0;32mpandas/_libs/index.pyx\u001b[0m in \u001b[0;36mpandas._libs.index.IndexEngine.get_loc\u001b[0;34m()\u001b[0m\n",
            "\u001b[0;32mpandas/_libs/index.pyx\u001b[0m in \u001b[0;36mpandas._libs.index.IndexEngine.get_loc\u001b[0;34m()\u001b[0m\n",
            "\u001b[0;32mpandas/_libs/hashtable_class_helper.pxi\u001b[0m in \u001b[0;36mpandas._libs.hashtable.PyObjectHashTable.get_item\u001b[0;34m()\u001b[0m\n",
            "\u001b[0;32mpandas/_libs/hashtable_class_helper.pxi\u001b[0m in \u001b[0;36mpandas._libs.hashtable.PyObjectHashTable.get_item\u001b[0;34m()\u001b[0m\n",
            "\u001b[0;31mKeyError\u001b[0m: '% de cuotas Pagados'",
            "\nThe above exception was the direct cause of the following exception:\n",
            "\u001b[0;31mKeyError\u001b[0m                                  Traceback (most recent call last)",
            "\u001b[0;32m<ipython-input-9-1e874b9161b0>\u001b[0m in \u001b[0;36m<module>\u001b[0;34m()\u001b[0m\n\u001b[1;32m    114\u001b[0m \u001b[0;31m# Gráfico de dispersión:\u001b[0m\u001b[0;34m\u001b[0m\u001b[0;34m\u001b[0m\u001b[0;34m\u001b[0m\u001b[0m\n\u001b[1;32m    115\u001b[0m \u001b[0mfig\u001b[0m \u001b[0;34m=\u001b[0m \u001b[0mplt\u001b[0m\u001b[0;34m.\u001b[0m\u001b[0mfigure\u001b[0m\u001b[0;34m(\u001b[0m\u001b[0mfigsize\u001b[0m\u001b[0;34m=\u001b[0m\u001b[0;34m(\u001b[0m\u001b[0;36m10\u001b[0m\u001b[0;34m,\u001b[0m\u001b[0;36m7\u001b[0m\u001b[0;34m)\u001b[0m\u001b[0;34m)\u001b[0m\u001b[0;34m\u001b[0m\u001b[0;34m\u001b[0m\u001b[0m\n\u001b[0;32m--> 116\u001b[0;31m \u001b[0mplt\u001b[0m\u001b[0;34m.\u001b[0m\u001b[0mscatter\u001b[0m\u001b[0;34m(\u001b[0m\u001b[0mx\u001b[0m\u001b[0;34m=\u001b[0m\u001b[0mnp\u001b[0m\u001b[0;34m.\u001b[0m\u001b[0mmatrix\u001b[0m\u001b[0;34m(\u001b[0m\u001b[0mdata\u001b[0m\u001b[0;34m)\u001b[0m\u001b[0;34m[\u001b[0m\u001b[0;34m:\u001b[0m\u001b[0;34m,\u001b[0m\u001b[0;34m-\u001b[0m\u001b[0;36m1\u001b[0m\u001b[0;34m]\u001b[0m \u001b[0;34m,\u001b[0m \u001b[0my\u001b[0m\u001b[0;34m=\u001b[0m\u001b[0mdata\u001b[0m\u001b[0;34m[\u001b[0m\u001b[0;34m\"sum_vp_contractual\"\u001b[0m\u001b[0;34m]\u001b[0m\u001b[0;34m,\u001b[0m \u001b[0mc\u001b[0m \u001b[0;34m=\u001b[0m \u001b[0mdata\u001b[0m\u001b[0;34m[\u001b[0m\u001b[0;34m'% de cuotas Pagados'\u001b[0m\u001b[0;34m]\u001b[0m\u001b[0;34m,\u001b[0m \u001b[0mcmap\u001b[0m\u001b[0;34m=\u001b[0m\u001b[0;34m'rainbow'\u001b[0m\u001b[0;34m)\u001b[0m\u001b[0;34m\u001b[0m\u001b[0;34m\u001b[0m\u001b[0m\n\u001b[0m\u001b[1;32m    117\u001b[0m \u001b[0mplt\u001b[0m\u001b[0;34m.\u001b[0m\u001b[0mxlabel\u001b[0m\u001b[0;34m(\u001b[0m\u001b[0;34m'sum_vp_contigentes_esperadas'\u001b[0m\u001b[0;34m)\u001b[0m\u001b[0;34m\u001b[0m\u001b[0;34m\u001b[0m\u001b[0m\n\u001b[1;32m    118\u001b[0m \u001b[0mplt\u001b[0m\u001b[0;34m.\u001b[0m\u001b[0mylabel\u001b[0m\u001b[0;34m(\u001b[0m\u001b[0;34m'sum_vp_contractual'\u001b[0m\u001b[0;34m)\u001b[0m\u001b[0;34m\u001b[0m\u001b[0;34m\u001b[0m\u001b[0m\n",
            "\u001b[0;32m/usr/local/lib/python3.7/dist-packages/pandas/core/frame.py\u001b[0m in \u001b[0;36m__getitem__\u001b[0;34m(self, key)\u001b[0m\n\u001b[1;32m   2904\u001b[0m             \u001b[0;32mif\u001b[0m \u001b[0mself\u001b[0m\u001b[0;34m.\u001b[0m\u001b[0mcolumns\u001b[0m\u001b[0;34m.\u001b[0m\u001b[0mnlevels\u001b[0m \u001b[0;34m>\u001b[0m \u001b[0;36m1\u001b[0m\u001b[0;34m:\u001b[0m\u001b[0;34m\u001b[0m\u001b[0;34m\u001b[0m\u001b[0m\n\u001b[1;32m   2905\u001b[0m                 \u001b[0;32mreturn\u001b[0m \u001b[0mself\u001b[0m\u001b[0;34m.\u001b[0m\u001b[0m_getitem_multilevel\u001b[0m\u001b[0;34m(\u001b[0m\u001b[0mkey\u001b[0m\u001b[0;34m)\u001b[0m\u001b[0;34m\u001b[0m\u001b[0;34m\u001b[0m\u001b[0m\n\u001b[0;32m-> 2906\u001b[0;31m             \u001b[0mindexer\u001b[0m \u001b[0;34m=\u001b[0m \u001b[0mself\u001b[0m\u001b[0;34m.\u001b[0m\u001b[0mcolumns\u001b[0m\u001b[0;34m.\u001b[0m\u001b[0mget_loc\u001b[0m\u001b[0;34m(\u001b[0m\u001b[0mkey\u001b[0m\u001b[0;34m)\u001b[0m\u001b[0;34m\u001b[0m\u001b[0;34m\u001b[0m\u001b[0m\n\u001b[0m\u001b[1;32m   2907\u001b[0m             \u001b[0;32mif\u001b[0m \u001b[0mis_integer\u001b[0m\u001b[0;34m(\u001b[0m\u001b[0mindexer\u001b[0m\u001b[0;34m)\u001b[0m\u001b[0;34m:\u001b[0m\u001b[0;34m\u001b[0m\u001b[0;34m\u001b[0m\u001b[0m\n\u001b[1;32m   2908\u001b[0m                 \u001b[0mindexer\u001b[0m \u001b[0;34m=\u001b[0m \u001b[0;34m[\u001b[0m\u001b[0mindexer\u001b[0m\u001b[0;34m]\u001b[0m\u001b[0;34m\u001b[0m\u001b[0;34m\u001b[0m\u001b[0m\n",
            "\u001b[0;32m/usr/local/lib/python3.7/dist-packages/pandas/core/indexes/base.py\u001b[0m in \u001b[0;36mget_loc\u001b[0;34m(self, key, method, tolerance)\u001b[0m\n\u001b[1;32m   2898\u001b[0m                 \u001b[0;32mreturn\u001b[0m \u001b[0mself\u001b[0m\u001b[0;34m.\u001b[0m\u001b[0m_engine\u001b[0m\u001b[0;34m.\u001b[0m\u001b[0mget_loc\u001b[0m\u001b[0;34m(\u001b[0m\u001b[0mcasted_key\u001b[0m\u001b[0;34m)\u001b[0m\u001b[0;34m\u001b[0m\u001b[0;34m\u001b[0m\u001b[0m\n\u001b[1;32m   2899\u001b[0m             \u001b[0;32mexcept\u001b[0m \u001b[0mKeyError\u001b[0m \u001b[0;32mas\u001b[0m \u001b[0merr\u001b[0m\u001b[0;34m:\u001b[0m\u001b[0;34m\u001b[0m\u001b[0;34m\u001b[0m\u001b[0m\n\u001b[0;32m-> 2900\u001b[0;31m                 \u001b[0;32mraise\u001b[0m \u001b[0mKeyError\u001b[0m\u001b[0;34m(\u001b[0m\u001b[0mkey\u001b[0m\u001b[0;34m)\u001b[0m \u001b[0;32mfrom\u001b[0m \u001b[0merr\u001b[0m\u001b[0;34m\u001b[0m\u001b[0;34m\u001b[0m\u001b[0m\n\u001b[0m\u001b[1;32m   2901\u001b[0m \u001b[0;34m\u001b[0m\u001b[0m\n\u001b[1;32m   2902\u001b[0m         \u001b[0;32mif\u001b[0m \u001b[0mtolerance\u001b[0m \u001b[0;32mis\u001b[0m \u001b[0;32mnot\u001b[0m \u001b[0;32mNone\u001b[0m\u001b[0;34m:\u001b[0m\u001b[0;34m\u001b[0m\u001b[0;34m\u001b[0m\u001b[0m\n",
            "\u001b[0;31mKeyError\u001b[0m: '% de cuotas Pagados'"
          ]
        },
        {
          "output_type": "display_data",
          "data": {
            "text/plain": [
              "<Figure size 720x504 with 0 Axes>"
            ]
          },
          "metadata": {}
        }
      ]
    },
    {
      "cell_type": "code",
      "metadata": {
        "colab": {
          "base_uri": "https://localhost:8080/",
          "height": 445
        },
        "id": "l-4MSY6DwWXE",
        "outputId": "15e29855-a6c4-48ae-ccc0-11babee8e07c"
      },
      "source": [
        "# Gráfico de dispersión:\n",
        "fig = plt.figure(figsize=(10,7))\n",
        "plt.scatter(x = data[\"n_cuotas_x_pagar\"] , y=data[\"sum_vp_contractual\"], color='Red')\n",
        "# plt.xlabel('sum_vp_contigentes_esperadas')\n",
        "# plt.ylabel('sum_vp_contractual')\n",
        "# plt.title('Gráfico de Dispersión de titulos')\n",
        "# plt.show()\n",
        "\n",
        "plt.scatter(x=data[\"n_cuotas_x_pagar\"] , y=data[\"sum_vp_contigentes_x_evento\"], color = '#88c999')\n",
        "# plt.show()"
      ],
      "execution_count": 38,
      "outputs": [
        {
          "output_type": "execute_result",
          "data": {
            "text/plain": [
              "<matplotlib.collections.PathCollection at 0x7f996f2f3c50>"
            ]
          },
          "metadata": {},
          "execution_count": 38
        },
        {
          "output_type": "display_data",
          "data": {
            "image/png": "[encoded data removed]",
            "text/plain": [
              "<Figure size 720x504 with 1 Axes>"
            ]
          },
          "metadata": {
            "needs_background": "light"
          }
        }
      ]
    },
    {
      "cell_type": "code",
      "metadata": {
        "colab": {
          "base_uri": "https://localhost:8080/",
          "height": 459
        },
        "id": "oYvdsRJVyd7e",
        "outputId": "39d7dd97-fa51-4f32-a3a7-43ad92861384"
      },
      "source": [
        "fig = plt.figure(figsize=(10,7))\n",
        "plt.scatter(x=data[\"sum_vp_contigentes_x_evento\"] , y=data[\"sum_vp_contractual\"], color = '#88c999')\n",
        "plt.xlabel('sum_vp_contigentes_x_evento')\n",
        "plt.ylabel('sum_vp_contractual')\n",
        "plt.title('Gráfico de Dispersión de titulos')\n",
        "plt.show()"
      ],
      "execution_count": 14,
      "outputs": [
        {
          "output_type": "display_data",
          "data": {
            "image/png": "[encoded data removed]",
            "text/plain": [
              "<Figure size 720x504 with 1 Axes>"
            ]
          },
          "metadata": {
            "needs_background": "light"
          }
        }
      ]
    },
    {
      "cell_type": "code",
      "metadata": {
        "id": "NWjESQam9jaW"
      },
      "source": [
        "data[\"PE_Portafolio\"] = data[\"sum_vp_contractual\"] - data[\"sum_vp_contigentes_x_evento\"]"
      ],
      "execution_count": 26,
      "outputs": []
    },
    {
      "cell_type": "code",
      "metadata": {
        "colab": {
          "base_uri": "https://localhost:8080/"
        },
        "id": "aW-nCHy5HDN-",
        "outputId": "8b9370d0-f3c2-4b37-8604-7de007dcb774"
      },
      "source": [
        "print(\"la perdida esperada del portaflio es : \" + str(data[\"PE_Portafolio\"].sum()))"
      ],
      "execution_count": 29,
      "outputs": [
        {
          "output_type": "stream",
          "name": "stdout",
          "text": [
            "la perdida esperada del portaflio es : 2181.336697002698\n"
          ]
        }
      ]
    },
    {
      "cell_type": "code",
      "metadata": {
        "colab": {
          "base_uri": "https://localhost:8080/",
          "height": 412
        },
        "id": "UPQw2NsW9jOP",
        "outputId": "4ee1c234-df47-45d7-c34f-01917fe11dca"
      },
      "source": [
        "data"
      ],
      "execution_count": 30,
      "outputs": [
        {
          "output_type": "execute_result",
          "data": {
            "text/html": [
              "<div>\n",
              "<style scoped>\n",
              "    .dataframe tbody tr th:only-of-type {\n",
              "        vertical-align: middle;\n",
              "    }\n",
              "\n",
              "    .dataframe tbody tr th {\n",
              "        vertical-align: top;\n",
              "    }\n",
              "\n",
              "    .dataframe thead th {\n",
              "        text-align: right;\n",
              "    }\n",
              "</style>\n",
              "<table border=\"1\" class=\"dataframe\">\n",
              "  <thead>\n",
              "    <tr style=\"text-align: right;\">\n",
              "      <th></th>\n",
              "      <th>Crédito</th>\n",
              "      <th>Plazo (meses)</th>\n",
              "      <th>Capital Prestado</th>\n",
              "      <th>Tasa de Interes Efectivo Anual</th>\n",
              "      <th>Número de cuota actual</th>\n",
              "      <th>% Cuotas Pagadas</th>\n",
              "      <th>n_cuotas_x_pagar</th>\n",
              "      <th>sum_vp_contractual</th>\n",
              "      <th>sum_vp_contigentes_x_evento</th>\n",
              "      <th>sum_vp_contigentes_esperadas</th>\n",
              "      <th>PE_Portafolio</th>\n",
              "    </tr>\n",
              "  </thead>\n",
              "  <tbody>\n",
              "    <tr>\n",
              "      <th>0</th>\n",
              "      <td>1</td>\n",
              "      <td>24</td>\n",
              "      <td>90</td>\n",
              "      <td>0.2</td>\n",
              "      <td>14</td>\n",
              "      <td>&lt;50%</td>\n",
              "      <td>10</td>\n",
              "      <td>39.276598</td>\n",
              "      <td>11.385699</td>\n",
              "      <td>11.091364</td>\n",
              "      <td>27.890899</td>\n",
              "    </tr>\n",
              "    <tr>\n",
              "      <th>1</th>\n",
              "      <td>2</td>\n",
              "      <td>24</td>\n",
              "      <td>30</td>\n",
              "      <td>0.2</td>\n",
              "      <td>13</td>\n",
              "      <td>&lt;50%</td>\n",
              "      <td>11</td>\n",
              "      <td>14.449131</td>\n",
              "      <td>4.131827</td>\n",
              "      <td>4.193655</td>\n",
              "      <td>10.317304</td>\n",
              "    </tr>\n",
              "    <tr>\n",
              "      <th>2</th>\n",
              "      <td>3</td>\n",
              "      <td>24</td>\n",
              "      <td>70</td>\n",
              "      <td>0.2</td>\n",
              "      <td>14</td>\n",
              "      <td>1</td>\n",
              "      <td>10</td>\n",
              "      <td>30.548465</td>\n",
              "      <td>27.462613</td>\n",
              "      <td>27.460442</td>\n",
              "      <td>3.085852</td>\n",
              "    </tr>\n",
              "    <tr>\n",
              "      <th>3</th>\n",
              "      <td>4</td>\n",
              "      <td>36</td>\n",
              "      <td>120</td>\n",
              "      <td>0.2</td>\n",
              "      <td>9</td>\n",
              "      <td>&lt;50%</td>\n",
              "      <td>27</td>\n",
              "      <td>99.356676</td>\n",
              "      <td>35.733406</td>\n",
              "      <td>35.741242</td>\n",
              "      <td>63.623271</td>\n",
              "    </tr>\n",
              "    <tr>\n",
              "      <th>4</th>\n",
              "      <td>5</td>\n",
              "      <td>36</td>\n",
              "      <td>80</td>\n",
              "      <td>0.2</td>\n",
              "      <td>33</td>\n",
              "      <td>0.9</td>\n",
              "      <td>3</td>\n",
              "      <td>6.817117</td>\n",
              "      <td>5.912556</td>\n",
              "      <td>5.887162</td>\n",
              "      <td>0.904561</td>\n",
              "    </tr>\n",
              "    <tr>\n",
              "      <th>...</th>\n",
              "      <td>...</td>\n",
              "      <td>...</td>\n",
              "      <td>...</td>\n",
              "      <td>...</td>\n",
              "      <td>...</td>\n",
              "      <td>...</td>\n",
              "      <td>...</td>\n",
              "      <td>...</td>\n",
              "      <td>...</td>\n",
              "      <td>...</td>\n",
              "      <td>...</td>\n",
              "    </tr>\n",
              "    <tr>\n",
              "      <th>245</th>\n",
              "      <td>246</td>\n",
              "      <td>36</td>\n",
              "      <td>60</td>\n",
              "      <td>0.2</td>\n",
              "      <td>9</td>\n",
              "      <td>&lt;50%</td>\n",
              "      <td>27</td>\n",
              "      <td>49.678338</td>\n",
              "      <td>17.887719</td>\n",
              "      <td>17.870621</td>\n",
              "      <td>31.790619</td>\n",
              "    </tr>\n",
              "    <tr>\n",
              "      <th>246</th>\n",
              "      <td>247</td>\n",
              "      <td>36</td>\n",
              "      <td>30</td>\n",
              "      <td>0.2</td>\n",
              "      <td>32</td>\n",
              "      <td>0.9</td>\n",
              "      <td>4</td>\n",
              "      <td>3.420560</td>\n",
              "      <td>2.960336</td>\n",
              "      <td>2.962280</td>\n",
              "      <td>0.460224</td>\n",
              "    </tr>\n",
              "    <tr>\n",
              "      <th>247</th>\n",
              "      <td>248</td>\n",
              "      <td>36</td>\n",
              "      <td>40</td>\n",
              "      <td>0.2</td>\n",
              "      <td>3</td>\n",
              "      <td>0.7</td>\n",
              "      <td>33</td>\n",
              "      <td>41.168146</td>\n",
              "      <td>31.953316</td>\n",
              "      <td>32.037293</td>\n",
              "      <td>9.214829</td>\n",
              "    </tr>\n",
              "    <tr>\n",
              "      <th>248</th>\n",
              "      <td>249</td>\n",
              "      <td>36</td>\n",
              "      <td>30</td>\n",
              "      <td>0.2</td>\n",
              "      <td>5</td>\n",
              "      <td>0.9</td>\n",
              "      <td>31</td>\n",
              "      <td>28.844579</td>\n",
              "      <td>25.044206</td>\n",
              "      <td>25.147956</td>\n",
              "      <td>3.800372</td>\n",
              "    </tr>\n",
              "    <tr>\n",
              "      <th>249</th>\n",
              "      <td>250</td>\n",
              "      <td>24</td>\n",
              "      <td>100</td>\n",
              "      <td>0.2</td>\n",
              "      <td>11</td>\n",
              "      <td>1</td>\n",
              "      <td>13</td>\n",
              "      <td>57.293784</td>\n",
              "      <td>51.760497</td>\n",
              "      <td>51.665599</td>\n",
              "      <td>5.533287</td>\n",
              "    </tr>\n",
              "  </tbody>\n",
              "</table>\n",
              "<p>250 rows × 11 columns</p>\n",
              "</div>"
            ],
            "text/plain": [
              "     Crédito  Plazo (meses)  ...  sum_vp_contigentes_esperadas  PE_Portafolio\n",
              "0          1             24  ...                     11.091364      27.890899\n",
              "1          2             24  ...                      4.193655      10.317304\n",
              "2          3             24  ...                     27.460442       3.085852\n",
              "3          4             36  ...                     35.741242      63.623271\n",
              "4          5             36  ...                      5.887162       0.904561\n",
              "..       ...            ...  ...                           ...            ...\n",
              "245      246             36  ...                     17.870621      31.790619\n",
              "246      247             36  ...                      2.962280       0.460224\n",
              "247      248             36  ...                     32.037293       9.214829\n",
              "248      249             36  ...                     25.147956       3.800372\n",
              "249      250             24  ...                     51.665599       5.533287\n",
              "\n",
              "[250 rows x 11 columns]"
            ]
          },
          "metadata": {},
          "execution_count": 30
        }
      ]
    }
  ]
}