{
  "nbformat": 4,
  "nbformat_minor": 0,
  "metadata": {
    "kernelspec": {
      "display_name": "Python 3",
      "language": "python",
      "name": "python3"
    },
    "language_info": {
      "codemirror_mode": {
        "name": "ipython",
        "version": 3
      },
      "file_extension": ".py",
      "mimetype": "text/x-python",
      "name": "python",
      "nbconvert_exporter": "python",
      "pygments_lexer": "ipython3",
      "version": "3.7.6"
    },
    "colab": {
      "name": "lab_111.ipynb",
      "provenance": [],
      "collapsed_sections": [],
      "include_colab_link": true
    }
  },
  "cells": [
    {
      "cell_type": "markdown",
      "metadata": {
        "id": "view-in-github",
        "colab_type": "text"
      },
      "source": [
        "<a href=\"https://colab.research.google.com/github/Redzoro1993/Introduction-to-Portfolio-Construction-and-Analysis-with-Python/blob/master/lab_111.ipynb\" target=\"_parent\"><img src=\"https://colab.research.google.com/assets/colab-badge.svg\" alt=\"Open In Colab\"/></a>"
      ]
    },
    {
      "cell_type": "markdown",
      "metadata": {
        "id": "jzfoVm1krBh4",
        "colab_type": "text"
      },
      "source": [
        "# Lack of Robustness of the Markowitz procedure and the GMV portfolio\n",
        "\n",
        "Although the promise of the Markowitz procedure is exciting, in tends to fall apart in practice. The problem is that we rarely know Expected Returns and Expected Covariance in advance. Our estimates almost certainly contain some estimation error, and we'll see that the procedure is highly sensitive to these errors, which tend to get exaggerated in the portfolio.\n",
        "\n",
        "To see this, let's start by loading up our data as usual."
      ]
    },
    {
      "cell_type": "code",
      "metadata": {
        "id": "CG-p0DAKrDTh",
        "colab_type": "code",
        "colab": {
          "base_uri": "https://localhost:8080/",
          "height": 146
        },
        "outputId": "ab1848a2-3932-44b6-935e-cd4f20473547"
      },
      "source": [
        "import os\n",
        "!git clone https://github.com/Redzoro1993/Introduction-to-Portfolio-Construction-and-Analysis-with-Python\n",
        "os.chdir(\"/content/Introduction-to-Portfolio-Construction-and-Analysis-with-Python/Modules\")\n",
        "!python3 edhec_risk_kit_111.py"
      ],
      "execution_count": 1,
      "outputs": [
        {
          "output_type": "stream",
          "text": [
            "Cloning into 'Introduction-to-Portfolio-Construction-and-Analysis-with-Python'...\n",
            "remote: Enumerating objects: 50, done.\u001b[K\n",
            "remote: Counting objects:   2% (1/50)\u001b[K\rremote: Counting objects:   4% (2/50)\u001b[K\rremote: Counting objects:   6% (3/50)\u001b[K\rremote: Counting objects:   8% (4/50)\u001b[K\rremote: Counting objects:  10% (5/50)\u001b[K\rremote: Counting objects:  12% (6/50)\u001b[K\rremote: Counting objects:  14% (7/50)\u001b[K\rremote: Counting objects:  16% (8/50)\u001b[K\rremote: Counting objects:  18% (9/50)\u001b[K\rremote: Counting objects:  20% (10/50)\u001b[K\rremote: Counting objects:  22% (11/50)\u001b[K\rremote: Counting objects:  24% (12/50)\u001b[K\rremote: Counting objects:  26% (13/50)\u001b[K\rremote: Counting objects:  28% (14/50)\u001b[K\rremote: Counting objects:  30% (15/50)\u001b[K\rremote: Counting objects:  32% (16/50)\u001b[K\rremote: Counting objects:  34% (17/50)\u001b[K\rremote: Counting objects:  36% (18/50)\u001b[K\rremote: Counting objects:  38% (19/50)\u001b[K\rremote: Counting objects:  40% (20/50)\u001b[K\rremote: Counting objects:  42% (21/50)\u001b[K\rremote: Counting objects:  44% (22/50)\u001b[K\rremote: Counting objects:  46% (23/50)\u001b[K\rremote: Counting objects:  48% (24/50)\u001b[K\rremote: Counting objects:  50% (25/50)\u001b[K\rremote: Counting objects:  52% (26/50)\u001b[K\rremote: Counting objects:  54% (27/50)\u001b[K\rremote: Counting objects:  56% (28/50)\u001b[K\rremote: Counting objects:  58% (29/50)\u001b[K\rremote: Counting objects:  60% (30/50)\u001b[K\rremote: Counting objects:  62% (31/50)\u001b[K\rremote: Counting objects:  64% (32/50)\u001b[K\rremote: Counting objects:  66% (33/50)\u001b[K\rremote: Counting objects:  68% (34/50)\u001b[K\rremote: Counting objects:  70% (35/50)\u001b[K\rremote: Counting objects:  72% (36/50)\u001b[K\rremote: Counting objects:  74% (37/50)\u001b[K\rremote: Counting objects:  76% (38/50)\u001b[K\rremote: Counting objects:  78% (39/50)\u001b[K\rremote: Counting objects:  80% (40/50)\u001b[K\rremote: Counting objects:  82% (41/50)\u001b[K\rremote: Counting objects:  84% (42/50)\u001b[K\rremote: Counting objects:  86% (43/50)\u001b[K\rremote: Counting objects:  88% (44/50)\u001b[K\rremote: Counting objects:  90% (45/50)\u001b[K\rremote: Counting objects:  92% (46/50)\u001b[K\rremote: Counting objects:  94% (47/50)\u001b[K\rremote: Counting objects:  96% (48/50)\u001b[K\rremote: Counting objects:  98% (49/50)\u001b[K\rremote: Counting objects: 100% (50/50)\u001b[K\rremote: Counting objects: 100% (50/50), done.\u001b[K\n",
            "remote: Compressing objects:   2% (1/50)\u001b[K\rremote: Compressing objects:   4% (2/50)\u001b[K\rremote: Compressing objects:   6% (3/50)\u001b[K\rremote: Compressing objects:   8% (4/50)\u001b[K\rremote: Compressing objects:  10% (5/50)\u001b[K\rremote: Compressing objects:  12% (6/50)\u001b[K\rremote: Compressing objects:  14% (7/50)\u001b[K\rremote: Compressing objects:  16% (8/50)\u001b[K\rremote: Compressing objects:  18% (9/50)\u001b[K\rremote: Compressing objects:  20% (10/50)\u001b[K\rremote: Compressing objects:  22% (11/50)\u001b[K\rremote: Compressing objects:  24% (12/50)\u001b[K\rremote: Compressing objects:  26% (13/50)\u001b[K\rremote: Compressing objects:  28% (14/50)\u001b[K\rremote: Compressing objects:  30% (15/50)\u001b[K\rremote: Compressing objects:  32% (16/50)\u001b[K\rremote: Compressing objects:  34% (17/50)\u001b[K\rremote: Compressing objects:  36% (18/50)\u001b[K\rremote: Compressing objects:  38% (19/50)\u001b[K\rremote: Compressing objects:  40% (20/50)\u001b[K\rremote: Compressing objects:  42% (21/50)\u001b[K\rremote: Compressing objects:  44% (22/50)\u001b[K\rremote: Compressing objects:  46% (23/50)\u001b[K\rremote: Compressing objects:  48% (24/50)\u001b[K\rremote: Compressing objects:  50% (25/50)\u001b[K\rremote: Compressing objects:  52% (26/50)\u001b[K\rremote: Compressing objects:  54% (27/50)\u001b[K\rremote: Compressing objects:  56% (28/50)\u001b[K\rremote: Compressing objects:  58% (29/50)\u001b[K\rremote: Compressing objects:  60% (30/50)\u001b[K\rremote: Compressing objects:  62% (31/50)\u001b[K\rremote: Compressing objects:  64% (32/50)\u001b[K\rremote: Compressing objects:  66% (33/50)\u001b[K\rremote: Compressing objects:  68% (34/50)\u001b[K\rremote: Compressing objects:  70% (35/50)\u001b[K\rremote: Compressing objects:  72% (36/50)\u001b[K\rremote: Compressing objects:  74% (37/50)\u001b[K\rremote: Compressing objects:  76% (38/50)\u001b[K\rremote: Compressing objects:  78% (39/50)\u001b[K\rremote: Compressing objects:  80% (40/50)\u001b[K\rremote: Compressing objects:  82% (41/50)\u001b[K\rremote: Compressing objects:  84% (42/50)\u001b[K\rremote: Compressing objects:  86% (43/50)\u001b[K\rremote: Compressing objects:  88% (44/50)\u001b[K\rremote: Compressing objects:  90% (45/50)\u001b[K\rremote: Compressing objects:  92% (46/50)\u001b[K\rremote: Compressing objects:  94% (47/50)\u001b[K\rremote: Compressing objects:  96% (48/50)\u001b[K\rremote: Compressing objects:  98% (49/50)\u001b[K\rremote: Compressing objects: 100% (50/50)\u001b[K\rremote: Compressing objects: 100% (50/50), done.\u001b[K\n",
            "Receiving objects:   0% (1/160)   \rReceiving objects:   1% (2/160)   \rReceiving objects:   2% (4/160)   \rReceiving objects:   3% (5/160)   \rReceiving objects:   4% (7/160)   \rReceiving objects:   5% (8/160)   \rReceiving objects:   6% (10/160)   \rReceiving objects:   7% (12/160)   \rReceiving objects:   8% (13/160)   \rReceiving objects:   9% (15/160)   \rReceiving objects:  10% (16/160)   \rReceiving objects:  11% (18/160)   \rReceiving objects:  12% (20/160)   \rReceiving objects:  13% (21/160)   \rReceiving objects:  14% (23/160)   \rReceiving objects:  15% (24/160)   \rReceiving objects:  16% (26/160)   \rReceiving objects:  17% (28/160)   \rReceiving objects:  18% (29/160)   \rReceiving objects:  19% (31/160)   \rReceiving objects:  20% (32/160)   \rReceiving objects:  21% (34/160)   \rReceiving objects:  22% (36/160)   \rReceiving objects:  23% (37/160)   \rReceiving objects:  24% (39/160)   \rReceiving objects:  25% (40/160)   \rReceiving objects:  26% (42/160)   \rReceiving objects:  27% (44/160)   \rReceiving objects:  28% (45/160)   \rReceiving objects:  29% (47/160)   \rReceiving objects:  30% (48/160)   \rReceiving objects:  31% (50/160)   \rReceiving objects:  32% (52/160)   \rReceiving objects:  33% (53/160)   \rReceiving objects:  34% (55/160)   \rReceiving objects:  35% (56/160)   \rReceiving objects:  36% (58/160)   \rReceiving objects:  37% (60/160)   \rReceiving objects:  38% (61/160)   \rReceiving objects:  39% (63/160)   \rReceiving objects:  40% (64/160)   \rReceiving objects:  41% (66/160)   \rReceiving objects:  42% (68/160)   \rReceiving objects:  43% (69/160)   \rReceiving objects:  44% (71/160)   \rReceiving objects:  45% (72/160)   \rReceiving objects:  46% (74/160)   \rReceiving objects:  47% (76/160)   \rReceiving objects:  48% (77/160)   \rReceiving objects:  49% (79/160)   \rReceiving objects:  50% (80/160)   \rReceiving objects:  51% (82/160)   \rReceiving objects:  52% (84/160)   \rReceiving objects:  53% (85/160)   \rReceiving objects:  54% (87/160)   \rReceiving objects:  55% (88/160)   \rReceiving objects:  56% (90/160)   \rReceiving objects:  57% (92/160)   \rReceiving objects:  58% (93/160)   \rReceiving objects:  59% (95/160)   \rReceiving objects:  60% (96/160)   \rReceiving objects:  61% (98/160)   \rReceiving objects:  62% (100/160)   \rReceiving objects:  63% (101/160)   \rReceiving objects:  64% (103/160)   \rReceiving objects:  65% (104/160)   \rReceiving objects:  66% (106/160)   \rReceiving objects:  67% (108/160)   \rReceiving objects:  68% (109/160)   \rReceiving objects:  69% (111/160)   \rReceiving objects:  70% (112/160)   \rReceiving objects:  71% (114/160)   \rReceiving objects:  72% (116/160)   \rReceiving objects:  73% (117/160)   \rReceiving objects:  74% (119/160)   \rReceiving objects:  75% (120/160)   \rReceiving objects:  76% (122/160)   \rReceiving objects:  77% (124/160)   \rReceiving objects:  78% (125/160)   \rReceiving objects:  79% (127/160)   \rReceiving objects:  80% (128/160)   \rReceiving objects:  81% (130/160)   \rReceiving objects:  82% (132/160)   \rReceiving objects:  83% (133/160)   \rReceiving objects:  84% (135/160)   \rReceiving objects:  85% (136/160)   \rremote: Total 160 (delta 28), reused 0 (delta 0), pack-reused 110\u001b[K\n",
            "Receiving objects:  86% (138/160)   \rReceiving objects:  87% (140/160)   \rReceiving objects:  88% (141/160)   \rReceiving objects:  89% (143/160)   \rReceiving objects:  90% (144/160)   \rReceiving objects:  91% (146/160)   \rReceiving objects:  92% (148/160)   \rReceiving objects:  93% (149/160)   \rReceiving objects:  94% (151/160)   \rReceiving objects:  95% (152/160)   \rReceiving objects:  96% (154/160)   \rReceiving objects:  97% (156/160)   \rReceiving objects:  98% (157/160)   \rReceiving objects:  99% (159/160)   \rReceiving objects: 100% (160/160)   \rReceiving objects: 100% (160/160), 1.53 MiB | 18.19 MiB/s, done.\n",
            "Resolving deltas:   0% (0/79)   \rResolving deltas:   1% (1/79)   \rResolving deltas:   2% (2/79)   \rResolving deltas:  16% (13/79)   \rResolving deltas:  37% (30/79)   \rResolving deltas:  39% (31/79)   \rResolving deltas:  48% (38/79)   \rResolving deltas:  62% (49/79)   \rResolving deltas:  78% (62/79)   \rResolving deltas:  87% (69/79)   \rResolving deltas:  97% (77/79)   \rResolving deltas:  98% (78/79)   \rResolving deltas: 100% (79/79)   \rResolving deltas: 100% (79/79), done.\n"
          ],
          "name": "stdout"
        }
      ]
    },
    {
      "cell_type": "code",
      "metadata": {
        "id": "uF2pUb6HrBh6",
        "colab_type": "code",
        "colab": {}
      },
      "source": [
        "%load_ext autoreload\n",
        "%autoreload 2\n",
        "%matplotlib inline\n",
        "import edhec_risk_kit_111 as erk\n",
        "\n",
        "ind = erk.get_ind_returns()\n",
        "er = erk.annualize_rets(ind[\"1996\":\"2000\"], 12)\n",
        "cov = ind[\"1996\":\"2000\"].cov()"
      ],
      "execution_count": 2,
      "outputs": []
    },
    {
      "cell_type": "markdown",
      "metadata": {
        "id": "kTCdNUt0rBiD",
        "colab_type": "text"
      },
      "source": [
        "Let's look at a simple 2-asset portfolio and find the optimal weights if we had known what the returns would be."
      ]
    },
    {
      "cell_type": "code",
      "metadata": {
        "id": "fNtbUHPerBiG",
        "colab_type": "code",
        "colab": {
          "base_uri": "https://localhost:8080/",
          "height": 35
        },
        "outputId": "e051216e-5149-4187-eff5-374f58c97cab"
      },
      "source": [
        "l = [\"Food\", \"Steel\"]\n",
        "import numpy as np\n",
        "erk.msr(0.1, np.array(er[l]), cov.loc[l,l])"
      ],
      "execution_count": 3,
      "outputs": [
        {
          "output_type": "execute_result",
          "data": {
            "text/plain": [
              "array([0.75040362, 0.24959638])"
            ]
          },
          "metadata": {
            "tags": []
          },
          "execution_count": 3
        }
      ]
    },
    {
      "cell_type": "markdown",
      "metadata": {
        "id": "pye3DwzUrBiO",
        "colab_type": "text"
      },
      "source": [
        "Let's look at the returns of the two assets that dictated those weights"
      ]
    },
    {
      "cell_type": "code",
      "metadata": {
        "id": "upBflzVDrBiQ",
        "colab_type": "code",
        "colab": {
          "base_uri": "https://localhost:8080/",
          "height": 72
        },
        "outputId": "6a3a08d1-bc7e-49d0-8d03-7c03eb9c349f"
      },
      "source": [
        "er[l]"
      ],
      "execution_count": 4,
      "outputs": [
        {
          "output_type": "execute_result",
          "data": {
            "text/plain": [
              "Food     0.116799\n",
              "Steel    0.115809\n",
              "dtype: float64"
            ]
          },
          "metadata": {
            "tags": []
          },
          "execution_count": 4
        }
      ]
    },
    {
      "cell_type": "markdown",
      "metadata": {
        "id": "KbmlpjafrBiW",
        "colab_type": "text"
      },
      "source": [
        "Now assume that we had a really good estimator, and we were off by only a fraction of a percent in our estimate, and we had estimated a return of 11 and 12 percent respectively for Food and Steel"
      ]
    },
    {
      "cell_type": "code",
      "metadata": {
        "id": "GuNHMyo5rBiW",
        "colab_type": "code",
        "colab": {
          "base_uri": "https://localhost:8080/",
          "height": 35
        },
        "outputId": "ac85627b-ed5d-4653-eb3b-81be5cc0447b"
      },
      "source": [
        "erk.msr(0.1, np.array([.11, .12]), cov.loc[l,l])"
      ],
      "execution_count": 5,
      "outputs": [
        {
          "output_type": "execute_result",
          "data": {
            "text/plain": [
              "array([0.57930354, 0.42069646])"
            ]
          },
          "metadata": {
            "tags": []
          },
          "execution_count": 5
        }
      ]
    },
    {
      "cell_type": "markdown",
      "metadata": {
        "id": "mjcMwGoZrBic",
        "colab_type": "text"
      },
      "source": [
        "We see that even a small change in the estimate causes a major change in the weights. What if we were off by around 1% to 2% percent in each estimate and estimated 10% and 13% instead of the return of 11.6% and 11.5%?"
      ]
    },
    {
      "cell_type": "code",
      "metadata": {
        "id": "HLn5FNVIrBie",
        "colab_type": "code",
        "colab": {
          "base_uri": "https://localhost:8080/",
          "height": 35
        },
        "outputId": "200e880a-3cc1-4214-8e9b-f587d872cb50"
      },
      "source": [
        "erk.msr(0.1, np.array([.10, .13]), cov.loc[l,l])"
      ],
      "execution_count": 6,
      "outputs": [
        {
          "output_type": "execute_result",
          "data": {
            "text/plain": [
              "array([0., 1.])"
            ]
          },
          "metadata": {
            "tags": []
          },
          "execution_count": 6
        }
      ]
    },
    {
      "cell_type": "markdown",
      "metadata": {
        "id": "D_VL5zw1rBil",
        "colab_type": "text"
      },
      "source": [
        "And if we had made the _same_ estimation error, but the error went the other way (13% and 10%)?"
      ]
    },
    {
      "cell_type": "code",
      "metadata": {
        "id": "rFNyimzkrBil",
        "colab_type": "code",
        "colab": {
          "base_uri": "https://localhost:8080/",
          "height": 35
        },
        "outputId": "0e75017d-c006-4b79-81f7-a2858046ecef"
      },
      "source": [
        "erk.msr(0.1, np.array([.13, .10]), cov.loc[l,l])"
      ],
      "execution_count": 7,
      "outputs": [
        {
          "output_type": "execute_result",
          "data": {
            "text/plain": [
              "array([1., 0.])"
            ]
          },
          "metadata": {
            "tags": []
          },
          "execution_count": 7
        }
      ]
    },
    {
      "cell_type": "markdown",
      "metadata": {
        "id": "kSadjQ0HrBiq",
        "colab_type": "text"
      },
      "source": [
        "# Avoiding estimating returns\n",
        "\n",
        "Let's look at the efficient frontier one more time, and plot the efficient frontier again.\n"
      ]
    },
    {
      "cell_type": "code",
      "metadata": {
        "id": "ZAy3jrDhrBir",
        "colab_type": "code",
        "colab": {
          "base_uri": "https://localhost:8080/",
          "height": 279
        },
        "outputId": "dee53400-6fb8-467a-c563-a78971c20273"
      },
      "source": [
        "erk.plot_ef(20, er, cov, show_cml=True, riskfree_rate=0.1)"
      ],
      "execution_count": 8,
      "outputs": [
        {
          "output_type": "display_data",
          "data": {
            "image/png": "[encoded data removed]",
            "text/plain": [
              "<Figure size 432x288 with 1 Axes>"
            ]
          },
          "metadata": {
            "tags": [],
            "needs_background": "light"
          }
        }
      ]
    },
    {
      "cell_type": "markdown",
      "metadata": {
        "id": "ulTkmKCvrBiv",
        "colab_type": "text"
      },
      "source": [
        "One way to avoid this estimation game is to skip the entire process and just rely on _naive_ diversification, which means hold all stocks with equal weight. We can add the EW portfolio to the plot by enhancing the `plot_ef` function as follows:\n",
        "\n",
        "```python\n",
        "    if show_ew:\n",
        "        n = er.shape[0]\n",
        "        w_ew = np.repeat(1/n, n)\n",
        "        r_ew = portfolio_return(w_ew, er)\n",
        "        vol_ew = portfolio_vol(w_ew, cov)\n",
        "        # add EW\n",
        "        ax.plot([vol_ew], [r_ew], color='goldenrod', marker='o', markersize=10)\n",
        "```\n"
      ]
    },
    {
      "cell_type": "code",
      "metadata": {
        "id": "FPSLTSHqrBix",
        "colab_type": "code",
        "colab": {
          "base_uri": "https://localhost:8080/",
          "height": 279
        },
        "outputId": "35b2a57f-682f-44a4-df85-5a92685fb957"
      },
      "source": [
        "erk.plot_ef(20, er, cov, show_cml=True, riskfree_rate=0.1, show_ew=True)"
      ],
      "execution_count": 9,
      "outputs": [
        {
          "output_type": "display_data",
          "data": {
            "image/png": "[encoded data removed]",
            "text/plain": [
              "<Figure size 432x288 with 1 Axes>"
            ]
          },
          "metadata": {
            "tags": [],
            "needs_background": "light"
          }
        }
      ]
    },
    {
      "cell_type": "markdown",
      "metadata": {
        "id": "Mlg_cFO4rBi2",
        "colab_type": "text"
      },
      "source": [
        "Researchers have shown that the EW portfolio is a remarkably good portfolio to hold. In fact, there is overwhelming siupport for the idea that it is a far better portfolio to hold than a cap-weighted equivalent. We'll examine this in later sections, but as you can see, the EW portfolio is far inside the efficient frontier, but it requires no estimation whatsoever.\n",
        "\n",
        "However, there is another point on the efficient frontier that is very interesting. This is the _nose_ of the hull, which is the portfolio of lowest volatility across all possible portfolios. This is called the Minimum Volatility or the Global Minimum Volatility or GMV portfolio.\n",
        "\n",
        "But how do we find the weights of the GMV portfolio?\n",
        "\n",
        "The interesting thing about it is that if you assume that all returns are the same, the optimizer cannot improve the sharpe ratio through raising returns, and so it must do so my lowering volatility. This means that if we just skip any returns estimation and assume all returns have the return, we'd get the weights of the GMV portfolio!\n",
        "\n",
        "```python\n",
        "def gmv(cov):\n",
        "    \"\"\"\n",
        "    Returns the weights of the Global Minimum Volatility portfolio\n",
        "    given a covariance matrix\n",
        "    \"\"\"\n",
        "    n = cov.shape[0]\n",
        "    return msr(0, np.repeat(1, n), cov)\n",
        "```\n",
        "\n",
        "and we can add that to the plot as follows:\n",
        "\n",
        "```python\n",
        "    if show_gmv:\n",
        "        w_gmv = gmv(cov)\n",
        "        r_gmv = portfolio_return(w_gmv, er)\n",
        "        vol_gmv = portfolio_vol(w_gmv, cov)\n",
        "        # add EW\n",
        "        ax.plot([vol_gmv], [r_gmv], color='midnightblue', marker='o', markersize=10)\n",
        "```\n"
      ]
    },
    {
      "cell_type": "code",
      "metadata": {
        "id": "mV1xjYOlrBi2",
        "colab_type": "code",
        "colab": {
          "base_uri": "https://localhost:8080/",
          "height": 297
        },
        "outputId": "295f5af4-3153-49c8-dd3c-01903de350bc"
      },
      "source": [
        "erk.plot_ef(20, er, cov, show_cml=True, riskfree_rate=0.1, show_ew=True, show_gmv=True)"
      ],
      "execution_count": 10,
      "outputs": [
        {
          "output_type": "execute_result",
          "data": {
            "text/plain": [
              "<matplotlib.axes._subplots.AxesSubplot at 0x7f0cec01f710>"
            ]
          },
          "metadata": {
            "tags": []
          },
          "execution_count": 10
        },
        {
          "output_type": "display_data",
          "data": {
            "image/png": "[encoded data removed]",
            "text/plain": [
              "<Figure size 432x288 with 1 Axes>"
            ]
          },
          "metadata": {
            "tags": [],
            "needs_background": "light"
          }
        }
      ]
    }
  ]
}