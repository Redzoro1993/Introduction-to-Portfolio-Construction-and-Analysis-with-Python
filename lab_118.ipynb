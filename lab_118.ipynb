{
  "nbformat": 4,
  "nbformat_minor": 0,
  "metadata": {
    "kernelspec": {
      "display_name": "Python 3",
      "language": "python",
      "name": "python3"
    },
    "language_info": {
      "codemirror_mode": {
        "name": "ipython",
        "version": 3
      },
      "file_extension": ".py",
      "mimetype": "text/x-python",
      "name": "python",
      "nbconvert_exporter": "python",
      "pygments_lexer": "ipython3",
      "version": "3.7.3"
    },
    "colab": {
      "name": "lab_118.ipynb",
      "provenance": [],
      "collapsed_sections": [],
      "include_colab_link": true
    }
  },
  "cells": [
    {
      "cell_type": "markdown",
      "metadata": {
        "id": "view-in-github",
        "colab_type": "text"
      },
      "source": [
        "<a href=\"https://colab.research.google.com/github/Redzoro1993/Introduction-to-Portfolio-Construction-and-Analysis-with-Python/blob/master/lab_118.ipynb\" target=\"_parent\"><img src=\"https://colab.research.google.com/assets/colab-badge.svg\" alt=\"Open In Colab\"/></a>"
      ]
    },
    {
      "cell_type": "markdown",
      "metadata": {
        "id": "bi11VIF4lnBL",
        "colab_type": "text"
      },
      "source": [
        "# Limits of Diversification\n",
        "\n",
        "Why doesnt diversification help you in market crashes?\n",
        "\n",
        "One reason is that correlations across assets increases as the market drops. Let's see if we can see this in the data.\n",
        "\n",
        "Let's load up the industry data that we've used in the past."
      ]
    },
    {
      "cell_type": "code",
      "metadata": {
        "id": "Fez3a3dAvK-i",
        "colab_type": "code",
        "colab": {
          "base_uri": "https://localhost:8080/",
          "height": 35
        },
        "outputId": "3c07716d-d1eb-4725-c53c-93c39508d957"
      },
      "source": [
        "import os\n",
        "!git clone https://github.com/Redzoro1993/Introduction-to-Portfolio-Construction-and-Analysis-with-Python\n",
        "os.chdir(\"/content/Introduction-to-Portfolio-Construction-and-Analysis-with-Python/Modules\")\n",
        "!python3 edhec_risk_kit_118.py"
      ],
      "execution_count": 1,
      "outputs": [
        {
          "output_type": "stream",
          "text": [
            "fatal: destination path 'Introduction-to-Portfolio-Construction-and-Analysis-with-Python' already exists and is not an empty directory.\n"
          ],
          "name": "stdout"
        }
      ]
    },
    {
      "cell_type": "code",
      "metadata": {
        "id": "Wgs7XOZTlnBO",
        "colab_type": "code",
        "colab": {}
      },
      "source": [
        "%load_ext autoreload\n",
        "%autoreload 2\n",
        "%matplotlib inline\n",
        "import pandas as pd\n",
        "import edhec_risk_kit_118 as erk\n",
        "\n",
        "ind_return = erk.get_ind_returns()"
      ],
      "execution_count": 2,
      "outputs": []
    },
    {
      "cell_type": "markdown",
      "metadata": {
        "id": "S1BkGqHKlnBW",
        "colab_type": "text"
      },
      "source": [
        "# Implementing a Cap-Weighted Portfolio\n",
        "\n",
        "Most market indices are constructed by taking a set of assets and weighting them by their market equity aka market capitalization.\n",
        "\n",
        "Let's construct a market cap weighted index from our 30 industry portfolios.\n",
        "\n",
        "For each of these industries, we also have data on the number of stocks in each industry as well as the average market cap in each industry. Thus, we can multiply the average market cap by the number of companies to get the total market capitalization of each industry. We can then weight each industry portfolio proportional to the market capitalization of that industry.\n",
        "\n",
        "Let's load the industry size and average number of firms:\n",
        "\n",
        "```python\n",
        "def get_ind_nfirms():\n",
        "    \"\"\"\n",
        "    Load and format the Ken French 30 Industry Portfolios Average number of Firms\n",
        "    \"\"\"\n",
        "    ind = pd.read_csv(\"https://raw.githubusercontent.com/Redzoro1993/Introduction-to-Portfolio-Construction-and-Analysis-with-Python/master/Data/ind30_m_nfirms.csv\", header=0, index_col=0)\n",
        "    ind.index = pd.to_datetime(ind.index, format=\"%Y%m\").to_period('M')\n",
        "    ind.columns = ind.columns.str.strip()\n",
        "    return ind\n",
        "\n",
        "def get_ind_size():\n",
        "    \"\"\"\n",
        "    Load and format the Ken French 30 Industry Portfolios Average size (market cap)\n",
        "    \"\"\"\n",
        "    ind = pd.read_csv(\"https://raw.githubusercontent.com/Redzoro1993/Introduction-to-Portfolio-Construction-and-Analysis-with-Python/master/Data/ind30_m_size.csv\", header=0, index_col=0)\n",
        "    ind.index = pd.to_datetime(ind.index, format=\"%Y%m\").to_period('M')\n",
        "    ind.columns = ind.columns.str.strip()\n",
        "    return ind\n",
        "```\n",
        "\n",
        "We can clearly refactor the code to be less repetitive, but for now, this will do fine:"
      ]
    },
    {
      "cell_type": "code",
      "metadata": {
        "colab_type": "code",
        "id": "P0PLjtj4y0tq",
        "colab": {}
      },
      "source": [
        "import pandas as pd\n",
        "\n",
        "def get_ind_nfirms():\n",
        "    \"\"\"\n",
        "    Load and format the Ken French 30 Industry Portfolios Average number of Firms\n",
        "    \"\"\"\n",
        "    ind = pd.read_csv(\"https://raw.githubusercontent.com/Redzoro1993/Introduction-to-Portfolio-Construction-and-Analysis-with-Python/master/Data/ind30_m_nfirms.csv\", header=0, index_col=0)\n",
        "    ind.index = pd.to_datetime(ind.index, format=\"%Y%m\").to_period('M')\n",
        "    ind.columns = ind.columns.str.strip()\n",
        "    return ind\n",
        "\n",
        "def get_ind_size():\n",
        "    \"\"\"\n",
        "    Load and format the Ken French 30 Industry Portfolios Average size (market cap)\n",
        "    \"\"\"\n",
        "    ind = pd.read_csv(\"https://raw.githubusercontent.com/Redzoro1993/Introduction-to-Portfolio-Construction-and-Analysis-with-Python/master/Data/ind30_m_size.csv\", header=0, index_col=0)\n",
        "    ind.index = pd.to_datetime(ind.index, format=\"%Y%m\").to_period('M')\n",
        "    ind.columns = ind.columns.str.strip()\n",
        "    return ind\n",
        "\n",
        "ind_nfirms = get_ind_nfirms()\n",
        "ind_size = get_ind_size()\n"
      ],
      "execution_count": 3,
      "outputs": []
    },
    {
      "cell_type": "code",
      "metadata": {
        "id": "Cve7qy9ilnBa",
        "colab_type": "code",
        "colab": {}
      },
      "source": [
        "import pandas as pd\n",
        "\n",
        "def get_ind_nfirms():\n",
        "    \"\"\"\n",
        "    Load and format the Ken French 30 Industry Portfolios Average number of Firms\n",
        "    \"\"\"\n",
        "    ind = pd.read_csv(\"https://raw.githubusercontent.com/Redzoro1993/Introduction-to-Portfolio-Construction-and-Analysis-with-Python/master/Data/ind30_m_nfirms.csv\", header=0, index_col=0)\n",
        "    ind.index = pd.to_datetime(ind.index, format=\"%Y%m\").to_period('M')\n",
        "    ind.columns = ind.columns.str.strip()\n",
        "    return ind\n",
        "\n",
        "def get_ind_size():\n",
        "    \"\"\"\n",
        "    Load and format the Ken French 30 Industry Portfolios Average size (market cap)\n",
        "    \"\"\"\n",
        "    ind = pd.read_csv(\"https://raw.githubusercontent.com/Redzoro1993/Introduction-to-Portfolio-Construction-and-Analysis-with-Python/master/Data/ind30_m_size.csv\", header=0, index_col=0)\n",
        "    ind.index = pd.to_datetime(ind.index, format=\"%Y%m\").to_period('M')\n",
        "    ind.columns = ind.columns.str.strip()\n",
        "    return ind\n",
        "\n",
        "ind_nfirms = get_ind_nfirms()\n",
        "ind_size = get_ind_size()\n"
      ],
      "execution_count": 4,
      "outputs": []
    },
    {
      "cell_type": "code",
      "metadata": {
        "id": "atZnWy5OlnBg",
        "colab_type": "code",
        "colab": {
          "base_uri": "https://localhost:8080/",
          "height": 226
        },
        "outputId": "24925540-aaea-466c-895e-18fbfd76a8f4"
      },
      "source": [
        "ind_nfirms.head()"
      ],
      "execution_count": 5,
      "outputs": [
        {
          "output_type": "execute_result",
          "data": {
            "text/html": [
              "<div>\n",
              "<style scoped>\n",
              "    .dataframe tbody tr th:only-of-type {\n",
              "        vertical-align: middle;\n",
              "    }\n",
              "\n",
              "    .dataframe tbody tr th {\n",
              "        vertical-align: top;\n",
              "    }\n",
              "\n",
              "    .dataframe thead th {\n",
              "        text-align: right;\n",
              "    }\n",
              "</style>\n",
              "<table border=\"1\" class=\"dataframe\">\n",
              "  <thead>\n",
              "    <tr style=\"text-align: right;\">\n",
              "      <th></th>\n",
              "      <th>Food</th>\n",
              "      <th>Beer</th>\n",
              "      <th>Smoke</th>\n",
              "      <th>Games</th>\n",
              "      <th>Books</th>\n",
              "      <th>Hshld</th>\n",
              "      <th>Clths</th>\n",
              "      <th>Hlth</th>\n",
              "      <th>Chems</th>\n",
              "      <th>Txtls</th>\n",
              "      <th>Cnstr</th>\n",
              "      <th>Steel</th>\n",
              "      <th>FabPr</th>\n",
              "      <th>ElcEq</th>\n",
              "      <th>Autos</th>\n",
              "      <th>Carry</th>\n",
              "      <th>Mines</th>\n",
              "      <th>Coal</th>\n",
              "      <th>Oil</th>\n",
              "      <th>Util</th>\n",
              "      <th>Telcm</th>\n",
              "      <th>Servs</th>\n",
              "      <th>BusEq</th>\n",
              "      <th>Paper</th>\n",
              "      <th>Trans</th>\n",
              "      <th>Whlsl</th>\n",
              "      <th>Rtail</th>\n",
              "      <th>Meals</th>\n",
              "      <th>Fin</th>\n",
              "      <th>Other</th>\n",
              "    </tr>\n",
              "  </thead>\n",
              "  <tbody>\n",
              "    <tr>\n",
              "      <th>1926-07</th>\n",
              "      <td>43</td>\n",
              "      <td>3</td>\n",
              "      <td>16</td>\n",
              "      <td>7</td>\n",
              "      <td>2</td>\n",
              "      <td>8</td>\n",
              "      <td>12</td>\n",
              "      <td>7</td>\n",
              "      <td>17</td>\n",
              "      <td>13</td>\n",
              "      <td>14</td>\n",
              "      <td>45</td>\n",
              "      <td>19</td>\n",
              "      <td>11</td>\n",
              "      <td>39</td>\n",
              "      <td>13</td>\n",
              "      <td>14</td>\n",
              "      <td>8</td>\n",
              "      <td>43</td>\n",
              "      <td>21</td>\n",
              "      <td>5</td>\n",
              "      <td>3</td>\n",
              "      <td>7</td>\n",
              "      <td>6</td>\n",
              "      <td>74</td>\n",
              "      <td>2</td>\n",
              "      <td>33</td>\n",
              "      <td>6</td>\n",
              "      <td>12</td>\n",
              "      <td>4</td>\n",
              "    </tr>\n",
              "    <tr>\n",
              "      <th>1926-08</th>\n",
              "      <td>43</td>\n",
              "      <td>3</td>\n",
              "      <td>16</td>\n",
              "      <td>7</td>\n",
              "      <td>2</td>\n",
              "      <td>8</td>\n",
              "      <td>12</td>\n",
              "      <td>7</td>\n",
              "      <td>17</td>\n",
              "      <td>13</td>\n",
              "      <td>14</td>\n",
              "      <td>45</td>\n",
              "      <td>19</td>\n",
              "      <td>11</td>\n",
              "      <td>39</td>\n",
              "      <td>13</td>\n",
              "      <td>14</td>\n",
              "      <td>8</td>\n",
              "      <td>43</td>\n",
              "      <td>21</td>\n",
              "      <td>5</td>\n",
              "      <td>3</td>\n",
              "      <td>7</td>\n",
              "      <td>6</td>\n",
              "      <td>74</td>\n",
              "      <td>2</td>\n",
              "      <td>33</td>\n",
              "      <td>6</td>\n",
              "      <td>12</td>\n",
              "      <td>4</td>\n",
              "    </tr>\n",
              "    <tr>\n",
              "      <th>1926-09</th>\n",
              "      <td>43</td>\n",
              "      <td>3</td>\n",
              "      <td>16</td>\n",
              "      <td>7</td>\n",
              "      <td>2</td>\n",
              "      <td>8</td>\n",
              "      <td>12</td>\n",
              "      <td>7</td>\n",
              "      <td>17</td>\n",
              "      <td>13</td>\n",
              "      <td>14</td>\n",
              "      <td>45</td>\n",
              "      <td>19</td>\n",
              "      <td>11</td>\n",
              "      <td>39</td>\n",
              "      <td>13</td>\n",
              "      <td>14</td>\n",
              "      <td>8</td>\n",
              "      <td>42</td>\n",
              "      <td>21</td>\n",
              "      <td>5</td>\n",
              "      <td>3</td>\n",
              "      <td>7</td>\n",
              "      <td>6</td>\n",
              "      <td>74</td>\n",
              "      <td>2</td>\n",
              "      <td>33</td>\n",
              "      <td>6</td>\n",
              "      <td>12</td>\n",
              "      <td>4</td>\n",
              "    </tr>\n",
              "    <tr>\n",
              "      <th>1926-10</th>\n",
              "      <td>43</td>\n",
              "      <td>3</td>\n",
              "      <td>16</td>\n",
              "      <td>7</td>\n",
              "      <td>2</td>\n",
              "      <td>8</td>\n",
              "      <td>12</td>\n",
              "      <td>7</td>\n",
              "      <td>17</td>\n",
              "      <td>13</td>\n",
              "      <td>14</td>\n",
              "      <td>45</td>\n",
              "      <td>19</td>\n",
              "      <td>11</td>\n",
              "      <td>39</td>\n",
              "      <td>13</td>\n",
              "      <td>14</td>\n",
              "      <td>8</td>\n",
              "      <td>42</td>\n",
              "      <td>21</td>\n",
              "      <td>5</td>\n",
              "      <td>3</td>\n",
              "      <td>7</td>\n",
              "      <td>6</td>\n",
              "      <td>74</td>\n",
              "      <td>2</td>\n",
              "      <td>33</td>\n",
              "      <td>6</td>\n",
              "      <td>12</td>\n",
              "      <td>4</td>\n",
              "    </tr>\n",
              "    <tr>\n",
              "      <th>1926-11</th>\n",
              "      <td>43</td>\n",
              "      <td>3</td>\n",
              "      <td>16</td>\n",
              "      <td>7</td>\n",
              "      <td>2</td>\n",
              "      <td>8</td>\n",
              "      <td>12</td>\n",
              "      <td>7</td>\n",
              "      <td>17</td>\n",
              "      <td>13</td>\n",
              "      <td>14</td>\n",
              "      <td>45</td>\n",
              "      <td>19</td>\n",
              "      <td>11</td>\n",
              "      <td>39</td>\n",
              "      <td>13</td>\n",
              "      <td>14</td>\n",
              "      <td>8</td>\n",
              "      <td>42</td>\n",
              "      <td>21</td>\n",
              "      <td>5</td>\n",
              "      <td>3</td>\n",
              "      <td>7</td>\n",
              "      <td>6</td>\n",
              "      <td>74</td>\n",
              "      <td>2</td>\n",
              "      <td>33</td>\n",
              "      <td>6</td>\n",
              "      <td>12</td>\n",
              "      <td>4</td>\n",
              "    </tr>\n",
              "  </tbody>\n",
              "</table>\n",
              "</div>"
            ],
            "text/plain": [
              "         Food  Beer  Smoke  Games  Books  ...  Whlsl  Rtail  Meals  Fin  Other\n",
              "1926-07    43     3     16      7      2  ...      2     33      6   12      4\n",
              "1926-08    43     3     16      7      2  ...      2     33      6   12      4\n",
              "1926-09    43     3     16      7      2  ...      2     33      6   12      4\n",
              "1926-10    43     3     16      7      2  ...      2     33      6   12      4\n",
              "1926-11    43     3     16      7      2  ...      2     33      6   12      4\n",
              "\n",
              "[5 rows x 30 columns]"
            ]
          },
          "metadata": {
            "tags": []
          },
          "execution_count": 5
        }
      ]
    },
    {
      "cell_type": "code",
      "metadata": {
        "id": "ajqXbIVylnBn",
        "colab_type": "code",
        "colab": {
          "base_uri": "https://localhost:8080/",
          "height": 226
        },
        "outputId": "53e237e7-793f-4544-e803-eac5e5ccb16a"
      },
      "source": [
        "ind_size.head()"
      ],
      "execution_count": 6,
      "outputs": [
        {
          "output_type": "execute_result",
          "data": {
            "text/html": [
              "<div>\n",
              "<style scoped>\n",
              "    .dataframe tbody tr th:only-of-type {\n",
              "        vertical-align: middle;\n",
              "    }\n",
              "\n",
              "    .dataframe tbody tr th {\n",
              "        vertical-align: top;\n",
              "    }\n",
              "\n",
              "    .dataframe thead th {\n",
              "        text-align: right;\n",
              "    }\n",
              "</style>\n",
              "<table border=\"1\" class=\"dataframe\">\n",
              "  <thead>\n",
              "    <tr style=\"text-align: right;\">\n",
              "      <th></th>\n",
              "      <th>Food</th>\n",
              "      <th>Beer</th>\n",
              "      <th>Smoke</th>\n",
              "      <th>Games</th>\n",
              "      <th>Books</th>\n",
              "      <th>Hshld</th>\n",
              "      <th>Clths</th>\n",
              "      <th>Hlth</th>\n",
              "      <th>Chems</th>\n",
              "      <th>Txtls</th>\n",
              "      <th>Cnstr</th>\n",
              "      <th>Steel</th>\n",
              "      <th>FabPr</th>\n",
              "      <th>ElcEq</th>\n",
              "      <th>Autos</th>\n",
              "      <th>Carry</th>\n",
              "      <th>Mines</th>\n",
              "      <th>Coal</th>\n",
              "      <th>Oil</th>\n",
              "      <th>Util</th>\n",
              "      <th>Telcm</th>\n",
              "      <th>Servs</th>\n",
              "      <th>BusEq</th>\n",
              "      <th>Paper</th>\n",
              "      <th>Trans</th>\n",
              "      <th>Whlsl</th>\n",
              "      <th>Rtail</th>\n",
              "      <th>Meals</th>\n",
              "      <th>Fin</th>\n",
              "      <th>Other</th>\n",
              "    </tr>\n",
              "  </thead>\n",
              "  <tbody>\n",
              "    <tr>\n",
              "      <th>1926-07</th>\n",
              "      <td>35.98</td>\n",
              "      <td>7.12</td>\n",
              "      <td>59.72</td>\n",
              "      <td>26.41</td>\n",
              "      <td>12.02</td>\n",
              "      <td>22.27</td>\n",
              "      <td>18.36</td>\n",
              "      <td>25.52</td>\n",
              "      <td>57.59</td>\n",
              "      <td>6.18</td>\n",
              "      <td>20.05</td>\n",
              "      <td>48.56</td>\n",
              "      <td>27.47</td>\n",
              "      <td>110.78</td>\n",
              "      <td>47.55</td>\n",
              "      <td>41.30</td>\n",
              "      <td>27.74</td>\n",
              "      <td>40.52</td>\n",
              "      <td>92.79</td>\n",
              "      <td>81.22</td>\n",
              "      <td>350.36</td>\n",
              "      <td>13.60</td>\n",
              "      <td>56.70</td>\n",
              "      <td>35.35</td>\n",
              "      <td>66.91</td>\n",
              "      <td>1.19</td>\n",
              "      <td>46.65</td>\n",
              "      <td>10.82</td>\n",
              "      <td>18.83</td>\n",
              "      <td>24.25</td>\n",
              "    </tr>\n",
              "    <tr>\n",
              "      <th>1926-08</th>\n",
              "      <td>36.10</td>\n",
              "      <td>6.75</td>\n",
              "      <td>60.47</td>\n",
              "      <td>27.17</td>\n",
              "      <td>13.33</td>\n",
              "      <td>22.13</td>\n",
              "      <td>19.83</td>\n",
              "      <td>25.80</td>\n",
              "      <td>62.13</td>\n",
              "      <td>6.20</td>\n",
              "      <td>20.46</td>\n",
              "      <td>50.39</td>\n",
              "      <td>28.91</td>\n",
              "      <td>114.29</td>\n",
              "      <td>55.11</td>\n",
              "      <td>41.50</td>\n",
              "      <td>29.30</td>\n",
              "      <td>40.83</td>\n",
              "      <td>91.43</td>\n",
              "      <td>86.81</td>\n",
              "      <td>353.27</td>\n",
              "      <td>14.75</td>\n",
              "      <td>57.74</td>\n",
              "      <td>37.86</td>\n",
              "      <td>67.99</td>\n",
              "      <td>0.90</td>\n",
              "      <td>46.57</td>\n",
              "      <td>11.00</td>\n",
              "      <td>18.88</td>\n",
              "      <td>25.51</td>\n",
              "    </tr>\n",
              "    <tr>\n",
              "      <th>1926-09</th>\n",
              "      <td>37.00</td>\n",
              "      <td>8.58</td>\n",
              "      <td>64.03</td>\n",
              "      <td>27.30</td>\n",
              "      <td>14.67</td>\n",
              "      <td>21.18</td>\n",
              "      <td>19.29</td>\n",
              "      <td>26.73</td>\n",
              "      <td>65.53</td>\n",
              "      <td>6.71</td>\n",
              "      <td>21.41</td>\n",
              "      <td>51.21</td>\n",
              "      <td>29.34</td>\n",
              "      <td>116.69</td>\n",
              "      <td>57.11</td>\n",
              "      <td>42.17</td>\n",
              "      <td>29.45</td>\n",
              "      <td>41.18</td>\n",
              "      <td>94.86</td>\n",
              "      <td>85.01</td>\n",
              "      <td>360.96</td>\n",
              "      <td>15.05</td>\n",
              "      <td>59.61</td>\n",
              "      <td>36.82</td>\n",
              "      <td>71.02</td>\n",
              "      <td>0.95</td>\n",
              "      <td>46.11</td>\n",
              "      <td>10.94</td>\n",
              "      <td>19.67</td>\n",
              "      <td>27.21</td>\n",
              "    </tr>\n",
              "    <tr>\n",
              "      <th>1926-10</th>\n",
              "      <td>37.14</td>\n",
              "      <td>8.92</td>\n",
              "      <td>64.42</td>\n",
              "      <td>28.76</td>\n",
              "      <td>14.42</td>\n",
              "      <td>21.23</td>\n",
              "      <td>19.03</td>\n",
              "      <td>26.87</td>\n",
              "      <td>68.47</td>\n",
              "      <td>6.82</td>\n",
              "      <td>21.10</td>\n",
              "      <td>51.02</td>\n",
              "      <td>29.30</td>\n",
              "      <td>114.93</td>\n",
              "      <td>59.69</td>\n",
              "      <td>43.05</td>\n",
              "      <td>29.46</td>\n",
              "      <td>41.30</td>\n",
              "      <td>90.87</td>\n",
              "      <td>86.41</td>\n",
              "      <td>364.16</td>\n",
              "      <td>15.30</td>\n",
              "      <td>59.52</td>\n",
              "      <td>34.77</td>\n",
              "      <td>70.83</td>\n",
              "      <td>0.88</td>\n",
              "      <td>46.15</td>\n",
              "      <td>10.80</td>\n",
              "      <td>19.36</td>\n",
              "      <td>26.16</td>\n",
              "    </tr>\n",
              "    <tr>\n",
              "      <th>1926-11</th>\n",
              "      <td>35.88</td>\n",
              "      <td>8.62</td>\n",
              "      <td>65.08</td>\n",
              "      <td>27.38</td>\n",
              "      <td>15.79</td>\n",
              "      <td>20.14</td>\n",
              "      <td>19.03</td>\n",
              "      <td>26.54</td>\n",
              "      <td>65.06</td>\n",
              "      <td>6.84</td>\n",
              "      <td>20.12</td>\n",
              "      <td>48.90</td>\n",
              "      <td>29.60</td>\n",
              "      <td>108.33</td>\n",
              "      <td>54.81</td>\n",
              "      <td>40.44</td>\n",
              "      <td>28.51</td>\n",
              "      <td>41.90</td>\n",
              "      <td>89.87</td>\n",
              "      <td>83.92</td>\n",
              "      <td>363.74</td>\n",
              "      <td>14.89</td>\n",
              "      <td>58.74</td>\n",
              "      <td>32.80</td>\n",
              "      <td>68.75</td>\n",
              "      <td>0.74</td>\n",
              "      <td>45.03</td>\n",
              "      <td>10.33</td>\n",
              "      <td>18.35</td>\n",
              "      <td>23.94</td>\n",
              "    </tr>\n",
              "  </tbody>\n",
              "</table>\n",
              "</div>"
            ],
            "text/plain": [
              "          Food  Beer  Smoke  Games  Books  ...  Whlsl  Rtail  Meals    Fin  Other\n",
              "1926-07  35.98  7.12  59.72  26.41  12.02  ...   1.19  46.65  10.82  18.83  24.25\n",
              "1926-08  36.10  6.75  60.47  27.17  13.33  ...   0.90  46.57  11.00  18.88  25.51\n",
              "1926-09  37.00  8.58  64.03  27.30  14.67  ...   0.95  46.11  10.94  19.67  27.21\n",
              "1926-10  37.14  8.92  64.42  28.76  14.42  ...   0.88  46.15  10.80  19.36  26.16\n",
              "1926-11  35.88  8.62  65.08  27.38  15.79  ...   0.74  45.03  10.33  18.35  23.94\n",
              "\n",
              "[5 rows x 30 columns]"
            ]
          },
          "metadata": {
            "tags": []
          },
          "execution_count": 6
        }
      ]
    },
    {
      "cell_type": "code",
      "metadata": {
        "id": "5WxAYbQTlnBt",
        "colab_type": "code",
        "colab": {
          "base_uri": "https://localhost:8080/",
          "height": 35
        },
        "outputId": "62fc5317-7016-4996-fadf-78354d22943b"
      },
      "source": [
        "ind_return.shape"
      ],
      "execution_count": 7,
      "outputs": [
        {
          "output_type": "execute_result",
          "data": {
            "text/plain": [
              "(1110, 30)"
            ]
          },
          "metadata": {
            "tags": []
          },
          "execution_count": 7
        }
      ]
    },
    {
      "cell_type": "code",
      "metadata": {
        "id": "xmzOjzL7lnBz",
        "colab_type": "code",
        "colab": {
          "base_uri": "https://localhost:8080/",
          "height": 35
        },
        "outputId": "5f88b63a-2462-4d45-fdd9-861dac9957f1"
      },
      "source": [
        "ind_size.shape"
      ],
      "execution_count": 8,
      "outputs": [
        {
          "output_type": "execute_result",
          "data": {
            "text/plain": [
              "(1110, 30)"
            ]
          },
          "metadata": {
            "tags": []
          },
          "execution_count": 8
        }
      ]
    },
    {
      "cell_type": "code",
      "metadata": {
        "id": "5QnJ8T-AlnB5",
        "colab_type": "code",
        "colab": {
          "base_uri": "https://localhost:8080/",
          "height": 35
        },
        "outputId": "40b834aa-5bd7-4512-c5ba-299f9ecfbe7b"
      },
      "source": [
        "ind_nfirms.shape"
      ],
      "execution_count": 9,
      "outputs": [
        {
          "output_type": "execute_result",
          "data": {
            "text/plain": [
              "(1110, 30)"
            ]
          },
          "metadata": {
            "tags": []
          },
          "execution_count": 9
        }
      ]
    },
    {
      "cell_type": "code",
      "metadata": {
        "id": "3nIiPfVUlnB9",
        "colab_type": "code",
        "colab": {}
      },
      "source": [
        "ind_mktcap = ind_nfirms * ind_size"
      ],
      "execution_count": 10,
      "outputs": []
    },
    {
      "cell_type": "code",
      "metadata": {
        "id": "nla0T8jzlnCH",
        "colab_type": "code",
        "colab": {
          "base_uri": "https://localhost:8080/",
          "height": 35
        },
        "outputId": "08b93144-4e2e-4d2b-bcb8-2c035287c602"
      },
      "source": [
        "ind_mktcap.shape"
      ],
      "execution_count": 11,
      "outputs": [
        {
          "output_type": "execute_result",
          "data": {
            "text/plain": [
              "(1110, 30)"
            ]
          },
          "metadata": {
            "tags": []
          },
          "execution_count": 11
        }
      ]
    },
    {
      "cell_type": "markdown",
      "metadata": {
        "id": "_YULKYK_lnCM",
        "colab_type": "text"
      },
      "source": [
        "Now that we have the market caps for each month, we can compute the total market capitalization over time by summing over all industries:"
      ]
    },
    {
      "cell_type": "code",
      "metadata": {
        "id": "s-dUnYyAlnCO",
        "colab_type": "code",
        "colab": {}
      },
      "source": [
        "total_mktcap = ind_mktcap.sum(axis=1)"
      ],
      "execution_count": 12,
      "outputs": []
    },
    {
      "cell_type": "code",
      "metadata": {
        "id": "JInFdyhBlnCS",
        "colab_type": "code",
        "colab": {
          "base_uri": "https://localhost:8080/",
          "height": 294
        },
        "outputId": "50c73ac6-44fe-4a22-a300-d81b7b82bdbd"
      },
      "source": [
        "total_mktcap.plot()"
      ],
      "execution_count": 13,
      "outputs": [
        {
          "output_type": "execute_result",
          "data": {
            "text/plain": [
              "<matplotlib.axes._subplots.AxesSubplot at 0x7fd2d9b4a940>"
            ]
          },
          "metadata": {
            "tags": []
          },
          "execution_count": 13
        },
        {
          "output_type": "display_data",
          "data": {
            "image/png": "[encoded data removed]",
            "text/plain": [
              "<Figure size 432x288 with 1 Axes>"
            ]
          },
          "metadata": {
            "tags": [],
            "needs_background": "light"
          }
        }
      ]
    },
    {
      "cell_type": "markdown",
      "metadata": {
        "id": "mI4Jb0gUlnCW",
        "colab_type": "text"
      },
      "source": [
        "Clearly, the market has grown over time. We can now compute the capweight of each industry as follows:"
      ]
    },
    {
      "cell_type": "code",
      "metadata": {
        "id": "VNO_V0APlnCX",
        "colab_type": "code",
        "colab": {}
      },
      "source": [
        "ind_capweight = ind_mktcap.divide(total_mktcap, axis=\"rows\")"
      ],
      "execution_count": 14,
      "outputs": []
    },
    {
      "cell_type": "markdown",
      "metadata": {
        "id": "DbBV6FHNlnCc",
        "colab_type": "text"
      },
      "source": [
        "Let's verify that the sum of the cap weights of all the columns should always sum to 1.\n",
        "\n",
        "Because these are floating point numbers, it is not a good idea to test if they sum to 1 by using `== 1.0`. Instead, we make sure they are very close to 1 as follows"
      ]
    },
    {
      "cell_type": "code",
      "metadata": {
        "id": "nLWy-7NglnCd",
        "colab_type": "code",
        "colab": {
          "base_uri": "https://localhost:8080/",
          "height": 35
        },
        "outputId": "f5b093e7-b792-4b48-aa83-ce27d527dd2d"
      },
      "source": [
        "all(abs(ind_capweight.sum(axis=\"columns\") - 1) < 1E-10)"
      ],
      "execution_count": 15,
      "outputs": [
        {
          "output_type": "execute_result",
          "data": {
            "text/plain": [
              "True"
            ]
          },
          "metadata": {
            "tags": []
          },
          "execution_count": 15
        }
      ]
    },
    {
      "cell_type": "markdown",
      "metadata": {
        "id": "0xyGeiEQlnCh",
        "colab_type": "text"
      },
      "source": [
        "Let's look at the fraction of the market occupied by the Steel industry over time and compare it with the Finance industry."
      ]
    },
    {
      "cell_type": "code",
      "metadata": {
        "id": "v1PKT3rqlnCh",
        "colab_type": "code",
        "colab": {
          "base_uri": "https://localhost:8080/",
          "height": 283
        },
        "outputId": "1315e546-c170-4a4b-e74d-5232763a7ac6"
      },
      "source": [
        "ind_capweight[[\"Steel\", \"Fin\"]].plot()"
      ],
      "execution_count": 16,
      "outputs": [
        {
          "output_type": "execute_result",
          "data": {
            "text/plain": [
              "<matplotlib.axes._subplots.AxesSubplot at 0x7fd2d9a46b38>"
            ]
          },
          "metadata": {
            "tags": []
          },
          "execution_count": 16
        },
        {
          "output_type": "display_data",
          "data": {
            "image/png": "[encoded data removed]",
            "text/plain": [
              "<Figure size 432x288 with 1 Axes>"
            ]
          },
          "metadata": {
            "tags": [],
            "needs_background": "light"
          }
        }
      ]
    },
    {
      "cell_type": "markdown",
      "metadata": {
        "id": "oH7utNrZlnCm",
        "colab_type": "text"
      },
      "source": [
        "# Constructing a Cap Weighted Market Index\n",
        "\n",
        "One way to construct a market index is to build a portfolio whose weights are rebalanced back to the target weights every period. In reality, the weights may drift over time but this simplification is close enough."
      ]
    },
    {
      "cell_type": "code",
      "metadata": {
        "id": "pDIAsdLplnCm",
        "colab_type": "code",
        "colab": {
          "base_uri": "https://localhost:8080/",
          "height": 299
        },
        "outputId": "4498df7c-2509-4094-835b-f8ef9cb6297b"
      },
      "source": [
        "total_market_return = (ind_capweight * ind_return).sum(axis=\"columns\")\n",
        "total_market_index = erk.drawdown(total_market_return).Wealth\n",
        "total_market_index.plot(title=\"Total Market Cap Weighted Index 1926-2018\")"
      ],
      "execution_count": 17,
      "outputs": [
        {
          "output_type": "execute_result",
          "data": {
            "text/plain": [
              "<matplotlib.axes._subplots.AxesSubplot at 0x7fd2dae6b588>"
            ]
          },
          "metadata": {
            "tags": []
          },
          "execution_count": 17
        },
        {
          "output_type": "display_data",
          "data": {
            "image/png": "[encoded data removed]",
            "text/plain": [
              "<Figure size 432x288 with 1 Axes>"
            ]
          },
          "metadata": {
            "tags": [],
            "needs_background": "light"
          }
        }
      ]
    },
    {
      "cell_type": "markdown",
      "metadata": {
        "id": "Wjmin4SalnCr",
        "colab_type": "text"
      },
      "source": [
        "Putting it all together we have:\n",
        "\n",
        "```python\n",
        "def get_total_market_index_returns():\n",
        "    \"\"\"\n",
        "    Load the 30 industry portfolio data and derive the returns of a capweighted total market index\n",
        "    \"\"\"\n",
        "    ind_nfirms = get_ind_nfirms()\n",
        "    ind_size = get_ind_size()\n",
        "    ind_return = get_ind_returns()\n",
        "    ind_mktcap = ind_nfirms * ind_size\n",
        "    total_mktcap = ind_mktcap.sum(axis=1)\n",
        "    ind_capweight = ind_mktcap.divide(total_mktcap, axis=\"rows\")\n",
        "    total_market_return = (ind_capweight * ind_return).sum(axis=\"columns\")\n",
        "    return total_market_return\n",
        "```\n"
      ]
    },
    {
      "cell_type": "code",
      "metadata": {
        "id": "iRcARRNTlnCs",
        "colab_type": "code",
        "colab": {
          "base_uri": "https://localhost:8080/",
          "height": 299
        },
        "outputId": "f79a84bf-eb87-4ee4-bb50-87812e9d9432"
      },
      "source": [
        "total_market_return = erk.get_total_market_index_returns()\n",
        "total_market_index = erk.drawdown(total_market_return).Wealth\n",
        "total_market_index.plot(title=\"Total Market Cap Weighted Index 1926-2018\")"
      ],
      "execution_count": 18,
      "outputs": [
        {
          "output_type": "execute_result",
          "data": {
            "text/plain": [
              "<matplotlib.axes._subplots.AxesSubplot at 0x7fd2d94e07f0>"
            ]
          },
          "metadata": {
            "tags": []
          },
          "execution_count": 18
        },
        {
          "output_type": "display_data",
          "data": {
            "image/png": "[encoded data removed]",
            "text/plain": [
              "<Figure size 432x288 with 1 Axes>"
            ]
          },
          "metadata": {
            "tags": [],
            "needs_background": "light"
          }
        }
      ]
    },
    {
      "cell_type": "markdown",
      "metadata": {
        "id": "239zMOKylnCv",
        "colab_type": "text"
      },
      "source": [
        "# Rolling Windows\n",
        "\n",
        "Let's construct a rolling window of returns over a trailing 36 month period. Pandas contains direct support for rolling windows, and allows you to aggregate the returns over a window. In our case, lets compute the average return over a trailing 36 month window."
      ]
    },
    {
      "cell_type": "code",
      "metadata": {
        "id": "QPtDcYOGlnCv",
        "colab_type": "code",
        "colab": {
          "base_uri": "https://localhost:8080/",
          "height": 403
        },
        "outputId": "1863df29-74ca-46ba-f1fa-8ead93d28a2a"
      },
      "source": [
        "total_market_index[\"1980\":].plot(figsize=(12, 6))\n",
        "total_market_index[\"1980\":].rolling(window=36).mean().plot()"
      ],
      "execution_count": 19,
      "outputs": [
        {
          "output_type": "execute_result",
          "data": {
            "text/plain": [
              "<matplotlib.axes._subplots.AxesSubplot at 0x7fd2d9413dd8>"
            ]
          },
          "metadata": {
            "tags": []
          },
          "execution_count": 19
        },
        {
          "output_type": "display_data",
          "data": {
            "image/png": "[encoded data removed]",
            "text/plain": [
              "<Figure size 864x432 with 1 Axes>"
            ]
          },
          "metadata": {
            "tags": [],
            "needs_background": "light"
          }
        }
      ]
    },
    {
      "cell_type": "markdown",
      "metadata": {
        "id": "jaua7UaQlnCy",
        "colab_type": "text"
      },
      "source": [
        "We dont really want the mean return, we want to look at the trailing 3 year compounded return. We need to apply our own function, instead of `mean()`.\n",
        "\n",
        "Each time the window is advanced, a new DataFrame (with just the slice of the DataFrame in the window) is used to generate a new value. You can either use one of the built-in DataFrame methods like `.mean` or you can use the `.aggregate` method to apply your own function to each column for all the rows that fall in that window.\n",
        "\n",
        "Let's create a time series of the annualized returns over the trailing 36 months and the average correlation across stocks over that same 36 months."
      ]
    },
    {
      "cell_type": "code",
      "metadata": {
        "id": "KjDFFPiQlnCz",
        "colab_type": "code",
        "colab": {
          "base_uri": "https://localhost:8080/",
          "height": 338
        },
        "outputId": "2d83c220-adc2-468c-e5a2-70b8e1060173"
      },
      "source": [
        "tmi_tr36rets = total_market_return.rolling(window=36).aggregate(erk.annualize_rets, periods_per_year=12)\n",
        "tmi_tr36rets.plot(figsize=(12,5), label=\"Tr 36 mo Returns\", legend=True)\n",
        "total_market_return.plot(label=\"Returns\", legend=True)"
      ],
      "execution_count": 20,
      "outputs": [
        {
          "output_type": "execute_result",
          "data": {
            "text/plain": [
              "<matplotlib.axes._subplots.AxesSubplot at 0x7fd2d92f2908>"
            ]
          },
          "metadata": {
            "tags": []
          },
          "execution_count": 20
        },
        {
          "output_type": "display_data",
          "data": {
            "image/png": "[encoded data removed]",
            "text/plain": [
              "<Figure size 864x360 with 1 Axes>"
            ]
          },
          "metadata": {
            "tags": [],
            "needs_background": "light"
          }
        }
      ]
    },
    {
      "cell_type": "markdown",
      "metadata": {
        "id": "P1f-1yM1lnC3",
        "colab_type": "text"
      },
      "source": [
        "# Rolling Correlations: Multi Indexes and `.groupby`\n",
        "\n",
        "Next we want to look at average correlations between all the industries over that same trailing 3 year window.\n",
        "\n",
        "Let's start by contructing the time series of correlations over time over a 36 month window."
      ]
    },
    {
      "cell_type": "code",
      "metadata": {
        "id": "ZH0cMOQelnC3",
        "colab_type": "code",
        "colab": {
          "base_uri": "https://localhost:8080/",
          "height": 226
        },
        "outputId": "d1e7e92b-0f2d-4790-e13f-16b758bc778a"
      },
      "source": [
        "ts_corr = ind_return.rolling(window=36).corr()\n",
        "ts_corr.tail()"
      ],
      "execution_count": 21,
      "outputs": [
        {
          "output_type": "execute_result",
          "data": {
            "text/html": [
              "<div>\n",
              "<style scoped>\n",
              "    .dataframe tbody tr th:only-of-type {\n",
              "        vertical-align: middle;\n",
              "    }\n",
              "\n",
              "    .dataframe tbody tr th {\n",
              "        vertical-align: top;\n",
              "    }\n",
              "\n",
              "    .dataframe thead th {\n",
              "        text-align: right;\n",
              "    }\n",
              "</style>\n",
              "<table border=\"1\" class=\"dataframe\">\n",
              "  <thead>\n",
              "    <tr style=\"text-align: right;\">\n",
              "      <th></th>\n",
              "      <th></th>\n",
              "      <th>Food</th>\n",
              "      <th>Beer</th>\n",
              "      <th>Smoke</th>\n",
              "      <th>Games</th>\n",
              "      <th>Books</th>\n",
              "      <th>Hshld</th>\n",
              "      <th>Clths</th>\n",
              "      <th>Hlth</th>\n",
              "      <th>Chems</th>\n",
              "      <th>Txtls</th>\n",
              "      <th>Cnstr</th>\n",
              "      <th>Steel</th>\n",
              "      <th>FabPr</th>\n",
              "      <th>ElcEq</th>\n",
              "      <th>Autos</th>\n",
              "      <th>Carry</th>\n",
              "      <th>Mines</th>\n",
              "      <th>Coal</th>\n",
              "      <th>Oil</th>\n",
              "      <th>Util</th>\n",
              "      <th>Telcm</th>\n",
              "      <th>Servs</th>\n",
              "      <th>BusEq</th>\n",
              "      <th>Paper</th>\n",
              "      <th>Trans</th>\n",
              "      <th>Whlsl</th>\n",
              "      <th>Rtail</th>\n",
              "      <th>Meals</th>\n",
              "      <th>Fin</th>\n",
              "      <th>Other</th>\n",
              "    </tr>\n",
              "  </thead>\n",
              "  <tbody>\n",
              "    <tr>\n",
              "      <th rowspan=\"5\" valign=\"top\">2018-12</th>\n",
              "      <th>Whlsl</th>\n",
              "      <td>0.474948</td>\n",
              "      <td>0.356983</td>\n",
              "      <td>0.122672</td>\n",
              "      <td>0.510425</td>\n",
              "      <td>0.803362</td>\n",
              "      <td>0.419280</td>\n",
              "      <td>0.570071</td>\n",
              "      <td>0.739764</td>\n",
              "      <td>0.785796</td>\n",
              "      <td>0.634197</td>\n",
              "      <td>0.816368</td>\n",
              "      <td>0.699492</td>\n",
              "      <td>0.765434</td>\n",
              "      <td>0.809080</td>\n",
              "      <td>0.666586</td>\n",
              "      <td>0.647362</td>\n",
              "      <td>0.455265</td>\n",
              "      <td>0.342075</td>\n",
              "      <td>0.658869</td>\n",
              "      <td>0.153768</td>\n",
              "      <td>0.648092</td>\n",
              "      <td>0.567395</td>\n",
              "      <td>0.543362</td>\n",
              "      <td>0.764252</td>\n",
              "      <td>0.829185</td>\n",
              "      <td>1.000000</td>\n",
              "      <td>0.744842</td>\n",
              "      <td>0.643879</td>\n",
              "      <td>0.746480</td>\n",
              "      <td>0.767652</td>\n",
              "    </tr>\n",
              "    <tr>\n",
              "      <th>Rtail</th>\n",
              "      <td>0.517856</td>\n",
              "      <td>0.406107</td>\n",
              "      <td>0.030283</td>\n",
              "      <td>0.676464</td>\n",
              "      <td>0.636320</td>\n",
              "      <td>0.358336</td>\n",
              "      <td>0.676598</td>\n",
              "      <td>0.714933</td>\n",
              "      <td>0.626034</td>\n",
              "      <td>0.634202</td>\n",
              "      <td>0.658994</td>\n",
              "      <td>0.484788</td>\n",
              "      <td>0.567568</td>\n",
              "      <td>0.624063</td>\n",
              "      <td>0.457879</td>\n",
              "      <td>0.628050</td>\n",
              "      <td>0.233629</td>\n",
              "      <td>0.191639</td>\n",
              "      <td>0.549321</td>\n",
              "      <td>0.201292</td>\n",
              "      <td>0.562238</td>\n",
              "      <td>0.762616</td>\n",
              "      <td>0.628246</td>\n",
              "      <td>0.656510</td>\n",
              "      <td>0.630615</td>\n",
              "      <td>0.744842</td>\n",
              "      <td>1.000000</td>\n",
              "      <td>0.616947</td>\n",
              "      <td>0.611883</td>\n",
              "      <td>0.619918</td>\n",
              "    </tr>\n",
              "    <tr>\n",
              "      <th>Meals</th>\n",
              "      <td>0.370187</td>\n",
              "      <td>0.385483</td>\n",
              "      <td>0.122007</td>\n",
              "      <td>0.301516</td>\n",
              "      <td>0.520649</td>\n",
              "      <td>0.308216</td>\n",
              "      <td>0.302176</td>\n",
              "      <td>0.416193</td>\n",
              "      <td>0.520023</td>\n",
              "      <td>0.491726</td>\n",
              "      <td>0.572513</td>\n",
              "      <td>0.432558</td>\n",
              "      <td>0.580643</td>\n",
              "      <td>0.481043</td>\n",
              "      <td>0.451014</td>\n",
              "      <td>0.449927</td>\n",
              "      <td>0.166357</td>\n",
              "      <td>-0.019328</td>\n",
              "      <td>0.367585</td>\n",
              "      <td>0.280715</td>\n",
              "      <td>0.406184</td>\n",
              "      <td>0.444629</td>\n",
              "      <td>0.399438</td>\n",
              "      <td>0.627113</td>\n",
              "      <td>0.663358</td>\n",
              "      <td>0.643879</td>\n",
              "      <td>0.616947</td>\n",
              "      <td>1.000000</td>\n",
              "      <td>0.502563</td>\n",
              "      <td>0.605226</td>\n",
              "    </tr>\n",
              "    <tr>\n",
              "      <th>Fin</th>\n",
              "      <td>0.298823</td>\n",
              "      <td>0.192706</td>\n",
              "      <td>0.027593</td>\n",
              "      <td>0.480276</td>\n",
              "      <td>0.694812</td>\n",
              "      <td>0.162690</td>\n",
              "      <td>0.425899</td>\n",
              "      <td>0.658468</td>\n",
              "      <td>0.760151</td>\n",
              "      <td>0.577090</td>\n",
              "      <td>0.773804</td>\n",
              "      <td>0.642889</td>\n",
              "      <td>0.712816</td>\n",
              "      <td>0.718131</td>\n",
              "      <td>0.735141</td>\n",
              "      <td>0.729588</td>\n",
              "      <td>0.288385</td>\n",
              "      <td>0.288014</td>\n",
              "      <td>0.606449</td>\n",
              "      <td>-0.078252</td>\n",
              "      <td>0.420863</td>\n",
              "      <td>0.585418</td>\n",
              "      <td>0.517947</td>\n",
              "      <td>0.670936</td>\n",
              "      <td>0.760730</td>\n",
              "      <td>0.746480</td>\n",
              "      <td>0.611883</td>\n",
              "      <td>0.502563</td>\n",
              "      <td>1.000000</td>\n",
              "      <td>0.734837</td>\n",
              "    </tr>\n",
              "    <tr>\n",
              "      <th>Other</th>\n",
              "      <td>0.436952</td>\n",
              "      <td>0.376565</td>\n",
              "      <td>0.224010</td>\n",
              "      <td>0.331829</td>\n",
              "      <td>0.558072</td>\n",
              "      <td>0.390610</td>\n",
              "      <td>0.467099</td>\n",
              "      <td>0.645035</td>\n",
              "      <td>0.712511</td>\n",
              "      <td>0.520953</td>\n",
              "      <td>0.686232</td>\n",
              "      <td>0.656796</td>\n",
              "      <td>0.710630</td>\n",
              "      <td>0.739199</td>\n",
              "      <td>0.495782</td>\n",
              "      <td>0.753361</td>\n",
              "      <td>0.386188</td>\n",
              "      <td>0.200525</td>\n",
              "      <td>0.543909</td>\n",
              "      <td>0.185461</td>\n",
              "      <td>0.607868</td>\n",
              "      <td>0.460322</td>\n",
              "      <td>0.434487</td>\n",
              "      <td>0.773798</td>\n",
              "      <td>0.756961</td>\n",
              "      <td>0.767652</td>\n",
              "      <td>0.619918</td>\n",
              "      <td>0.605226</td>\n",
              "      <td>0.734837</td>\n",
              "      <td>1.000000</td>\n",
              "    </tr>\n",
              "  </tbody>\n",
              "</table>\n",
              "</div>"
            ],
            "text/plain": [
              "                   Food      Beer     Smoke  ...     Meals       Fin     Other\n",
              "2018-12 Whlsl  0.474948  0.356983  0.122672  ...  0.643879  0.746480  0.767652\n",
              "        Rtail  0.517856  0.406107  0.030283  ...  0.616947  0.611883  0.619918\n",
              "        Meals  0.370187  0.385483  0.122007  ...  1.000000  0.502563  0.605226\n",
              "        Fin    0.298823  0.192706  0.027593  ...  0.502563  1.000000  0.734837\n",
              "        Other  0.436952  0.376565  0.224010  ...  0.605226  0.734837  1.000000\n",
              "\n",
              "[5 rows x 30 columns]"
            ]
          },
          "metadata": {
            "tags": []
          },
          "execution_count": 21
        }
      ]
    },
    {
      "cell_type": "markdown",
      "metadata": {
        "id": "9KFREfuSlnC8",
        "colab_type": "text"
      },
      "source": [
        "What is created is a DataFrame with a MultiLevel Index. The first level is the date and the second level is industry name. We can make this easier to see if we give names to the levels of the index:"
      ]
    },
    {
      "cell_type": "code",
      "metadata": {
        "id": "ovH_c_I6lnC8",
        "colab_type": "code",
        "colab": {
          "base_uri": "https://localhost:8080/",
          "height": 258
        },
        "outputId": "82b29ae9-6a5e-4971-d5bf-4f25987269f7"
      },
      "source": [
        "ts_corr.index.names = ['date', 'industry']\n",
        "ts_corr.tail()"
      ],
      "execution_count": 22,
      "outputs": [
        {
          "output_type": "execute_result",
          "data": {
            "text/html": [
              "<div>\n",
              "<style scoped>\n",
              "    .dataframe tbody tr th:only-of-type {\n",
              "        vertical-align: middle;\n",
              "    }\n",
              "\n",
              "    .dataframe tbody tr th {\n",
              "        vertical-align: top;\n",
              "    }\n",
              "\n",
              "    .dataframe thead th {\n",
              "        text-align: right;\n",
              "    }\n",
              "</style>\n",
              "<table border=\"1\" class=\"dataframe\">\n",
              "  <thead>\n",
              "    <tr style=\"text-align: right;\">\n",
              "      <th></th>\n",
              "      <th></th>\n",
              "      <th>Food</th>\n",
              "      <th>Beer</th>\n",
              "      <th>Smoke</th>\n",
              "      <th>Games</th>\n",
              "      <th>Books</th>\n",
              "      <th>Hshld</th>\n",
              "      <th>Clths</th>\n",
              "      <th>Hlth</th>\n",
              "      <th>Chems</th>\n",
              "      <th>Txtls</th>\n",
              "      <th>Cnstr</th>\n",
              "      <th>Steel</th>\n",
              "      <th>FabPr</th>\n",
              "      <th>ElcEq</th>\n",
              "      <th>Autos</th>\n",
              "      <th>Carry</th>\n",
              "      <th>Mines</th>\n",
              "      <th>Coal</th>\n",
              "      <th>Oil</th>\n",
              "      <th>Util</th>\n",
              "      <th>Telcm</th>\n",
              "      <th>Servs</th>\n",
              "      <th>BusEq</th>\n",
              "      <th>Paper</th>\n",
              "      <th>Trans</th>\n",
              "      <th>Whlsl</th>\n",
              "      <th>Rtail</th>\n",
              "      <th>Meals</th>\n",
              "      <th>Fin</th>\n",
              "      <th>Other</th>\n",
              "    </tr>\n",
              "    <tr>\n",
              "      <th>date</th>\n",
              "      <th>industry</th>\n",
              "      <th></th>\n",
              "      <th></th>\n",
              "      <th></th>\n",
              "      <th></th>\n",
              "      <th></th>\n",
              "      <th></th>\n",
              "      <th></th>\n",
              "      <th></th>\n",
              "      <th></th>\n",
              "      <th></th>\n",
              "      <th></th>\n",
              "      <th></th>\n",
              "      <th></th>\n",
              "      <th></th>\n",
              "      <th></th>\n",
              "      <th></th>\n",
              "      <th></th>\n",
              "      <th></th>\n",
              "      <th></th>\n",
              "      <th></th>\n",
              "      <th></th>\n",
              "      <th></th>\n",
              "      <th></th>\n",
              "      <th></th>\n",
              "      <th></th>\n",
              "      <th></th>\n",
              "      <th></th>\n",
              "      <th></th>\n",
              "      <th></th>\n",
              "      <th></th>\n",
              "    </tr>\n",
              "  </thead>\n",
              "  <tbody>\n",
              "    <tr>\n",
              "      <th rowspan=\"5\" valign=\"top\">2018-12</th>\n",
              "      <th>Whlsl</th>\n",
              "      <td>0.474948</td>\n",
              "      <td>0.356983</td>\n",
              "      <td>0.122672</td>\n",
              "      <td>0.510425</td>\n",
              "      <td>0.803362</td>\n",
              "      <td>0.419280</td>\n",
              "      <td>0.570071</td>\n",
              "      <td>0.739764</td>\n",
              "      <td>0.785796</td>\n",
              "      <td>0.634197</td>\n",
              "      <td>0.816368</td>\n",
              "      <td>0.699492</td>\n",
              "      <td>0.765434</td>\n",
              "      <td>0.809080</td>\n",
              "      <td>0.666586</td>\n",
              "      <td>0.647362</td>\n",
              "      <td>0.455265</td>\n",
              "      <td>0.342075</td>\n",
              "      <td>0.658869</td>\n",
              "      <td>0.153768</td>\n",
              "      <td>0.648092</td>\n",
              "      <td>0.567395</td>\n",
              "      <td>0.543362</td>\n",
              "      <td>0.764252</td>\n",
              "      <td>0.829185</td>\n",
              "      <td>1.000000</td>\n",
              "      <td>0.744842</td>\n",
              "      <td>0.643879</td>\n",
              "      <td>0.746480</td>\n",
              "      <td>0.767652</td>\n",
              "    </tr>\n",
              "    <tr>\n",
              "      <th>Rtail</th>\n",
              "      <td>0.517856</td>\n",
              "      <td>0.406107</td>\n",
              "      <td>0.030283</td>\n",
              "      <td>0.676464</td>\n",
              "      <td>0.636320</td>\n",
              "      <td>0.358336</td>\n",
              "      <td>0.676598</td>\n",
              "      <td>0.714933</td>\n",
              "      <td>0.626034</td>\n",
              "      <td>0.634202</td>\n",
              "      <td>0.658994</td>\n",
              "      <td>0.484788</td>\n",
              "      <td>0.567568</td>\n",
              "      <td>0.624063</td>\n",
              "      <td>0.457879</td>\n",
              "      <td>0.628050</td>\n",
              "      <td>0.233629</td>\n",
              "      <td>0.191639</td>\n",
              "      <td>0.549321</td>\n",
              "      <td>0.201292</td>\n",
              "      <td>0.562238</td>\n",
              "      <td>0.762616</td>\n",
              "      <td>0.628246</td>\n",
              "      <td>0.656510</td>\n",
              "      <td>0.630615</td>\n",
              "      <td>0.744842</td>\n",
              "      <td>1.000000</td>\n",
              "      <td>0.616947</td>\n",
              "      <td>0.611883</td>\n",
              "      <td>0.619918</td>\n",
              "    </tr>\n",
              "    <tr>\n",
              "      <th>Meals</th>\n",
              "      <td>0.370187</td>\n",
              "      <td>0.385483</td>\n",
              "      <td>0.122007</td>\n",
              "      <td>0.301516</td>\n",
              "      <td>0.520649</td>\n",
              "      <td>0.308216</td>\n",
              "      <td>0.302176</td>\n",
              "      <td>0.416193</td>\n",
              "      <td>0.520023</td>\n",
              "      <td>0.491726</td>\n",
              "      <td>0.572513</td>\n",
              "      <td>0.432558</td>\n",
              "      <td>0.580643</td>\n",
              "      <td>0.481043</td>\n",
              "      <td>0.451014</td>\n",
              "      <td>0.449927</td>\n",
              "      <td>0.166357</td>\n",
              "      <td>-0.019328</td>\n",
              "      <td>0.367585</td>\n",
              "      <td>0.280715</td>\n",
              "      <td>0.406184</td>\n",
              "      <td>0.444629</td>\n",
              "      <td>0.399438</td>\n",
              "      <td>0.627113</td>\n",
              "      <td>0.663358</td>\n",
              "      <td>0.643879</td>\n",
              "      <td>0.616947</td>\n",
              "      <td>1.000000</td>\n",
              "      <td>0.502563</td>\n",
              "      <td>0.605226</td>\n",
              "    </tr>\n",
              "    <tr>\n",
              "      <th>Fin</th>\n",
              "      <td>0.298823</td>\n",
              "      <td>0.192706</td>\n",
              "      <td>0.027593</td>\n",
              "      <td>0.480276</td>\n",
              "      <td>0.694812</td>\n",
              "      <td>0.162690</td>\n",
              "      <td>0.425899</td>\n",
              "      <td>0.658468</td>\n",
              "      <td>0.760151</td>\n",
              "      <td>0.577090</td>\n",
              "      <td>0.773804</td>\n",
              "      <td>0.642889</td>\n",
              "      <td>0.712816</td>\n",
              "      <td>0.718131</td>\n",
              "      <td>0.735141</td>\n",
              "      <td>0.729588</td>\n",
              "      <td>0.288385</td>\n",
              "      <td>0.288014</td>\n",
              "      <td>0.606449</td>\n",
              "      <td>-0.078252</td>\n",
              "      <td>0.420863</td>\n",
              "      <td>0.585418</td>\n",
              "      <td>0.517947</td>\n",
              "      <td>0.670936</td>\n",
              "      <td>0.760730</td>\n",
              "      <td>0.746480</td>\n",
              "      <td>0.611883</td>\n",
              "      <td>0.502563</td>\n",
              "      <td>1.000000</td>\n",
              "      <td>0.734837</td>\n",
              "    </tr>\n",
              "    <tr>\n",
              "      <th>Other</th>\n",
              "      <td>0.436952</td>\n",
              "      <td>0.376565</td>\n",
              "      <td>0.224010</td>\n",
              "      <td>0.331829</td>\n",
              "      <td>0.558072</td>\n",
              "      <td>0.390610</td>\n",
              "      <td>0.467099</td>\n",
              "      <td>0.645035</td>\n",
              "      <td>0.712511</td>\n",
              "      <td>0.520953</td>\n",
              "      <td>0.686232</td>\n",
              "      <td>0.656796</td>\n",
              "      <td>0.710630</td>\n",
              "      <td>0.739199</td>\n",
              "      <td>0.495782</td>\n",
              "      <td>0.753361</td>\n",
              "      <td>0.386188</td>\n",
              "      <td>0.200525</td>\n",
              "      <td>0.543909</td>\n",
              "      <td>0.185461</td>\n",
              "      <td>0.607868</td>\n",
              "      <td>0.460322</td>\n",
              "      <td>0.434487</td>\n",
              "      <td>0.773798</td>\n",
              "      <td>0.756961</td>\n",
              "      <td>0.767652</td>\n",
              "      <td>0.619918</td>\n",
              "      <td>0.605226</td>\n",
              "      <td>0.734837</td>\n",
              "      <td>1.000000</td>\n",
              "    </tr>\n",
              "  </tbody>\n",
              "</table>\n",
              "</div>"
            ],
            "text/plain": [
              "                      Food      Beer     Smoke  ...     Meals       Fin     Other\n",
              "date    industry                                ...                              \n",
              "2018-12 Whlsl     0.474948  0.356983  0.122672  ...  0.643879  0.746480  0.767652\n",
              "        Rtail     0.517856  0.406107  0.030283  ...  0.616947  0.611883  0.619918\n",
              "        Meals     0.370187  0.385483  0.122007  ...  1.000000  0.502563  0.605226\n",
              "        Fin       0.298823  0.192706  0.027593  ...  0.502563  1.000000  0.734837\n",
              "        Other     0.436952  0.376565  0.224010  ...  0.605226  0.734837  1.000000\n",
              "\n",
              "[5 rows x 30 columns]"
            ]
          },
          "metadata": {
            "tags": []
          },
          "execution_count": 22
        }
      ]
    },
    {
      "cell_type": "markdown",
      "metadata": {
        "id": "af8gwmPvlnDA",
        "colab_type": "text"
      },
      "source": [
        "To compute the rolling correlations, we need to group all the rows for the same date, and then compute the average across all the entries in the dataframe. \n",
        "\n",
        "We need to compute the mean of all the values of the dataframe, not the mean of each column. We could compute the means of the means, but it's simpler to just call our own function on the correlation matrix.\n",
        "\n",
        "Although we could construct a function to compute this, it's often easier to provide a `lambda` function which is a simple one-time-use function and therefore has no name. In every other way, it's a standard pandas function.\n",
        "\n",
        "We do so as follows:"
      ]
    },
    {
      "cell_type": "code",
      "metadata": {
        "id": "P9TuWsEflnDB",
        "colab_type": "code",
        "colab": {}
      },
      "source": [
        "ind_tr36corr = ts_corr.groupby(level='date').apply(lambda cormat: cormat.values.mean())"
      ],
      "execution_count": 23,
      "outputs": []
    },
    {
      "cell_type": "markdown",
      "metadata": {
        "id": "-qYalEHclnDF",
        "colab_type": "text"
      },
      "source": [
        "Now, we can plot the trailing 36 month returns against the average correlations in the trailing 36 months."
      ]
    },
    {
      "cell_type": "code",
      "metadata": {
        "id": "QLzV00tslnDF",
        "colab_type": "code",
        "colab": {
          "base_uri": "https://localhost:8080/",
          "height": 406
        },
        "outputId": "ab84858a-9662-424e-a568-3b2068def733"
      },
      "source": [
        "tmi_tr36rets.plot(secondary_y=True, legend=True, label=\"Tr 36 mo return\", figsize=(12,6))\n",
        "ind_tr36corr.plot(legend=True, label=\"Tr 36 mo Avg Correlation\")"
      ],
      "execution_count": 24,
      "outputs": [
        {
          "output_type": "execute_result",
          "data": {
            "text/plain": [
              "<matplotlib.axes._subplots.AxesSubplot at 0x7fd2dae5a320>"
            ]
          },
          "metadata": {
            "tags": []
          },
          "execution_count": 24
        },
        {
          "output_type": "display_data",
          "data": {
            "image/png": "[encoded data removed]",
            "text/plain": [
              "<Figure size 864x432 with 2 Axes>"
            ]
          },
          "metadata": {
            "tags": [],
            "needs_background": "light"
          }
        }
      ]
    },
    {
      "cell_type": "code",
      "metadata": {
        "id": "RKXoUGb3lnDJ",
        "colab_type": "code",
        "colab": {
          "base_uri": "https://localhost:8080/",
          "height": 35
        },
        "outputId": "1119a1a1-947a-4b78-e499-8ce37d9a5e40"
      },
      "source": [
        "tmi_tr36rets.corr(ind_tr36corr)"
      ],
      "execution_count": 25,
      "outputs": [
        {
          "output_type": "execute_result",
          "data": {
            "text/plain": [
              "-0.28010065062884126"
            ]
          },
          "metadata": {
            "tags": []
          },
          "execution_count": 25
        }
      ]
    },
    {
      "cell_type": "markdown",
      "metadata": {
        "id": "KBSOONlElnDM",
        "colab_type": "text"
      },
      "source": [
        "Clearly, these two series are negatively correlated, which explains why diversification fails you when you need it most. When markets fall, correlations rise, making diversification much less valuable.\n",
        "\n",
        "Instead, we'll look at how to use Insurance to protect the downside."
      ]
    }
  ]
}