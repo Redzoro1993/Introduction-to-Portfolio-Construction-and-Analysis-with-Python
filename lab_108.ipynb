{
  "nbformat": 4,
  "nbformat_minor": 0,
  "metadata": {
    "kernelspec": {
      "display_name": "Python 3",
      "language": "python",
      "name": "python3"
    },
    "language_info": {
      "codemirror_mode": {
        "name": "ipython",
        "version": 3
      },
      "file_extension": ".py",
      "mimetype": "text/x-python",
      "name": "python",
      "nbconvert_exporter": "python",
      "pygments_lexer": "ipython3",
      "version": "3.7.6"
    },
    "colab": {
      "name": "lab_108.ipynb",
      "provenance": [],
      "collapsed_sections": [],
      "include_colab_link": true
    }
  },
  "cells": [
    {
      "cell_type": "markdown",
      "metadata": {
        "id": "view-in-github",
        "colab_type": "text"
      },
      "source": [
        "<a href=\"https://colab.research.google.com/github/Redzoro1993/Introduction-to-Portfolio-Construction-and-Analysis-with-Python/blob/master/lab_108.ipynb\" target=\"_parent\"><img src=\"https://colab.research.google.com/assets/colab-badge.svg\" alt=\"Open In Colab\"/></a>"
      ]
    },
    {
      "cell_type": "markdown",
      "metadata": {
        "id": "EH2uC9N5pAW9",
        "colab_type": "text"
      },
      "source": [
        "# The Efficient Frontier - Part II\n",
        "\n",
        "Let's start by loading the returns and generating the expected returns vector and the covariance matrix"
      ]
    },
    {
      "cell_type": "code",
      "metadata": {
        "id": "_mq3jGY9pBx1",
        "colab_type": "code",
        "colab": {
          "base_uri": "https://localhost:8080/",
          "height": 146
        },
        "outputId": "bbd483dc-762a-4012-dd9e-df17e2b0aa61"
      },
      "source": [
        "import os\n",
        "!git clone https://github.com/Redzoro1993/Introduction-to-Portfolio-Construction-and-Analysis-with-Python\n",
        "os.chdir(\"/content/Introduction-to-Portfolio-Construction-and-Analysis-with-Python/Modules\")\n",
        "!python3 edhec_risk_kit_109.py"
      ],
      "execution_count": 1,
      "outputs": [
        {
          "output_type": "stream",
          "text": [
            "Cloning into 'Introduction-to-Portfolio-Construction-and-Analysis-with-Python'...\n",
            "remote: Enumerating objects: 38, done.\u001b[K\n",
            "remote: Counting objects: 100% (38/38), done.\u001b[K\n",
            "remote: Compressing objects: 100% (38/38), done.\u001b[K\n",
            "remote: Total 148 (delta 24), reused 0 (delta 0), pack-reused 110\u001b[K\n",
            "Receiving objects: 100% (148/148), 1.38 MiB | 1.52 MiB/s, done.\n",
            "Resolving deltas: 100% (75/75), done.\n"
          ],
          "name": "stdout"
        }
      ]
    },
    {
      "cell_type": "code",
      "metadata": {
        "id": "u8mox1igpAW_",
        "colab_type": "code",
        "colab": {}
      },
      "source": [
        "%load_ext autoreload\n",
        "%autoreload 2\n",
        "%matplotlib inline\n",
        "import edhec_risk_kit_109 as erk\n",
        "\n",
        "ind = erk.get_ind_returns()\n",
        "er = erk.annualize_rets(ind[\"1996\":\"2000\"], 12)\n",
        "cov = ind[\"1996\":\"2000\"].cov()"
      ],
      "execution_count": 2,
      "outputs": []
    },
    {
      "cell_type": "markdown",
      "metadata": {
        "id": "Me5aYuLdpAXI",
        "colab_type": "text"
      },
      "source": [
        "As a first exercise, let's assume we have some weights, and let's try and compute the returns and volatility of a portfolio, given a set of weights, returns, and a covariance matrix.\n",
        "\n",
        "The returns are easy, so let's add this to our toolkit\n",
        "\n",
        "```python\n",
        "\n",
        "def portfolio_return(weights, returns):\n",
        "    \"\"\"\n",
        "    Computes the return on a portfolio from constituent returns and weights\n",
        "    weights are a numpy array or Nx1 matrix and returns are a numpy array or Nx1 matrix\n",
        "    \"\"\"\n",
        "    return weights.T @ returns\n",
        "\n",
        "```\n",
        "\n",
        "The volatility is just as easy in matrix form:\n",
        "\n",
        "```python\n",
        "def portfolio_vol(weights, covmat):\n",
        "    \"\"\"\n",
        "    Computes the vol of a portfolio from a covariance matrix and constituent weights\n",
        "    weights are a numpy array or N x 1 maxtrix and covmat is an N x N matrix\n",
        "    \"\"\"\n",
        "    return (weights.T @ covmat @ weights)**0.5\n",
        "```\n",
        "\n"
      ]
    },
    {
      "cell_type": "code",
      "metadata": {
        "id": "8-cz8lmFpAXM",
        "colab_type": "code",
        "colab": {}
      },
      "source": [
        "l = [\"Food\", \"Beer\", \"Smoke\", \"Coal\"]"
      ],
      "execution_count": 3,
      "outputs": []
    },
    {
      "cell_type": "code",
      "metadata": {
        "id": "KCGvRCEmpAXS",
        "colab_type": "code",
        "colab": {
          "base_uri": "https://localhost:8080/",
          "height": 109
        },
        "outputId": "661f4de5-316f-4731-f330-1dea32710ff8"
      },
      "source": [
        "er[l]"
      ],
      "execution_count": 4,
      "outputs": [
        {
          "output_type": "execute_result",
          "data": {
            "text/plain": [
              "Food     0.116799\n",
              "Beer     0.141126\n",
              "Smoke    0.107830\n",
              "Coal     0.414689\n",
              "dtype: float64"
            ]
          },
          "metadata": {
            "tags": []
          },
          "execution_count": 4
        }
      ]
    },
    {
      "cell_type": "code",
      "metadata": {
        "id": "7UZLJvuppAXZ",
        "colab_type": "code",
        "colab": {
          "base_uri": "https://localhost:8080/",
          "height": 175
        },
        "outputId": "cbd99beb-e4ba-4c7d-e581-d703841d4072"
      },
      "source": [
        "cov.loc[l,l]"
      ],
      "execution_count": 5,
      "outputs": [
        {
          "output_type": "execute_result",
          "data": {
            "text/html": [
              "<div>\n",
              "<style scoped>\n",
              "    .dataframe tbody tr th:only-of-type {\n",
              "        vertical-align: middle;\n",
              "    }\n",
              "\n",
              "    .dataframe tbody tr th {\n",
              "        vertical-align: top;\n",
              "    }\n",
              "\n",
              "    .dataframe thead th {\n",
              "        text-align: right;\n",
              "    }\n",
              "</style>\n",
              "<table border=\"1\" class=\"dataframe\">\n",
              "  <thead>\n",
              "    <tr style=\"text-align: right;\">\n",
              "      <th></th>\n",
              "      <th>Food</th>\n",
              "      <th>Beer</th>\n",
              "      <th>Smoke</th>\n",
              "      <th>Coal</th>\n",
              "    </tr>\n",
              "  </thead>\n",
              "  <tbody>\n",
              "    <tr>\n",
              "      <th>Food</th>\n",
              "      <td>0.002609</td>\n",
              "      <td>0.002379</td>\n",
              "      <td>0.002061</td>\n",
              "      <td>0.000027</td>\n",
              "    </tr>\n",
              "    <tr>\n",
              "      <th>Beer</th>\n",
              "      <td>0.002379</td>\n",
              "      <td>0.005264</td>\n",
              "      <td>0.001359</td>\n",
              "      <td>0.001728</td>\n",
              "    </tr>\n",
              "    <tr>\n",
              "      <th>Smoke</th>\n",
              "      <td>0.002061</td>\n",
              "      <td>0.001359</td>\n",
              "      <td>0.008349</td>\n",
              "      <td>-0.000733</td>\n",
              "    </tr>\n",
              "    <tr>\n",
              "      <th>Coal</th>\n",
              "      <td>0.000027</td>\n",
              "      <td>0.001728</td>\n",
              "      <td>-0.000733</td>\n",
              "      <td>0.018641</td>\n",
              "    </tr>\n",
              "  </tbody>\n",
              "</table>\n",
              "</div>"
            ],
            "text/plain": [
              "           Food      Beer     Smoke      Coal\n",
              "Food   0.002609  0.002379  0.002061  0.000027\n",
              "Beer   0.002379  0.005264  0.001359  0.001728\n",
              "Smoke  0.002061  0.001359  0.008349 -0.000733\n",
              "Coal   0.000027  0.001728 -0.000733  0.018641"
            ]
          },
          "metadata": {
            "tags": []
          },
          "execution_count": 5
        }
      ]
    },
    {
      "cell_type": "code",
      "metadata": {
        "id": "Yrpik06OpAXl",
        "colab_type": "code",
        "colab": {
          "base_uri": "https://localhost:8080/",
          "height": 35
        },
        "outputId": "6565dd17-76fa-4778-897d-8556a774a350"
      },
      "source": [
        "import pandas as pd\n",
        "import numpy as np\n",
        "ew = np.repeat(0.25, 4)\n",
        "erk.portfolio_return(ew, er[l])"
      ],
      "execution_count": 6,
      "outputs": [
        {
          "output_type": "execute_result",
          "data": {
            "text/plain": [
              "0.19511097196038385"
            ]
          },
          "metadata": {
            "tags": []
          },
          "execution_count": 6
        }
      ]
    },
    {
      "cell_type": "code",
      "metadata": {
        "id": "fHQt1MKvpAXr",
        "colab_type": "code",
        "colab": {
          "base_uri": "https://localhost:8080/",
          "height": 35
        },
        "outputId": "e9bfa213-066e-42dd-a02f-51dc24bf3d5c"
      },
      "source": [
        "erk.portfolio_vol(ew, cov.loc[l,l])"
      ],
      "execution_count": 7,
      "outputs": [
        {
          "output_type": "execute_result",
          "data": {
            "text/plain": [
              "0.055059195776437045"
            ]
          },
          "metadata": {
            "tags": []
          },
          "execution_count": 7
        }
      ]
    },
    {
      "cell_type": "markdown",
      "metadata": {
        "id": "q65FL1VRpAXx",
        "colab_type": "text"
      },
      "source": [
        "# The 2-Asset Case\n",
        "\n",
        "In the case of 2 assets, the problem is somewhat simplified, since the weight of the second asset is 1-the weight of the first asset.\n",
        "\n",
        "Let's write a function that draws the efficient frontier for a simple 2 asset case.\n",
        "\n",
        "Start by generating a sequence of weights in a list of tuples. Python makes it easy to generate a list by using something called a _list comprehension_ ... which you can think of as an efficient way to generate a list of values instead of writing a for loop.\n"
      ]
    },
    {
      "cell_type": "code",
      "metadata": {
        "id": "7bOLu7napAXy",
        "colab_type": "code",
        "colab": {}
      },
      "source": [
        "import numpy as np\n",
        "\n",
        "n_points = 20\n",
        "weights = [np.array([w, 1-w]) for w in np.linspace(0, 1, n_points)]\n"
      ],
      "execution_count": 8,
      "outputs": []
    },
    {
      "cell_type": "code",
      "metadata": {
        "id": "kG_utSRDpAX2",
        "colab_type": "code",
        "colab": {
          "base_uri": "https://localhost:8080/",
          "height": 35
        },
        "outputId": "d32ca134-7cd2-4559-9196-662f7846abcb"
      },
      "source": [
        "type(weights)"
      ],
      "execution_count": 9,
      "outputs": [
        {
          "output_type": "execute_result",
          "data": {
            "text/plain": [
              "list"
            ]
          },
          "metadata": {
            "tags": []
          },
          "execution_count": 9
        }
      ]
    },
    {
      "cell_type": "code",
      "metadata": {
        "id": "d3sOKLxqpAX8",
        "colab_type": "code",
        "colab": {
          "base_uri": "https://localhost:8080/",
          "height": 35
        },
        "outputId": "a5dc9431-db8b-4f6a-d445-aa0408cff4a2"
      },
      "source": [
        "len(weights)"
      ],
      "execution_count": 10,
      "outputs": [
        {
          "output_type": "execute_result",
          "data": {
            "text/plain": [
              "20"
            ]
          },
          "metadata": {
            "tags": []
          },
          "execution_count": 10
        }
      ]
    },
    {
      "cell_type": "code",
      "metadata": {
        "id": "lkVLF03WpAYA",
        "colab_type": "code",
        "colab": {
          "base_uri": "https://localhost:8080/",
          "height": 35
        },
        "outputId": "92c6112f-cf74-4247-86a7-28c4b1f749d9"
      },
      "source": [
        "weights[0]"
      ],
      "execution_count": 11,
      "outputs": [
        {
          "output_type": "execute_result",
          "data": {
            "text/plain": [
              "array([0., 1.])"
            ]
          },
          "metadata": {
            "tags": []
          },
          "execution_count": 11
        }
      ]
    },
    {
      "cell_type": "code",
      "metadata": {
        "id": "2zOJ6NpkpAYF",
        "colab_type": "code",
        "colab": {
          "base_uri": "https://localhost:8080/",
          "height": 35
        },
        "outputId": "b907bf30-c1bf-4972-bc73-3e880201328f"
      },
      "source": [
        "weights[4]"
      ],
      "execution_count": 12,
      "outputs": [
        {
          "output_type": "execute_result",
          "data": {
            "text/plain": [
              "array([0.21052632, 0.78947368])"
            ]
          },
          "metadata": {
            "tags": []
          },
          "execution_count": 12
        }
      ]
    },
    {
      "cell_type": "code",
      "metadata": {
        "id": "BJUykWcIpAYL",
        "colab_type": "code",
        "colab": {
          "base_uri": "https://localhost:8080/",
          "height": 35
        },
        "outputId": "8261ce7a-7baa-412c-9373-40bda3dd4e24"
      },
      "source": [
        "weights[19]"
      ],
      "execution_count": 13,
      "outputs": [
        {
          "output_type": "execute_result",
          "data": {
            "text/plain": [
              "array([1., 0.])"
            ]
          },
          "metadata": {
            "tags": []
          },
          "execution_count": 13
        }
      ]
    },
    {
      "cell_type": "code",
      "metadata": {
        "id": "ri2qyEZTpAYQ",
        "colab_type": "code",
        "colab": {
          "base_uri": "https://localhost:8080/",
          "height": 297
        },
        "outputId": "99a0daf2-14f9-4ec4-cac4-d6e8fb7db09d"
      },
      "source": [
        "l = [\"Games\", \"Fin\"]\n",
        "rets = [erk.portfolio_return(w, er[l]) for w in weights]\n",
        "vols = [erk.portfolio_vol(w, cov.loc[l,l]) for w in weights]\n",
        "ef = pd.DataFrame({\"R\": rets, \"V\": vols})\n",
        "ef.plot.scatter(x=\"V\", y=\"R\")"
      ],
      "execution_count": 14,
      "outputs": [
        {
          "output_type": "execute_result",
          "data": {
            "text/plain": [
              "<matplotlib.axes._subplots.AxesSubplot at 0x7f869fc94a58>"
            ]
          },
          "metadata": {
            "tags": []
          },
          "execution_count": 14
        },
        {
          "output_type": "display_data",
          "data": {
            "image/png": "[encoded data removed]",
            "text/plain": [
              "<Figure size 432x288 with 1 Axes>"
            ]
          },
          "metadata": {
            "tags": [],
            "needs_background": "light"
          }
        }
      ]
    },
    {
      "cell_type": "markdown",
      "metadata": {
        "id": "SbbdxkbApAYV",
        "colab_type": "text"
      },
      "source": [
        "We can create function that plots the frontier:\n",
        "\n",
        "```python\n",
        "def plot_ef2(n_points, er, cov):\n",
        "    \"\"\"\n",
        "    Plots the 2-asset efficient frontier\n",
        "    \"\"\"\n",
        "    if er.shape[0] != 2 or er.shape[0] != 2:\n",
        "        raise ValueError(\"plot_ef2 can only plot 2-asset frontiers\")\n",
        "    weights = [np.array([w, 1-w]) for w in np.linspace(0, 1, n_points)]\n",
        "    rets = [portfolio_return(w, er) for w in weights]\n",
        "    vols = [portfolio_vol(w, cov) for w in weights]\n",
        "    ef = pd.DataFrame({\n",
        "        \"Returns\": rets, \n",
        "        \"Volatility\": vols\n",
        "    })\n",
        "    return ef.plot.line(x=\"Volatility\", y=\"Returns\", style=\".-\")\n",
        "```\n",
        "\n",
        "A useful summary of the visualization features in pandas is [here](https://pandas.pydata.org/pandas-docs/stable/user_guide/visualization.html)\n"
      ]
    },
    {
      "cell_type": "code",
      "metadata": {
        "id": "p1qRuyQLpAYW",
        "colab_type": "code",
        "colab": {
          "base_uri": "https://localhost:8080/",
          "height": 297
        },
        "outputId": "63d0b70d-1581-4ae7-d0d1-3f9eeb6faca3"
      },
      "source": [
        "l = [\"Fin\", \"Beer\"]\n",
        "erk.plot_ef2(25, er[l].values, cov.loc[l,l])"
      ],
      "execution_count": 15,
      "outputs": [
        {
          "output_type": "execute_result",
          "data": {
            "text/plain": [
              "<matplotlib.axes._subplots.AxesSubplot at 0x7f869fcd0908>"
            ]
          },
          "metadata": {
            "tags": []
          },
          "execution_count": 15
        },
        {
          "output_type": "display_data",
          "data": {
            "image/png": "[encoded data removed]",
            "text/plain": [
              "<Figure size 432x288 with 1 Axes>"
            ]
          },
          "metadata": {
            "tags": [],
            "needs_background": "light"
          }
        }
      ]
    }
  ]
}