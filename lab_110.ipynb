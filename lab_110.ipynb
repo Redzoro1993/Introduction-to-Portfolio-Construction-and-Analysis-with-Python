{
  "nbformat": 4,
  "nbformat_minor": 0,
  "metadata": {
    "kernelspec": {
      "display_name": "Python 3",
      "language": "python",
      "name": "python3"
    },
    "language_info": {
      "codemirror_mode": {
        "name": "ipython",
        "version": 3
      },
      "file_extension": ".py",
      "mimetype": "text/x-python",
      "name": "python",
      "nbconvert_exporter": "python",
      "pygments_lexer": "ipython3",
      "version": "3.7.6"
    },
    "colab": {
      "name": "lab_110.ipynb",
      "provenance": [],
      "collapsed_sections": [],
      "include_colab_link": true
    }
  },
  "cells": [
    {
      "cell_type": "markdown",
      "metadata": {
        "id": "view-in-github",
        "colab_type": "text"
      },
      "source": [
        "<a href=\"https://colab.research.google.com/github/Redzoro1993/Introduction-to-Portfolio-Construction-and-Analysis-with-Python/blob/master/lab_110.ipynb\" target=\"_parent\"><img src=\"https://colab.research.google.com/assets/colab-badge.svg\" alt=\"Open In Colab\"/></a>"
      ]
    },
    {
      "cell_type": "markdown",
      "metadata": {
        "id": "B_icRh7Zqehg",
        "colab_type": "text"
      },
      "source": [
        "# Finding the Max Sharpe Ratio Portfolio\n",
        "\n",
        "We've already seen that given a set of expected returns and a covariance matrix, we can plot the efficient frontier. In this section, we'll extend the code to locate the point on the efficient frontier that we are most interested in, which is the tangency portfolio or the Max Sharpe Ratio portfolio.\n",
        "\n",
        "Let's start by the usual imports, and load in the data."
      ]
    },
    {
      "cell_type": "code",
      "metadata": {
        "id": "oVBEzOFFqitr",
        "colab_type": "code",
        "colab": {
          "base_uri": "https://localhost:8080/",
          "height": 146
        },
        "outputId": "d6bf54b2-afe0-455a-992a-338b9ce34f61"
      },
      "source": [
        "import os\n",
        "!git clone https://github.com/Redzoro1993/Introduction-to-Portfolio-Construction-and-Analysis-with-Python\n",
        "os.chdir(\"/content/Introduction-to-Portfolio-Construction-and-Analysis-with-Python/Modules\")\n",
        "!python3 edhec_risk_kit_110.py"
      ],
      "execution_count": 1,
      "outputs": [
        {
          "output_type": "stream",
          "text": [
            "Cloning into 'Introduction-to-Portfolio-Construction-and-Analysis-with-Python'...\n",
            "remote: Enumerating objects: 47, done.\u001b[K\n",
            "remote: Counting objects: 100% (47/47), done.\u001b[K\n",
            "remote: Compressing objects: 100% (47/47), done.\u001b[K\n",
            "remote: Total 157 (delta 27), reused 0 (delta 0), pack-reused 110\u001b[K\n",
            "Receiving objects: 100% (157/157), 1.49 MiB | 1.65 MiB/s, done.\n",
            "Resolving deltas: 100% (78/78), done.\n"
          ],
          "name": "stdout"
        }
      ]
    },
    {
      "cell_type": "code",
      "metadata": {
        "id": "wrMW-Bc-qehi",
        "colab_type": "code",
        "colab": {}
      },
      "source": [
        "%load_ext autoreload\n",
        "%autoreload 2\n",
        "%matplotlib inline\n",
        "import edhec_risk_kit_110 as erk\n",
        "\n",
        "ind = erk.get_ind_returns()\n",
        "er = erk.annualize_rets(ind[\"1996\":\"2000\"], 12)\n",
        "cov = ind[\"1996\":\"2000\"].cov()"
      ],
      "execution_count": 2,
      "outputs": []
    },
    {
      "cell_type": "markdown",
      "metadata": {
        "id": "he5dACiiqehs",
        "colab_type": "text"
      },
      "source": [
        "We already know how to identify points on the curve if we are given a target rate of return. Instead of minimizing the vol based on a target return, we want to find that one point on the curve that maximizes the Sharpe Ratio, given the risk free rate.\n",
        "\n",
        "```python\n",
        "def msr(riskfree_rate, er, cov):\n",
        "    \"\"\"\n",
        "    Returns the weights of the portfolio that gives you the maximum sharpe ratio\n",
        "    given the riskfree rate and expected returns and a covariance matrix\n",
        "    \"\"\"\n",
        "    n = er.shape[0]\n",
        "    init_guess = np.repeat(1/n, n)\n",
        "    bounds = ((0.0, 1.0),) * n # an N-tuple of 2-tuples!\n",
        "    # construct the constraints\n",
        "    weights_sum_to_1 = {'type': 'eq',\n",
        "                        'fun': lambda weights: np.sum(weights) - 1\n",
        "    }\n",
        "    def neg_sharpe(weights, riskfree_rate, er, cov):\n",
        "        \"\"\"\n",
        "        Returns the negative of the sharpe ratio\n",
        "        of the given portfolio\n",
        "        \"\"\"\n",
        "        r = portfolio_return(weights, er)\n",
        "        vol = portfolio_vol(weights, cov)\n",
        "        return -(r - riskfree_rate)/vol\n",
        "    \n",
        "    weights = minimize(neg_sharpe, init_guess,\n",
        "                       args=(riskfree_rate, er, cov), method='SLSQP',\n",
        "                       options={'disp': False},\n",
        "                       constraints=(weights_sum_to_1,),\n",
        "                       bounds=bounds)\n",
        "    return weights.x\n",
        "```\n",
        "\n",
        "Let's guess where the point might be:"
      ]
    },
    {
      "cell_type": "code",
      "metadata": {
        "id": "eo4Wy0t8qehw",
        "colab_type": "code",
        "colab": {
          "base_uri": "https://localhost:8080/",
          "height": 297
        },
        "outputId": "21dbd25d-4c65-43db-b7b3-76e594f4a07e"
      },
      "source": [
        "ax = erk.plot_ef(20, er, cov)\n",
        "ax.set_xlim(left = 0)"
      ],
      "execution_count": 3,
      "outputs": [
        {
          "output_type": "execute_result",
          "data": {
            "text/plain": [
              "(0.0, 0.14178366279800372)"
            ]
          },
          "metadata": {
            "tags": []
          },
          "execution_count": 3
        },
        {
          "output_type": "display_data",
          "data": {
            "image/png": "[encoded data removed]",
            "text/plain": [
              "<Figure size 432x288 with 1 Axes>"
            ]
          },
          "metadata": {
            "tags": [],
            "needs_background": "light"
          }
        }
      ]
    },
    {
      "cell_type": "code",
      "metadata": {
        "id": "uLYkXRLQqeh3",
        "colab_type": "code",
        "colab": {
          "base_uri": "https://localhost:8080/",
          "height": 297
        },
        "outputId": "bbc43654-bd6d-445b-958e-640f95d9c37b"
      },
      "source": [
        "# plot EF\n",
        "ax = erk.plot_ef(20, er, cov)\n",
        "ax.set_xlim(left = 0)\n",
        "# get MSR\n",
        "rf = 0.1\n",
        "w_msr = erk.msr(rf, er, cov)\n",
        "r_msr = erk.portfolio_return(w_msr, er)\n",
        "vol_msr = erk.portfolio_vol(w_msr, cov)\n",
        "# add CML\n",
        "cml_x = [0, vol_msr]\n",
        "cml_y = [rf, r_msr]\n",
        "ax.plot(cml_x, cml_y, color='green', marker='o', linestyle='dashed', linewidth=2, markersize=12)"
      ],
      "execution_count": 4,
      "outputs": [
        {
          "output_type": "execute_result",
          "data": {
            "text/plain": [
              "[<matplotlib.lines.Line2D at 0x7ff9a0d8b748>]"
            ]
          },
          "metadata": {
            "tags": []
          },
          "execution_count": 4
        },
        {
          "output_type": "display_data",
          "data": {
            "image/png": "[encoded data removed]",
            "text/plain": [
              "<Figure size 432x288 with 1 Axes>"
            ]
          },
          "metadata": {
            "tags": [],
            "needs_background": "light"
          }
        }
      ]
    },
    {
      "cell_type": "code",
      "metadata": {
        "id": "UELdmKXzqeh9",
        "colab_type": "code",
        "colab": {
          "base_uri": "https://localhost:8080/",
          "height": 35
        },
        "outputId": "95ca8cd7-92e9-43fe-ea19-b49c8545895f"
      },
      "source": [
        "r_msr, vol_msr"
      ],
      "execution_count": 5,
      "outputs": [
        {
          "output_type": "execute_result",
          "data": {
            "text/plain": [
              "(0.26473948059155666, 0.04571973167587011)"
            ]
          },
          "metadata": {
            "tags": []
          },
          "execution_count": 5
        }
      ]
    },
    {
      "cell_type": "markdown",
      "metadata": {
        "id": "wHiVQBGaqeiE",
        "colab_type": "text"
      },
      "source": [
        "Let's put it all together by adding the CML to the `plot_ef` code.\n",
        "\n",
        "Add the following code:\n",
        "\n",
        "```python\n",
        "    if show_cml:\n",
        "        ax.set_xlim(left = 0)\n",
        "        # get MSR\n",
        "        w_msr = msr(riskfree_rate, er, cov)\n",
        "        r_msr = portfolio_return(w_msr, er)\n",
        "        vol_msr = portfolio_vol(w_msr, cov)\n",
        "        # add CML\n",
        "        cml_x = [0, vol_msr]\n",
        "        cml_y = [riskfree_rate, r_msr]\n",
        "        ax.plot(cml_x, cml_y, color='green', marker='o', linestyle='dashed', linewidth=2, markersize=12)\n",
        "```\n"
      ]
    },
    {
      "cell_type": "code",
      "metadata": {
        "id": "Skd8vDuDqeiE",
        "colab_type": "code",
        "colab": {
          "base_uri": "https://localhost:8080/",
          "height": 297
        },
        "outputId": "2a033d48-60c7-4196-8262-f63798a13aaf"
      },
      "source": [
        "erk.plot_ef(20, er, cov, style='-', show_cml=True, riskfree_rate=0.1)"
      ],
      "execution_count": 6,
      "outputs": [
        {
          "output_type": "execute_result",
          "data": {
            "text/plain": [
              "<matplotlib.axes._subplots.AxesSubplot at 0x7ff9a0dbfac8>"
            ]
          },
          "metadata": {
            "tags": []
          },
          "execution_count": 6
        },
        {
          "output_type": "display_data",
          "data": {
            "image/png": "[encoded data removed]",
            "text/plain": [
              "<Figure size 432x288 with 1 Axes>"
            ]
          },
          "metadata": {
            "tags": [],
            "needs_background": "light"
          }
        }
      ]
    }
  ]
}