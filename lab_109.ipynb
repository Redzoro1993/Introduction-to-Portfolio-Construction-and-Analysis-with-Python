{
  "nbformat": 4,
  "nbformat_minor": 0,
  "metadata": {
    "kernelspec": {
      "display_name": "Python 3",
      "language": "python",
      "name": "python3"
    },
    "language_info": {
      "codemirror_mode": {
        "name": "ipython",
        "version": 3
      },
      "file_extension": ".py",
      "mimetype": "text/x-python",
      "name": "python",
      "nbconvert_exporter": "python",
      "pygments_lexer": "ipython3",
      "version": "3.7.6"
    },
    "colab": {
      "name": "lab_109.ipynb",
      "provenance": [],
      "collapsed_sections": [],
      "include_colab_link": true
    }
  },
  "cells": [
    {
      "cell_type": "markdown",
      "metadata": {
        "id": "view-in-github",
        "colab_type": "text"
      },
      "source": [
        "<a href=\"https://colab.research.google.com/github/Redzoro1993/Introduction-to-Portfolio-Construction-and-Analysis-with-Python/blob/master/lab_109.ipynb\" target=\"_parent\"><img src=\"https://colab.research.google.com/assets/colab-badge.svg\" alt=\"Open In Colab\"/></a>"
      ]
    },
    {
      "cell_type": "markdown",
      "metadata": {
        "id": "hhggyPJup6af",
        "colab_type": "text"
      },
      "source": [
        "# Efficient Frontier - Part III - Running the Optimizer\n",
        "\n",
        "In order to plot the frontier for portfolios with more than 2 assets, we need to find the weights of the portfolio on the efficient frontier.\n",
        "\n",
        "We start by creating the same sort of function that we already created for the 2 asset case:\n",
        "\n",
        "```python\n",
        "\n",
        "def plot_ef(n_points, er, cov):\n",
        "    \"\"\"\n",
        "    Plots the multi-asset efficient frontier\n",
        "    \"\"\"\n",
        "    weights = ???? # we need to implement: optimal_weights(n_points, er, cov)\n",
        "    rets = [portfolio_return(w, er) for w in weights]\n",
        "    vols = [portfolio_vol(w, cov) for w in weights]\n",
        "    ef = pd.DataFrame({\n",
        "        \"Returns\": rets, \n",
        "        \"Volatility\": vols\n",
        "    })\n",
        "    return ef.plot.line(x=\"Volatility\", y=\"Returns\", style='.-')\n",
        "```\n",
        "\n",
        "But let's start by loading up the data as usual:\n"
      ]
    },
    {
      "cell_type": "code",
      "metadata": {
        "id": "G4jymYuPp8_e",
        "colab_type": "code",
        "colab": {
          "base_uri": "https://localhost:8080/",
          "height": 146
        },
        "outputId": "6e9f1d09-7c5a-46f3-db68-38cba4ff8abf"
      },
      "source": [
        "import os\n",
        "!git clone https://github.com/Redzoro1993/Introduction-to-Portfolio-Construction-and-Analysis-with-Python\n",
        "os.chdir(\"/content/Introduction-to-Portfolio-Construction-and-Analysis-with-Python/Modules\")\n",
        "!python3 edhec_risk_kit_109.py"
      ],
      "execution_count": 1,
      "outputs": [
        {
          "output_type": "stream",
          "text": [
            "Cloning into 'Introduction-to-Portfolio-Construction-and-Analysis-with-Python'...\n",
            "remote: Enumerating objects: 44, done.\u001b[K\n",
            "remote: Counting objects: 100% (44/44), done.\u001b[K\n",
            "remote: Compressing objects: 100% (44/44), done.\u001b[K\n",
            "remote: Total 154 (delta 26), reused 0 (delta 0), pack-reused 110\u001b[K\n",
            "Receiving objects: 100% (154/154), 1.47 MiB | 1.62 MiB/s, done.\n",
            "Resolving deltas: 100% (77/77), done.\n"
          ],
          "name": "stdout"
        }
      ]
    },
    {
      "cell_type": "code",
      "metadata": {
        "id": "jSSClnvsp6ag",
        "colab_type": "code",
        "colab": {}
      },
      "source": [
        "%load_ext autoreload\n",
        "%autoreload 2\n",
        "%matplotlib inline\n",
        "import edhec_risk_kit_109 as erk\n",
        "\n",
        "ind = erk.get_ind_returns()\n",
        "er = erk.annualize_rets(ind[\"1996\":\"2000\"], 12)\n",
        "cov = ind[\"1996\":\"2000\"].cov()"
      ],
      "execution_count": 2,
      "outputs": []
    },
    {
      "cell_type": "markdown",
      "metadata": {
        "id": "gbl7Zdhsp6ap",
        "colab_type": "text"
      },
      "source": [
        "In order to find the optimal weights, we need a function that will minimize the volatility for a given level of return.\n",
        "\n",
        "\n",
        "```python\n",
        "from scipy.optimize import minimize\n",
        "\n",
        "def minimize_vol(target_return, er, cov):\n",
        "    \"\"\"\n",
        "    Returns the optimal weights that achieve the target return\n",
        "    given a set of expected returns and a covariance matrix\n",
        "    \"\"\"\n",
        "    n = er.shape[0]\n",
        "    init_guess = np.repeat(1/n, n)\n",
        "    bounds = ((0.0, 1.0),) * n # an N-tuple of 2-tuples!\n",
        "    # construct the constraints\n",
        "    weights_sum_to_1 = {'type': 'eq',\n",
        "                        'fun': lambda weights: np.sum(weights) - 1\n",
        "    }\n",
        "    return_is_target = {'type': 'eq',\n",
        "                        'args': (er,),\n",
        "                        'fun': lambda weights, er: target_return - erk.portfolio_return(weights,er)\n",
        "    }\n",
        "    weights = minimize(erk.portfolio_vol, init_guess,\n",
        "                       args=(cov,), method='SLSQP',\n",
        "                       options={'disp': False},\n",
        "                       constraints=(weights_sum_to_1,return_is_target),\n",
        "                       bounds=bounds)\n",
        "    return weights.x\n",
        "```\n",
        "\n",
        "Let's use this to recreate the result we got from frontier for the 2-Asset optimization between \"Games\" and \"Fin\". Let's plot that efficient frontier as we did last time:"
      ]
    },
    {
      "cell_type": "code",
      "metadata": {
        "id": "fr0fu8jDp6at",
        "colab_type": "code",
        "colab": {
          "base_uri": "https://localhost:8080/",
          "height": 297
        },
        "outputId": "dca9563f-62a4-4a19-ff0f-e787d4072ef6"
      },
      "source": [
        "l = [\"Games\", \"Fin\"]\n",
        "erk.plot_ef2(20, er[l], cov.loc[l,l])"
      ],
      "execution_count": 3,
      "outputs": [
        {
          "output_type": "execute_result",
          "data": {
            "text/plain": [
              "<matplotlib.axes._subplots.AxesSubplot at 0x7fac755eaa20>"
            ]
          },
          "metadata": {
            "tags": []
          },
          "execution_count": 3
        },
        {
          "output_type": "display_data",
          "data": {
            "image/png": "[encoded data removed]",
            "text/plain": [
              "<Figure size 432x288 with 1 Axes>"
            ]
          },
          "metadata": {
            "tags": [],
            "needs_background": "light"
          }
        }
      ]
    },
    {
      "cell_type": "markdown",
      "metadata": {
        "id": "X0YBSzasp6a1",
        "colab_type": "text"
      },
      "source": [
        "The Efficient Frontier for the protfolio that has a target return of 0.15 is approx 0.056, so let's see if our optimizer is able to locate it."
      ]
    },
    {
      "cell_type": "code",
      "metadata": {
        "id": "ZZNhqL3zp6a3",
        "colab_type": "code",
        "colab": {
          "base_uri": "https://localhost:8080/",
          "height": 35
        },
        "outputId": "24192f84-ab4d-4ec4-84d4-054516c70274"
      },
      "source": [
        "weights_15 = erk.minimize_vol(0.15, er[l], cov.loc[l,l])\n",
        "vol_15 = erk.portfolio_vol(weights_15, cov.loc[l,l])\n",
        "vol_15"
      ],
      "execution_count": 4,
      "outputs": [
        {
          "output_type": "execute_result",
          "data": {
            "text/plain": [
              "0.056163669406706564"
            ]
          },
          "metadata": {
            "tags": []
          },
          "execution_count": 4
        }
      ]
    },
    {
      "cell_type": "markdown",
      "metadata": {
        "id": "y8eLdKTnp6a8",
        "colab_type": "text"
      },
      "source": [
        "Perfect!\n",
        "\n",
        "Now that we can find the weights to minimize the vol given a target return, we can plot the efficient frontier by dividing up the range from the highest to the lowest possible return into a grid, and finding the portfolio that targets the minimum volatility given a particular targeted rate of return.\n",
        "\n",
        "Add these:\n",
        "\n",
        "```python\n",
        "def optimal_weights(n_points, er, cov):\n",
        "    \"\"\"\n",
        "    \"\"\"\n",
        "    target_rs = np.linspace(er.min(), er.max(), n_points)\n",
        "    weights = [minimize_vol(target_return, er, cov) for target_return in target_rs]\n",
        "    return weights\n",
        "\n",
        "def plot_ef(n_points, er, cov):\n",
        "    \"\"\"\n",
        "    Plots the multi-asset efficient frontier\n",
        "    \"\"\"\n",
        "    weights = optimal_weights(n_points, er, cov) # not yet implemented!\n",
        "    rets = [portfolio_return(w, er) for w in weights]\n",
        "    vols = [portfolio_vol(w, cov) for w in weights]\n",
        "    ef = pd.DataFrame({\n",
        "        \"Returns\": rets, \n",
        "        \"Volatility\": vols\n",
        "    })\n",
        "    return ef.plot.line(x=\"Volatility\", y=\"Returns\", style='.-')\n",
        "```\n"
      ]
    },
    {
      "cell_type": "code",
      "metadata": {
        "id": "yt0_lTg-p6a9",
        "colab_type": "code",
        "colab": {
          "base_uri": "https://localhost:8080/",
          "height": 297
        },
        "outputId": "b1f37d08-48f9-4c14-e554-81c9b003d775"
      },
      "source": [
        "l = [\"Smoke\", \"Fin\", \"Games\", \"Coal\"]\n",
        "erk.plot_ef(50, er[l], cov.loc[l,l])"
      ],
      "execution_count": 5,
      "outputs": [
        {
          "output_type": "execute_result",
          "data": {
            "text/plain": [
              "<matplotlib.axes._subplots.AxesSubplot at 0x7fac7509a9b0>"
            ]
          },
          "metadata": {
            "tags": []
          },
          "execution_count": 5
        },
        {
          "output_type": "display_data",
          "data": {
            "image/png": "[encoded data removed]",
            "text/plain": [
              "<Figure size 432x288 with 1 Axes>"
            ]
          },
          "metadata": {
            "tags": [],
            "needs_background": "light"
          }
        }
      ]
    }
  ]
}