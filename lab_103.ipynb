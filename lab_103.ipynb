{
  "nbformat": 4,
  "nbformat_minor": 0,
  "metadata": {
    "kernelspec": {
      "display_name": "Python 3",
      "language": "python",
      "name": "python3"
    },
    "language_info": {
      "codemirror_mode": {
        "name": "ipython",
        "version": 3
      },
      "file_extension": ".py",
      "mimetype": "text/x-python",
      "name": "python",
      "nbconvert_exporter": "python",
      "pygments_lexer": "ipython3",
      "version": "3.7.6"
    },
    "colab": {
      "name": "lab_103.ipynb",
      "provenance": [],
      "include_colab_link": true
    }
  },
  "cells": [
    {
      "cell_type": "markdown",
      "metadata": {
        "id": "view-in-github",
        "colab_type": "text"
      },
      "source": [
        "<a href=\"https://colab.research.google.com/github/Redzoro1993/Introduction-to-Portfolio-Construction-and-Analysis-with-Python/blob/master/lab_103.ipynb\" target=\"_parent\"><img src=\"https://colab.research.google.com/assets/colab-badge.svg\" alt=\"Open In Colab\"/></a>"
      ]
    },
    {
      "cell_type": "markdown",
      "metadata": {
        "id": "Y2HwOay9mA8e",
        "colab_type": "text"
      },
      "source": [
        "# Computing Maximum Drawdown\n",
        "\n",
        "In this lab, we'll develop the code to compute the maximum drawdown of a return series, and we'll start to develop our own module which will act as a toolkit that we will add to during the course.\n",
        "\n",
        "First, let's read the return series we processed in the previous lab:\n"
      ]
    },
    {
      "cell_type": "code",
      "metadata": {
        "id": "pLl3AjaTmA8f",
        "colab_type": "code",
        "colab": {
          "base_uri": "https://localhost:8080/",
          "height": 283
        },
        "outputId": "09f893a1-9388-4274-f80d-c849cb8cee51"
      },
      "source": [
        "import pandas as pd\n",
        "\n",
        "me_m = pd.read_csv(\"https://raw.githubusercontent.com/Redzoro1993/Introduction-to-Portfolio-Construction-and-Analysis-with-Python/master/Data/Portfolios_Formed_on_ME_monthly_EW.csv\",\n",
        "                   header=0, index_col=0, parse_dates=True, na_values=-99.99)\n",
        "rets = me_m[['Lo 20', 'Hi 20']]\n",
        "rets.columns = ['SmallCap', 'LargeCap']\n",
        "rets = rets/100\n",
        "rets.plot.line()"
      ],
      "execution_count": 1,
      "outputs": [
        {
          "output_type": "execute_result",
          "data": {
            "text/plain": [
              "<matplotlib.axes._subplots.AxesSubplot at 0x7f50f54c72e8>"
            ]
          },
          "metadata": {
            "tags": []
          },
          "execution_count": 1
        },
        {
          "output_type": "display_data",
          "data": {
            "image/png": "[encoded data removed]",
            "text/plain": [
              "<Figure size 432x288 with 1 Axes>"
            ]
          },
          "metadata": {
            "tags": [],
            "needs_background": "light"
          }
        }
      ]
    },
    {
      "cell_type": "markdown",
      "metadata": {
        "id": "iBVqHn4imA8p",
        "colab_type": "text"
      },
      "source": [
        "## Timeseries - forcing the index to be a datetime\n",
        "\n",
        "We asked Pandas to `parse_dates` in `read_csv()`. Let's check if it was able to do so with the index:"
      ]
    },
    {
      "cell_type": "code",
      "metadata": {
        "id": "2-ahOQmVmA8t",
        "colab_type": "code",
        "colab": {
          "base_uri": "https://localhost:8080/",
          "height": 127
        },
        "outputId": "c83eddc7-411a-41e9-8426-dafbd8e1b187"
      },
      "source": [
        "rets.index"
      ],
      "execution_count": 2,
      "outputs": [
        {
          "output_type": "execute_result",
          "data": {
            "text/plain": [
              "Int64Index([192607, 192608, 192609, 192610, 192611, 192612, 192701, 192702,\n",
              "            192703, 192704,\n",
              "            ...\n",
              "            201803, 201804, 201805, 201806, 201807, 201808, 201809, 201810,\n",
              "            201811, 201812],\n",
              "           dtype='int64', length=1110)"
            ]
          },
          "metadata": {
            "tags": []
          },
          "execution_count": 2
        }
      ]
    },
    {
      "cell_type": "markdown",
      "metadata": {
        "id": "NcNy64nVmA80",
        "colab_type": "text"
      },
      "source": [
        "The `dtype` is `int64` which suggests that it was not automatically converted to a date time index, so let's do that now manually. The simplest way to force it to be a timeseries is by reformatting the index data to a `datetime` type as follows:"
      ]
    },
    {
      "cell_type": "code",
      "metadata": {
        "id": "1z4QhykimA82",
        "colab_type": "code",
        "colab": {
          "base_uri": "https://localhost:8080/",
          "height": 164
        },
        "outputId": "befbdbd1-f05b-46bf-854a-569d69df2f73"
      },
      "source": [
        "rets.index = pd.to_datetime(rets.index, format=\"%Y%m\")\n",
        "rets.index"
      ],
      "execution_count": 3,
      "outputs": [
        {
          "output_type": "execute_result",
          "data": {
            "text/plain": [
              "DatetimeIndex(['1926-07-01', '1926-08-01', '1926-09-01', '1926-10-01',\n",
              "               '1926-11-01', '1926-12-01', '1927-01-01', '1927-02-01',\n",
              "               '1927-03-01', '1927-04-01',\n",
              "               ...\n",
              "               '2018-03-01', '2018-04-01', '2018-05-01', '2018-06-01',\n",
              "               '2018-07-01', '2018-08-01', '2018-09-01', '2018-10-01',\n",
              "               '2018-11-01', '2018-12-01'],\n",
              "              dtype='datetime64[ns]', length=1110, freq=None)"
            ]
          },
          "metadata": {
            "tags": []
          },
          "execution_count": 3
        }
      ]
    },
    {
      "cell_type": "markdown",
      "metadata": {
        "id": "UeNnU2h1mA88",
        "colab_type": "text"
      },
      "source": [
        "Now that the DataFrame has a datetime index, we can treat the entire dataframe as a timeseries, which makes things very convenient. For instance, we can extract just the returns in 2008 as follows:"
      ]
    },
    {
      "cell_type": "markdown",
      "metadata": {
        "id": "x6yLxPYFmA89",
        "colab_type": "text"
      },
      "source": [
        "## Ejercicio del Parcial retornos desde 1999 a 2015"
      ]
    },
    {
      "cell_type": "code",
      "metadata": {
        "id": "lBFefNJnmA89",
        "colab_type": "code",
        "colab": {
          "base_uri": "https://localhost:8080/",
          "height": 424
        },
        "outputId": "90a71300-c8ba-465a-8201-4179ce1d582c"
      },
      "source": [
        "x =rets[\"1999\":\"2015\"]\n",
        "x"
      ],
      "execution_count": 4,
      "outputs": [
        {
          "output_type": "execute_result",
          "data": {
            "text/html": [
              "<div>\n",
              "<style scoped>\n",
              "    .dataframe tbody tr th:only-of-type {\n",
              "        vertical-align: middle;\n",
              "    }\n",
              "\n",
              "    .dataframe tbody tr th {\n",
              "        vertical-align: top;\n",
              "    }\n",
              "\n",
              "    .dataframe thead th {\n",
              "        text-align: right;\n",
              "    }\n",
              "</style>\n",
              "<table border=\"1\" class=\"dataframe\">\n",
              "  <thead>\n",
              "    <tr style=\"text-align: right;\">\n",
              "      <th></th>\n",
              "      <th>SmallCap</th>\n",
              "      <th>LargeCap</th>\n",
              "    </tr>\n",
              "  </thead>\n",
              "  <tbody>\n",
              "    <tr>\n",
              "      <th>1999-01-01</th>\n",
              "      <td>0.1114</td>\n",
              "      <td>0.0153</td>\n",
              "    </tr>\n",
              "    <tr>\n",
              "      <th>1999-02-01</th>\n",
              "      <td>-0.0399</td>\n",
              "      <td>-0.0172</td>\n",
              "    </tr>\n",
              "    <tr>\n",
              "      <th>1999-03-01</th>\n",
              "      <td>-0.0308</td>\n",
              "      <td>0.0368</td>\n",
              "    </tr>\n",
              "    <tr>\n",
              "      <th>1999-04-01</th>\n",
              "      <td>0.0824</td>\n",
              "      <td>0.0679</td>\n",
              "    </tr>\n",
              "    <tr>\n",
              "      <th>1999-05-01</th>\n",
              "      <td>0.0435</td>\n",
              "      <td>-0.0048</td>\n",
              "    </tr>\n",
              "    <tr>\n",
              "      <th>...</th>\n",
              "      <td>...</td>\n",
              "      <td>...</td>\n",
              "    </tr>\n",
              "    <tr>\n",
              "      <th>2015-08-01</th>\n",
              "      <td>-0.0347</td>\n",
              "      <td>-0.0559</td>\n",
              "    </tr>\n",
              "    <tr>\n",
              "      <th>2015-09-01</th>\n",
              "      <td>-0.0610</td>\n",
              "      <td>-0.0333</td>\n",
              "    </tr>\n",
              "    <tr>\n",
              "      <th>2015-10-01</th>\n",
              "      <td>0.0385</td>\n",
              "      <td>0.0710</td>\n",
              "    </tr>\n",
              "    <tr>\n",
              "      <th>2015-11-01</th>\n",
              "      <td>0.0165</td>\n",
              "      <td>0.0015</td>\n",
              "    </tr>\n",
              "    <tr>\n",
              "      <th>2015-12-01</th>\n",
              "      <td>-0.0500</td>\n",
              "      <td>-0.0229</td>\n",
              "    </tr>\n",
              "  </tbody>\n",
              "</table>\n",
              "<p>204 rows × 2 columns</p>\n",
              "</div>"
            ],
            "text/plain": [
              "            SmallCap  LargeCap\n",
              "1999-01-01    0.1114    0.0153\n",
              "1999-02-01   -0.0399   -0.0172\n",
              "1999-03-01   -0.0308    0.0368\n",
              "1999-04-01    0.0824    0.0679\n",
              "1999-05-01    0.0435   -0.0048\n",
              "...              ...       ...\n",
              "2015-08-01   -0.0347   -0.0559\n",
              "2015-09-01   -0.0610   -0.0333\n",
              "2015-10-01    0.0385    0.0710\n",
              "2015-11-01    0.0165    0.0015\n",
              "2015-12-01   -0.0500   -0.0229\n",
              "\n",
              "[204 rows x 2 columns]"
            ]
          },
          "metadata": {
            "tags": []
          },
          "execution_count": 4
        }
      ]
    },
    {
      "cell_type": "code",
      "metadata": {
        "id": "4C5qS-i0mA9F",
        "colab_type": "code",
        "colab": {
          "base_uri": "https://localhost:8080/",
          "height": 72
        },
        "outputId": "0fdf633e-036b-46a0-89b6-728f9cf9920e"
      },
      "source": [
        "n_months = x.shape[0]\n",
        "return_per_month = (x+1).prod()**(1/n_months) - 1\n",
        "return_per_month"
      ],
      "execution_count": 5,
      "outputs": [
        {
          "output_type": "execute_result",
          "data": {
            "text/plain": [
              "SmallCap    0.009069\n",
              "LargeCap    0.005094\n",
              "dtype: float64"
            ]
          },
          "metadata": {
            "tags": []
          },
          "execution_count": 5
        }
      ]
    },
    {
      "cell_type": "code",
      "metadata": {
        "id": "bmaDRWxumA9L",
        "colab_type": "code",
        "colab": {}
      },
      "source": [
        "annualized_return = (return_per_month + 1)**12-1"
      ],
      "execution_count": 6,
      "outputs": []
    },
    {
      "cell_type": "code",
      "metadata": {
        "id": "58XxC3lmmA9P",
        "colab_type": "code",
        "colab": {
          "base_uri": "https://localhost:8080/",
          "height": 72
        },
        "outputId": "f7c15adf-0eeb-4b68-d652-468200784401"
      },
      "source": [
        "annualized_return = (x+1).prod()**(12/n_months) - 1\n",
        "annualized_return.round(4)*100"
      ],
      "execution_count": 7,
      "outputs": [
        {
          "output_type": "execute_result",
          "data": {
            "text/plain": [
              "SmallCap    11.44\n",
              "LargeCap     6.29\n",
              "dtype: float64"
            ]
          },
          "metadata": {
            "tags": []
          },
          "execution_count": 7
        }
      ]
    },
    {
      "cell_type": "markdown",
      "metadata": {
        "id": "P0jrYTKZmA9U",
        "colab_type": "text"
      },
      "source": [
        "## Volatidad"
      ]
    },
    {
      "cell_type": "code",
      "metadata": {
        "id": "iTi3nx18mA9V",
        "colab_type": "code",
        "colab": {
          "base_uri": "https://localhost:8080/",
          "height": 72
        },
        "outputId": "1844b52c-04b5-4f33-d03f-49de4b550b25"
      },
      "source": [
        "import numpy as np\n",
        "annualized_vol = x.std()*np.sqrt(12)\n",
        "annualized_vol.round(4)*100"
      ],
      "execution_count": 8,
      "outputs": [
        {
          "output_type": "execute_result",
          "data": {
            "text/plain": [
              "SmallCap    22.89\n",
              "LargeCap    17.27\n",
              "dtype: float64"
            ]
          },
          "metadata": {
            "tags": []
          },
          "execution_count": 8
        }
      ]
    },
    {
      "cell_type": "markdown",
      "metadata": {
        "id": "i5ifieqfmA9a",
        "colab_type": "text"
      },
      "source": [
        "This looks good except that we know this is monthly data, and it's showing up with an index that is date stamped. We can fix this using the `to_period` method. We'll see several more examples of Pandas support for timeseries during the course."
      ]
    },
    {
      "cell_type": "code",
      "metadata": {
        "id": "1sboXvpBmA9a",
        "colab_type": "code",
        "colab": {
          "base_uri": "https://localhost:8080/",
          "height": 206
        },
        "outputId": "1917c777-f369-4e9d-9885-b7db35efc2c1"
      },
      "source": [
        "rets.index = rets.index.to_period('M')\n",
        "rets.head()"
      ],
      "execution_count": 9,
      "outputs": [
        {
          "output_type": "execute_result",
          "data": {
            "text/html": [
              "<div>\n",
              "<style scoped>\n",
              "    .dataframe tbody tr th:only-of-type {\n",
              "        vertical-align: middle;\n",
              "    }\n",
              "\n",
              "    .dataframe tbody tr th {\n",
              "        vertical-align: top;\n",
              "    }\n",
              "\n",
              "    .dataframe thead th {\n",
              "        text-align: right;\n",
              "    }\n",
              "</style>\n",
              "<table border=\"1\" class=\"dataframe\">\n",
              "  <thead>\n",
              "    <tr style=\"text-align: right;\">\n",
              "      <th></th>\n",
              "      <th>SmallCap</th>\n",
              "      <th>LargeCap</th>\n",
              "    </tr>\n",
              "  </thead>\n",
              "  <tbody>\n",
              "    <tr>\n",
              "      <th>1926-07</th>\n",
              "      <td>-0.0057</td>\n",
              "      <td>0.0333</td>\n",
              "    </tr>\n",
              "    <tr>\n",
              "      <th>1926-08</th>\n",
              "      <td>0.0384</td>\n",
              "      <td>0.0233</td>\n",
              "    </tr>\n",
              "    <tr>\n",
              "      <th>1926-09</th>\n",
              "      <td>-0.0048</td>\n",
              "      <td>-0.0009</td>\n",
              "    </tr>\n",
              "    <tr>\n",
              "      <th>1926-10</th>\n",
              "      <td>-0.0329</td>\n",
              "      <td>-0.0295</td>\n",
              "    </tr>\n",
              "    <tr>\n",
              "      <th>1926-11</th>\n",
              "      <td>-0.0055</td>\n",
              "      <td>0.0316</td>\n",
              "    </tr>\n",
              "  </tbody>\n",
              "</table>\n",
              "</div>"
            ],
            "text/plain": [
              "         SmallCap  LargeCap\n",
              "1926-07   -0.0057    0.0333\n",
              "1926-08    0.0384    0.0233\n",
              "1926-09   -0.0048   -0.0009\n",
              "1926-10   -0.0329   -0.0295\n",
              "1926-11   -0.0055    0.0316"
            ]
          },
          "metadata": {
            "tags": []
          },
          "execution_count": 9
        }
      ]
    },
    {
      "cell_type": "code",
      "metadata": {
        "id": "fG0DNxrcmA9f",
        "colab_type": "code",
        "colab": {
          "base_uri": "https://localhost:8080/",
          "height": 201
        },
        "outputId": "43b09cba-9169-47ae-b004-1292d1dead1d"
      },
      "source": [
        "rets.info()"
      ],
      "execution_count": 10,
      "outputs": [
        {
          "output_type": "stream",
          "text": [
            "<class 'pandas.core.frame.DataFrame'>\n",
            "PeriodIndex: 1110 entries, 1926-07 to 2018-12\n",
            "Freq: M\n",
            "Data columns (total 2 columns):\n",
            " #   Column    Non-Null Count  Dtype  \n",
            "---  ------    --------------  -----  \n",
            " 0   SmallCap  1110 non-null   float64\n",
            " 1   LargeCap  1110 non-null   float64\n",
            "dtypes: float64(2)\n",
            "memory usage: 26.0 KB\n"
          ],
          "name": "stdout"
        }
      ]
    },
    {
      "cell_type": "code",
      "metadata": {
        "id": "z4Kz0SfzmA9k",
        "colab_type": "code",
        "colab": {
          "base_uri": "https://localhost:8080/",
          "height": 300
        },
        "outputId": "bf06b735-973d-4b3a-9173-1f747c1c048f"
      },
      "source": [
        "rets.describe()"
      ],
      "execution_count": 11,
      "outputs": [
        {
          "output_type": "execute_result",
          "data": {
            "text/html": [
              "<div>\n",
              "<style scoped>\n",
              "    .dataframe tbody tr th:only-of-type {\n",
              "        vertical-align: middle;\n",
              "    }\n",
              "\n",
              "    .dataframe tbody tr th {\n",
              "        vertical-align: top;\n",
              "    }\n",
              "\n",
              "    .dataframe thead th {\n",
              "        text-align: right;\n",
              "    }\n",
              "</style>\n",
              "<table border=\"1\" class=\"dataframe\">\n",
              "  <thead>\n",
              "    <tr style=\"text-align: right;\">\n",
              "      <th></th>\n",
              "      <th>SmallCap</th>\n",
              "      <th>LargeCap</th>\n",
              "    </tr>\n",
              "  </thead>\n",
              "  <tbody>\n",
              "    <tr>\n",
              "      <th>count</th>\n",
              "      <td>1110.000000</td>\n",
              "      <td>1110.000000</td>\n",
              "    </tr>\n",
              "    <tr>\n",
              "      <th>mean</th>\n",
              "      <td>0.015904</td>\n",
              "      <td>0.009434</td>\n",
              "    </tr>\n",
              "    <tr>\n",
              "      <th>std</th>\n",
              "      <td>0.097197</td>\n",
              "      <td>0.056325</td>\n",
              "    </tr>\n",
              "    <tr>\n",
              "      <th>min</th>\n",
              "      <td>-0.309900</td>\n",
              "      <td>-0.304000</td>\n",
              "    </tr>\n",
              "    <tr>\n",
              "      <th>25%</th>\n",
              "      <td>-0.026950</td>\n",
              "      <td>-0.019175</td>\n",
              "    </tr>\n",
              "    <tr>\n",
              "      <th>50%</th>\n",
              "      <td>0.011900</td>\n",
              "      <td>0.012300</td>\n",
              "    </tr>\n",
              "    <tr>\n",
              "      <th>75%</th>\n",
              "      <td>0.048300</td>\n",
              "      <td>0.038375</td>\n",
              "    </tr>\n",
              "    <tr>\n",
              "      <th>max</th>\n",
              "      <td>1.126000</td>\n",
              "      <td>0.416300</td>\n",
              "    </tr>\n",
              "  </tbody>\n",
              "</table>\n",
              "</div>"
            ],
            "text/plain": [
              "          SmallCap     LargeCap\n",
              "count  1110.000000  1110.000000\n",
              "mean      0.015904     0.009434\n",
              "std       0.097197     0.056325\n",
              "min      -0.309900    -0.304000\n",
              "25%      -0.026950    -0.019175\n",
              "50%       0.011900     0.012300\n",
              "75%       0.048300     0.038375\n",
              "max       1.126000     0.416300"
            ]
          },
          "metadata": {
            "tags": []
          },
          "execution_count": 11
        }
      ]
    },
    {
      "cell_type": "markdown",
      "metadata": {
        "id": "sAuP_klkmA9q",
        "colab_type": "text"
      },
      "source": [
        "## Computing Drawdowns\n",
        "\n",
        "1. Convert the time series of returns to a time series that represents a wealth index\n",
        "2. Compute a time series of the previous peaks\n",
        "3. Compute the Drawdown as the difference between the previous peak and the current value\n",
        "\n",
        "Let's do this for Large Cap stocks."
      ]
    },
    {
      "cell_type": "code",
      "metadata": {
        "id": "kRGnKuCrmA9r",
        "colab_type": "code",
        "colab": {
          "base_uri": "https://localhost:8080/",
          "height": 294
        },
        "outputId": "5afae7d9-4761-4446-878f-9e82e0f21e7a"
      },
      "source": [
        "wealth_index = 1000*(1+rets[\"LargeCap\"]).cumprod()\n",
        "wealth_index.plot()"
      ],
      "execution_count": 12,
      "outputs": [
        {
          "output_type": "execute_result",
          "data": {
            "text/plain": [
              "<matplotlib.axes._subplots.AxesSubplot at 0x7f50f540a748>"
            ]
          },
          "metadata": {
            "tags": []
          },
          "execution_count": 12
        },
        {
          "output_type": "display_data",
          "data": {
            "image/png": "[encoded data removed]",
            "text/plain": [
              "<Figure size 432x288 with 1 Axes>"
            ]
          },
          "metadata": {
            "tags": [],
            "needs_background": "light"
          }
        }
      ]
    },
    {
      "cell_type": "code",
      "metadata": {
        "id": "7jth25lRmA9v",
        "colab_type": "code",
        "colab": {
          "base_uri": "https://localhost:8080/",
          "height": 294
        },
        "outputId": "694e7a16-ea7a-4c79-f6a3-11278102ac5a"
      },
      "source": [
        "previous_peaks = wealth_index.cummax()\n",
        "previous_peaks.plot()"
      ],
      "execution_count": 13,
      "outputs": [
        {
          "output_type": "execute_result",
          "data": {
            "text/plain": [
              "<matplotlib.axes._subplots.AxesSubplot at 0x7f50f4ec0e80>"
            ]
          },
          "metadata": {
            "tags": []
          },
          "execution_count": 13
        },
        {
          "output_type": "display_data",
          "data": {
            "image/png": "[encoded data removed]",
            "text/plain": [
              "<Figure size 432x288 with 1 Axes>"
            ]
          },
          "metadata": {
            "tags": [],
            "needs_background": "light"
          }
        }
      ]
    },
    {
      "cell_type": "code",
      "metadata": {
        "id": "WBDPXNDmmA9z",
        "colab_type": "code",
        "colab": {
          "base_uri": "https://localhost:8080/",
          "height": 283
        },
        "outputId": "40e7e26a-78be-43a5-9d25-55663ed852be"
      },
      "source": [
        "drawdown = (wealth_index - previous_peaks)/previous_peaks\n",
        "drawdown.plot()"
      ],
      "execution_count": 14,
      "outputs": [
        {
          "output_type": "execute_result",
          "data": {
            "text/plain": [
              "<matplotlib.axes._subplots.AxesSubplot at 0x7f50f4e70e10>"
            ]
          },
          "metadata": {
            "tags": []
          },
          "execution_count": 14
        },
        {
          "output_type": "display_data",
          "data": {
            "image/png": "[encoded data removed]",
            "text/plain": [
              "<Figure size 432x288 with 1 Axes>"
            ]
          },
          "metadata": {
            "tags": [],
            "needs_background": "light"
          }
        }
      ]
    },
    {
      "cell_type": "code",
      "metadata": {
        "id": "Xc2J7ATkmA95",
        "colab_type": "code",
        "colab": {
          "base_uri": "https://localhost:8080/",
          "height": 35
        },
        "outputId": "c57aecea-c008-471e-e916-428b3e987d7a"
      },
      "source": [
        "drawdown.min()"
      ],
      "execution_count": 15,
      "outputs": [
        {
          "output_type": "execute_result",
          "data": {
            "text/plain": [
              "-0.8585017065044246"
            ]
          },
          "metadata": {
            "tags": []
          },
          "execution_count": 15
        }
      ]
    },
    {
      "cell_type": "code",
      "metadata": {
        "id": "l2x0fZD9mA99",
        "colab_type": "code",
        "colab": {
          "base_uri": "https://localhost:8080/",
          "height": 283
        },
        "outputId": "d1701cae-f084-4b41-cbe3-8c0ef861ddf4"
      },
      "source": [
        "drawdown[\"1999\":\"2015\"].plot()"
      ],
      "execution_count": 16,
      "outputs": [
        {
          "output_type": "execute_result",
          "data": {
            "text/plain": [
              "<matplotlib.axes._subplots.AxesSubplot at 0x7f50f4d7ae80>"
            ]
          },
          "metadata": {
            "tags": []
          },
          "execution_count": 16
        },
        {
          "output_type": "display_data",
          "data": {
            "image/png": "[encoded data removed]",
            "text/plain": [
              "<Figure size 432x288 with 1 Axes>"
            ]
          },
          "metadata": {
            "tags": [],
            "needs_background": "light"
          }
        }
      ]
    },
    {
      "cell_type": "code",
      "metadata": {
        "id": "jFhhsZQVmA-B",
        "colab_type": "code",
        "colab": {
          "base_uri": "https://localhost:8080/",
          "height": 35
        },
        "outputId": "9a359a9c-0445-4d65-8923-fb5d60ffd28a"
      },
      "source": [
        "drawdown[\"1999\":\"2015\"].min()"
      ],
      "execution_count": 17,
      "outputs": [
        {
          "output_type": "execute_result",
          "data": {
            "text/plain": [
              "-0.5527349978713652"
            ]
          },
          "metadata": {
            "tags": []
          },
          "execution_count": 17
        }
      ]
    },
    {
      "cell_type": "markdown",
      "metadata": {
        "id": "I7g66o2XmA-E",
        "colab_type": "text"
      },
      "source": [
        "# Creating a Drawdown Function\n",
        "\n",
        "Redoing this analysis for SmallCap would be tedious, since we would need to re-enter all these commands at the prompt. Instead, let's create our first function that will form the first tool in our financial toolkit.\n",
        "\n",
        "The function will take as input, a timeseries of returns, and return a timeseries as a DataFrame that contains the wealth index, the previous peaks and the drawdowns as a percent."
      ]
    },
    {
      "cell_type": "code",
      "metadata": {
        "id": "Dc0OEHxcmA-F",
        "colab_type": "code",
        "colab": {
          "base_uri": "https://localhost:8080/",
          "height": 206
        },
        "outputId": "053c7f46-0c8b-4f85-f958-836d5a73291b"
      },
      "source": [
        "def drawdown(return_series: pd.Series):\n",
        "    \"\"\"Takes a time series of asset returns.\n",
        "       returns a DataFrame with columns for\n",
        "       the wealth index, \n",
        "       the previous peaks, and \n",
        "       the percentage drawdown\n",
        "    \"\"\"\n",
        "    wealth_index = 1000*(1+return_series).cumprod()\n",
        "    previous_peaks = wealth_index.cummax()\n",
        "    drawdowns = (wealth_index - previous_peaks)/previous_peaks\n",
        "    return pd.DataFrame({\"Wealth\": wealth_index, \n",
        "                         \"Previous Peak\": previous_peaks, \n",
        "                         \"Drawdown\": drawdowns})\n",
        "\n",
        "drawdown(rets[\"SmallCap\"]).head()"
      ],
      "execution_count": 18,
      "outputs": [
        {
          "output_type": "execute_result",
          "data": {
            "text/html": [
              "<div>\n",
              "<style scoped>\n",
              "    .dataframe tbody tr th:only-of-type {\n",
              "        vertical-align: middle;\n",
              "    }\n",
              "\n",
              "    .dataframe tbody tr th {\n",
              "        vertical-align: top;\n",
              "    }\n",
              "\n",
              "    .dataframe thead th {\n",
              "        text-align: right;\n",
              "    }\n",
              "</style>\n",
              "<table border=\"1\" class=\"dataframe\">\n",
              "  <thead>\n",
              "    <tr style=\"text-align: right;\">\n",
              "      <th></th>\n",
              "      <th>Wealth</th>\n",
              "      <th>Previous Peak</th>\n",
              "      <th>Drawdown</th>\n",
              "    </tr>\n",
              "  </thead>\n",
              "  <tbody>\n",
              "    <tr>\n",
              "      <th>1926-07</th>\n",
              "      <td>994.300000</td>\n",
              "      <td>994.30000</td>\n",
              "      <td>0.000000</td>\n",
              "    </tr>\n",
              "    <tr>\n",
              "      <th>1926-08</th>\n",
              "      <td>1032.481120</td>\n",
              "      <td>1032.48112</td>\n",
              "      <td>0.000000</td>\n",
              "    </tr>\n",
              "    <tr>\n",
              "      <th>1926-09</th>\n",
              "      <td>1027.525211</td>\n",
              "      <td>1032.48112</td>\n",
              "      <td>-0.004800</td>\n",
              "    </tr>\n",
              "    <tr>\n",
              "      <th>1926-10</th>\n",
              "      <td>993.719631</td>\n",
              "      <td>1032.48112</td>\n",
              "      <td>-0.037542</td>\n",
              "    </tr>\n",
              "    <tr>\n",
              "      <th>1926-11</th>\n",
              "      <td>988.254173</td>\n",
              "      <td>1032.48112</td>\n",
              "      <td>-0.042836</td>\n",
              "    </tr>\n",
              "  </tbody>\n",
              "</table>\n",
              "</div>"
            ],
            "text/plain": [
              "              Wealth  Previous Peak  Drawdown\n",
              "1926-07   994.300000      994.30000  0.000000\n",
              "1926-08  1032.481120     1032.48112  0.000000\n",
              "1926-09  1027.525211     1032.48112 -0.004800\n",
              "1926-10   993.719631     1032.48112 -0.037542\n",
              "1926-11   988.254173     1032.48112 -0.042836"
            ]
          },
          "metadata": {
            "tags": []
          },
          "execution_count": 18
        }
      ]
    },
    {
      "cell_type": "code",
      "metadata": {
        "id": "mfmV8VBYmA-J",
        "colab_type": "code",
        "colab": {
          "base_uri": "https://localhost:8080/",
          "height": 90
        },
        "outputId": "663aa721-f66b-4a30-8f59-e11fe3235de5"
      },
      "source": [
        "drawdown(rets[\"LargeCap\"]).min()"
      ],
      "execution_count": 19,
      "outputs": [
        {
          "output_type": "execute_result",
          "data": {
            "text/plain": [
              "Wealth            352.890879\n",
              "Previous Peak    1033.300000\n",
              "Drawdown           -0.858502\n",
              "dtype: float64"
            ]
          },
          "metadata": {
            "tags": []
          },
          "execution_count": 19
        }
      ]
    },
    {
      "cell_type": "code",
      "metadata": {
        "id": "6z_XAUR3mA-N",
        "colab_type": "code",
        "colab": {
          "base_uri": "https://localhost:8080/",
          "height": 90
        },
        "outputId": "9797b6c8-79c2-4606-93df-52b47ffe2dfe"
      },
      "source": [
        "drawdown(rets[\"SmallCap\"]).min()"
      ],
      "execution_count": 20,
      "outputs": [
        {
          "output_type": "execute_result",
          "data": {
            "text/plain": [
              "Wealth           321.764425\n",
              "Previous Peak    994.300000\n",
              "Drawdown          -0.867228\n",
              "dtype: float64"
            ]
          },
          "metadata": {
            "tags": []
          },
          "execution_count": 20
        }
      ]
    },
    {
      "cell_type": "code",
      "metadata": {
        "id": "f0VI0aMfmA-S",
        "colab_type": "code",
        "colab": {
          "base_uri": "https://localhost:8080/",
          "height": 35
        },
        "outputId": "14a87731-dd87-435d-dd44-8f4bc7f136ef"
      },
      "source": [
        "drawdown(rets[\"LargeCap\"])[\"Drawdown\"].idxmin()"
      ],
      "execution_count": 21,
      "outputs": [
        {
          "output_type": "execute_result",
          "data": {
            "text/plain": [
              "Period('1932-05', 'M')"
            ]
          },
          "metadata": {
            "tags": []
          },
          "execution_count": 21
        }
      ]
    },
    {
      "cell_type": "code",
      "metadata": {
        "id": "xrV9plzzmA-W",
        "colab_type": "code",
        "colab": {
          "base_uri": "https://localhost:8080/",
          "height": 35
        },
        "outputId": "0e2e5bf9-0ff0-4d42-b49f-d44a1068face"
      },
      "source": [
        "drawdown(rets[\"SmallCap\"])[\"Drawdown\"].idxmin()"
      ],
      "execution_count": 22,
      "outputs": [
        {
          "output_type": "execute_result",
          "data": {
            "text/plain": [
              "Period('1932-05', 'M')"
            ]
          },
          "metadata": {
            "tags": []
          },
          "execution_count": 22
        }
      ]
    },
    {
      "cell_type": "code",
      "metadata": {
        "id": "AAILqfsUmA-a",
        "colab_type": "code",
        "colab": {
          "base_uri": "https://localhost:8080/",
          "height": 35
        },
        "outputId": "60a625da-0d55-441e-ee35-aec9331f1e08"
      },
      "source": [
        "drawdown(rets[\"LargeCap\"][\"1975\":])[\"Drawdown\"].idxmin()"
      ],
      "execution_count": 23,
      "outputs": [
        {
          "output_type": "execute_result",
          "data": {
            "text/plain": [
              "Period('2009-02', 'M')"
            ]
          },
          "metadata": {
            "tags": []
          },
          "execution_count": 23
        }
      ]
    },
    {
      "cell_type": "code",
      "metadata": {
        "id": "OO9BjXvTmA-i",
        "colab_type": "code",
        "colab": {
          "base_uri": "https://localhost:8080/",
          "height": 35
        },
        "outputId": "c39d8314-b61f-4448-bc32-2a771082dc9b"
      },
      "source": [
        "drawdown(rets[\"LargeCap\"][\"1999\":\"2015\"])[\"Drawdown\"].idxmin()"
      ],
      "execution_count": 24,
      "outputs": [
        {
          "output_type": "execute_result",
          "data": {
            "text/plain": [
              "Period('2009-02', 'M')"
            ]
          },
          "metadata": {
            "tags": []
          },
          "execution_count": 24
        }
      ]
    },
    {
      "cell_type": "code",
      "metadata": {
        "id": "zhDFKYusmA-o",
        "colab_type": "code",
        "colab": {
          "base_uri": "https://localhost:8080/",
          "height": 35
        },
        "outputId": "38e54d26-8572-4963-c44e-4531c0e82307"
      },
      "source": [
        "drawdown(rets[\"LargeCap\"][\"1999\":\"2015\"])[\"Drawdown\"].min()"
      ],
      "execution_count": 25,
      "outputs": [
        {
          "output_type": "execute_result",
          "data": {
            "text/plain": [
              "-0.5527349978713653"
            ]
          },
          "metadata": {
            "tags": []
          },
          "execution_count": 25
        }
      ]
    }
  ]
}