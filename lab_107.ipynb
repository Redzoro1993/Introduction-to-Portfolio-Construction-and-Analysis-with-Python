{
  "nbformat": 4,
  "nbformat_minor": 0,
  "metadata": {
    "kernelspec": {
      "display_name": "Python 3",
      "language": "python",
      "name": "python3"
    },
    "language_info": {
      "codemirror_mode": {
        "name": "ipython",
        "version": 3
      },
      "file_extension": ".py",
      "mimetype": "text/x-python",
      "name": "python",
      "nbconvert_exporter": "python",
      "pygments_lexer": "ipython3",
      "version": "3.7.6"
    },
    "colab": {
      "name": "lab_107.ipynb",
      "provenance": [],
      "include_colab_link": true
    }
  },
  "cells": [
    {
      "cell_type": "markdown",
      "metadata": {
        "id": "view-in-github",
        "colab_type": "text"
      },
      "source": [
        "<a href=\"https://colab.research.google.com/github/Redzoro1993/Introduction-to-Portfolio-Construction-and-Analysis-with-Python/blob/master/lab_107.ipynb\" target=\"_parent\"><img src=\"https://colab.research.google.com/assets/colab-badge.svg\" alt=\"Open In Colab\"/></a>"
      ]
    },
    {
      "cell_type": "markdown",
      "metadata": {
        "id": "EK2f5BzvoFl3",
        "colab_type": "text"
      },
      "source": [
        "# The Efficient Frontier - Part I\n",
        "\n",
        "This week, we are going to learn how to compute the efficient frontier when we have a set of expected returns, volatilities (or variances) and correlations (or covariances). It's a fair question as to how we can get these numbers for the future, but for now, we'll assume that historic returns are a reasonable estimate. In future sections, we'll learn how to improve on it.\n",
        "\n",
        "Let's start by importing a new dataset. This is the Ken French dataset of the returns of 30 different industry portfolios. \n",
        "\n",
        "This datafile has a number of minor problems that we'll sort through as we go:\n"
      ]
    },
    {
      "cell_type": "code",
      "metadata": {
        "id": "6lxhZaVXoFl5",
        "colab_type": "code",
        "colab": {}
      },
      "source": [
        "import pandas as pd\n",
        "ind = pd.read_csv(\"https://raw.githubusercontent.com/Redzoro1993/Introduction-to-Portfolio-Construction-and-Analysis-with-Python/master/Data/ind30_m_vw_rets.csv\", header=0, index_col=0)/100\n",
        "ind.index = pd.to_datetime(ind.index, format=\"%Y%m\").to_period('M')"
      ],
      "execution_count": 1,
      "outputs": []
    },
    {
      "cell_type": "code",
      "metadata": {
        "id": "8hJyPIXpoFmC",
        "colab_type": "code",
        "colab": {
          "base_uri": "https://localhost:8080/",
          "height": 226
        },
        "outputId": "5e2cbd09-3714-4b60-ace1-595081a18c38"
      },
      "source": [
        "ind.head()"
      ],
      "execution_count": 2,
      "outputs": [
        {
          "output_type": "execute_result",
          "data": {
            "text/html": [
              "<div>\n",
              "<style scoped>\n",
              "    .dataframe tbody tr th:only-of-type {\n",
              "        vertical-align: middle;\n",
              "    }\n",
              "\n",
              "    .dataframe tbody tr th {\n",
              "        vertical-align: top;\n",
              "    }\n",
              "\n",
              "    .dataframe thead th {\n",
              "        text-align: right;\n",
              "    }\n",
              "</style>\n",
              "<table border=\"1\" class=\"dataframe\">\n",
              "  <thead>\n",
              "    <tr style=\"text-align: right;\">\n",
              "      <th></th>\n",
              "      <th>Food</th>\n",
              "      <th>Beer</th>\n",
              "      <th>Smoke</th>\n",
              "      <th>Games</th>\n",
              "      <th>Books</th>\n",
              "      <th>Hshld</th>\n",
              "      <th>Clths</th>\n",
              "      <th>Hlth</th>\n",
              "      <th>Chems</th>\n",
              "      <th>Txtls</th>\n",
              "      <th>Cnstr</th>\n",
              "      <th>Steel</th>\n",
              "      <th>FabPr</th>\n",
              "      <th>ElcEq</th>\n",
              "      <th>Autos</th>\n",
              "      <th>Carry</th>\n",
              "      <th>Mines</th>\n",
              "      <th>Coal</th>\n",
              "      <th>Oil</th>\n",
              "      <th>Util</th>\n",
              "      <th>Telcm</th>\n",
              "      <th>Servs</th>\n",
              "      <th>BusEq</th>\n",
              "      <th>Paper</th>\n",
              "      <th>Trans</th>\n",
              "      <th>Whlsl</th>\n",
              "      <th>Rtail</th>\n",
              "      <th>Meals</th>\n",
              "      <th>Fin</th>\n",
              "      <th>Other</th>\n",
              "    </tr>\n",
              "  </thead>\n",
              "  <tbody>\n",
              "    <tr>\n",
              "      <th>1926-07</th>\n",
              "      <td>0.0056</td>\n",
              "      <td>-0.0519</td>\n",
              "      <td>0.0129</td>\n",
              "      <td>0.0293</td>\n",
              "      <td>0.1097</td>\n",
              "      <td>-0.0048</td>\n",
              "      <td>0.0808</td>\n",
              "      <td>0.0177</td>\n",
              "      <td>0.0814</td>\n",
              "      <td>0.0039</td>\n",
              "      <td>0.0207</td>\n",
              "      <td>0.0407</td>\n",
              "      <td>0.0543</td>\n",
              "      <td>0.0318</td>\n",
              "      <td>0.1639</td>\n",
              "      <td>0.0102</td>\n",
              "      <td>0.0564</td>\n",
              "      <td>0.0154</td>\n",
              "      <td>-0.0140</td>\n",
              "      <td>0.0704</td>\n",
              "      <td>0.0083</td>\n",
              "      <td>0.0922</td>\n",
              "      <td>0.0206</td>\n",
              "      <td>0.0770</td>\n",
              "      <td>0.0193</td>\n",
              "      <td>-0.2379</td>\n",
              "      <td>0.0007</td>\n",
              "      <td>0.0187</td>\n",
              "      <td>0.0037</td>\n",
              "      <td>0.0520</td>\n",
              "    </tr>\n",
              "    <tr>\n",
              "      <th>1926-08</th>\n",
              "      <td>0.0259</td>\n",
              "      <td>0.2703</td>\n",
              "      <td>0.0650</td>\n",
              "      <td>0.0055</td>\n",
              "      <td>0.1001</td>\n",
              "      <td>-0.0358</td>\n",
              "      <td>-0.0251</td>\n",
              "      <td>0.0425</td>\n",
              "      <td>0.0550</td>\n",
              "      <td>0.0814</td>\n",
              "      <td>0.0472</td>\n",
              "      <td>0.0217</td>\n",
              "      <td>0.0206</td>\n",
              "      <td>0.0210</td>\n",
              "      <td>0.0423</td>\n",
              "      <td>0.0166</td>\n",
              "      <td>0.0055</td>\n",
              "      <td>0.0085</td>\n",
              "      <td>0.0369</td>\n",
              "      <td>-0.0169</td>\n",
              "      <td>0.0217</td>\n",
              "      <td>0.0202</td>\n",
              "      <td>0.0439</td>\n",
              "      <td>-0.0238</td>\n",
              "      <td>0.0488</td>\n",
              "      <td>0.0539</td>\n",
              "      <td>-0.0075</td>\n",
              "      <td>-0.0013</td>\n",
              "      <td>0.0446</td>\n",
              "      <td>0.0676</td>\n",
              "    </tr>\n",
              "    <tr>\n",
              "      <th>1926-09</th>\n",
              "      <td>0.0116</td>\n",
              "      <td>0.0402</td>\n",
              "      <td>0.0126</td>\n",
              "      <td>0.0658</td>\n",
              "      <td>-0.0099</td>\n",
              "      <td>0.0073</td>\n",
              "      <td>-0.0051</td>\n",
              "      <td>0.0069</td>\n",
              "      <td>0.0533</td>\n",
              "      <td>0.0231</td>\n",
              "      <td>-0.0050</td>\n",
              "      <td>0.0015</td>\n",
              "      <td>0.0036</td>\n",
              "      <td>-0.0056</td>\n",
              "      <td>0.0483</td>\n",
              "      <td>0.0273</td>\n",
              "      <td>0.0174</td>\n",
              "      <td>0.0030</td>\n",
              "      <td>-0.0369</td>\n",
              "      <td>0.0204</td>\n",
              "      <td>0.0241</td>\n",
              "      <td>0.0225</td>\n",
              "      <td>0.0019</td>\n",
              "      <td>-0.0554</td>\n",
              "      <td>0.0005</td>\n",
              "      <td>-0.0787</td>\n",
              "      <td>0.0025</td>\n",
              "      <td>-0.0056</td>\n",
              "      <td>-0.0123</td>\n",
              "      <td>-0.0386</td>\n",
              "    </tr>\n",
              "    <tr>\n",
              "      <th>1926-10</th>\n",
              "      <td>-0.0306</td>\n",
              "      <td>-0.0331</td>\n",
              "      <td>0.0106</td>\n",
              "      <td>-0.0476</td>\n",
              "      <td>0.0947</td>\n",
              "      <td>-0.0468</td>\n",
              "      <td>0.0012</td>\n",
              "      <td>-0.0057</td>\n",
              "      <td>-0.0476</td>\n",
              "      <td>0.0100</td>\n",
              "      <td>-0.0455</td>\n",
              "      <td>-0.0385</td>\n",
              "      <td>0.0111</td>\n",
              "      <td>-0.0573</td>\n",
              "      <td>-0.0793</td>\n",
              "      <td>-0.0556</td>\n",
              "      <td>-0.0320</td>\n",
              "      <td>0.0223</td>\n",
              "      <td>-0.0104</td>\n",
              "      <td>-0.0263</td>\n",
              "      <td>-0.0011</td>\n",
              "      <td>-0.0200</td>\n",
              "      <td>-0.0109</td>\n",
              "      <td>-0.0508</td>\n",
              "      <td>-0.0264</td>\n",
              "      <td>-0.1538</td>\n",
              "      <td>-0.0220</td>\n",
              "      <td>-0.0411</td>\n",
              "      <td>-0.0516</td>\n",
              "      <td>-0.0849</td>\n",
              "    </tr>\n",
              "    <tr>\n",
              "      <th>1926-11</th>\n",
              "      <td>0.0635</td>\n",
              "      <td>0.0729</td>\n",
              "      <td>0.0455</td>\n",
              "      <td>0.0166</td>\n",
              "      <td>-0.0580</td>\n",
              "      <td>-0.0054</td>\n",
              "      <td>0.0187</td>\n",
              "      <td>0.0542</td>\n",
              "      <td>0.0520</td>\n",
              "      <td>0.0311</td>\n",
              "      <td>0.0220</td>\n",
              "      <td>0.0386</td>\n",
              "      <td>0.0318</td>\n",
              "      <td>0.0508</td>\n",
              "      <td>-0.0066</td>\n",
              "      <td>0.0787</td>\n",
              "      <td>0.0846</td>\n",
              "      <td>-0.0048</td>\n",
              "      <td>0.0006</td>\n",
              "      <td>0.0371</td>\n",
              "      <td>0.0163</td>\n",
              "      <td>0.0377</td>\n",
              "      <td>0.0364</td>\n",
              "      <td>0.0384</td>\n",
              "      <td>0.0160</td>\n",
              "      <td>0.0467</td>\n",
              "      <td>0.0652</td>\n",
              "      <td>0.0433</td>\n",
              "      <td>0.0224</td>\n",
              "      <td>0.0400</td>\n",
              "    </tr>\n",
              "  </tbody>\n",
              "</table>\n",
              "</div>"
            ],
            "text/plain": [
              "          Food    Beer    Smoke   Games  ...   Rtail   Meals   Fin     Other\n",
              "1926-07  0.0056 -0.0519  0.0129  0.0293  ...  0.0007  0.0187  0.0037  0.0520\n",
              "1926-08  0.0259  0.2703  0.0650  0.0055  ... -0.0075 -0.0013  0.0446  0.0676\n",
              "1926-09  0.0116  0.0402  0.0126  0.0658  ...  0.0025 -0.0056 -0.0123 -0.0386\n",
              "1926-10 -0.0306 -0.0331  0.0106 -0.0476  ... -0.0220 -0.0411 -0.0516 -0.0849\n",
              "1926-11  0.0635  0.0729  0.0455  0.0166  ...  0.0652  0.0433  0.0224  0.0400\n",
              "\n",
              "[5 rows x 30 columns]"
            ]
          },
          "metadata": {
            "tags": []
          },
          "execution_count": 2
        }
      ]
    },
    {
      "cell_type": "code",
      "metadata": {
        "id": "QodCJVanoFmN",
        "colab_type": "code",
        "colab": {
          "base_uri": "https://localhost:8080/",
          "height": 109
        },
        "outputId": "a7a51786-2116-4e6f-dfa5-19393eb0e5d9"
      },
      "source": [
        "ind.columns"
      ],
      "execution_count": 3,
      "outputs": [
        {
          "output_type": "execute_result",
          "data": {
            "text/plain": [
              "Index(['Food ', 'Beer ', 'Smoke', 'Games', 'Books', 'Hshld', 'Clths', 'Hlth ',\n",
              "       'Chems', 'Txtls', 'Cnstr', 'Steel', 'FabPr', 'ElcEq', 'Autos', 'Carry',\n",
              "       'Mines', 'Coal ', 'Oil  ', 'Util ', 'Telcm', 'Servs', 'BusEq', 'Paper',\n",
              "       'Trans', 'Whlsl', 'Rtail', 'Meals', 'Fin  ', 'Other'],\n",
              "      dtype='object')"
            ]
          },
          "metadata": {
            "tags": []
          },
          "execution_count": 3
        }
      ]
    },
    {
      "cell_type": "markdown",
      "metadata": {
        "id": "F3d03MVhoFmS",
        "colab_type": "text"
      },
      "source": [
        "Note that the column names have embedded spaces. We can strip out the leading and trailing spaces in the Series by using the `.str.strip` method."
      ]
    },
    {
      "cell_type": "code",
      "metadata": {
        "id": "0IbvPVDNoFmU",
        "colab_type": "code",
        "colab": {}
      },
      "source": [
        "ind.columns = ind.columns.str.strip()"
      ],
      "execution_count": 4,
      "outputs": []
    },
    {
      "cell_type": "code",
      "metadata": {
        "id": "v04BGeq6oFma",
        "colab_type": "code",
        "colab": {
          "base_uri": "https://localhost:8080/",
          "height": 35
        },
        "outputId": "15327ea4-d940-4480-c9bd-5a688804127a"
      },
      "source": [
        "ind.shape"
      ],
      "execution_count": 5,
      "outputs": [
        {
          "output_type": "execute_result",
          "data": {
            "text/plain": [
              "(1110, 30)"
            ]
          },
          "metadata": {
            "tags": []
          },
          "execution_count": 5
        }
      ]
    },
    {
      "cell_type": "markdown",
      "metadata": {
        "id": "93sLXqJroFmg",
        "colab_type": "text"
      },
      "source": [
        "This looks good, so let's add the following code to our module for future use:\n",
        "\n",
        "```python\n",
        "def get_ind_returns():\n",
        "    \"\"\"\n",
        "    Load and format the Ken French 30 Industry Portfolios Value Weighted Monthly Returns\n",
        "    \"\"\"\n",
        "    ind = pd.read_csv(\"data/ind30_m_vw_rets.csv\", header=0, index_col=0)/100\n",
        "    ind.index = pd.to_datetime(ind.index, format=\"%Y%m\").to_period('M')\n",
        "    ind.columns = ind.columns.str.strip()\n",
        "    return ind\n",
        "```\n",
        "\n",
        "and then test it by loading the module as usual."
      ]
    },
    {
      "cell_type": "code",
      "metadata": {
        "id": "DcsVI8gcoil8",
        "colab_type": "code",
        "colab": {
          "base_uri": "https://localhost:8080/",
          "height": 146
        },
        "outputId": "7c73bfe4-5fa4-474e-af21-dad9c8d79ece"
      },
      "source": [
        "import os\n",
        "!git clone https://github.com/Redzoro1993/Introduction-to-Portfolio-Construction-and-Analysis-with-Python\n",
        "os.chdir(\"/content/Introduction-to-Portfolio-Construction-and-Analysis-with-Python/Modules\")\n",
        "!python3 edhec_risk_kit_107.py"
      ],
      "execution_count": 6,
      "outputs": [
        {
          "output_type": "stream",
          "text": [
            "Cloning into 'Introduction-to-Portfolio-Construction-and-Analysis-with-Python'...\n",
            "remote: Enumerating objects: 41, done.\u001b[K\n",
            "remote: Counting objects: 100% (41/41), done.\u001b[K\n",
            "remote: Compressing objects: 100% (41/41), done.\u001b[K\n",
            "remote: Total 151 (delta 25), reused 0 (delta 0), pack-reused 110\u001b[K\n",
            "Receiving objects: 100% (151/151), 1.40 MiB | 17.22 MiB/s, done.\n",
            "Resolving deltas: 100% (76/76), done.\n"
          ],
          "name": "stdout"
        }
      ]
    },
    {
      "cell_type": "code",
      "metadata": {
        "id": "wnp2NRkOoFmh",
        "colab_type": "code",
        "colab": {
          "base_uri": "https://localhost:8080/",
          "height": 35
        },
        "outputId": "54b28eb6-849e-4cd1-cfed-5f839f9177ed"
      },
      "source": [
        "%load_ext autoreload\n",
        "%autoreload 2\n",
        "%matplotlib inline\n",
        "\n",
        "import edhec_risk_kit_107 as erk\n",
        "ind = erk.get_ind_returns()\n",
        "ind.shape"
      ],
      "execution_count": 7,
      "outputs": [
        {
          "output_type": "execute_result",
          "data": {
            "text/plain": [
              "(1110, 30)"
            ]
          },
          "metadata": {
            "tags": []
          },
          "execution_count": 7
        }
      ]
    },
    {
      "cell_type": "code",
      "metadata": {
        "id": "E6XSisvKoFmn",
        "colab_type": "code",
        "colab": {
          "base_uri": "https://localhost:8080/",
          "height": 283
        },
        "outputId": "5c222e7e-952e-4b37-b97e-4ae1fda617f8"
      },
      "source": [
        "erk.drawdown(ind[\"Food\"])[\"Drawdown\"].plot.line()"
      ],
      "execution_count": 8,
      "outputs": [
        {
          "output_type": "execute_result",
          "data": {
            "text/plain": [
              "<matplotlib.axes._subplots.AxesSubplot at 0x7f9929a917f0>"
            ]
          },
          "metadata": {
            "tags": []
          },
          "execution_count": 8
        },
        {
          "output_type": "display_data",
          "data": {
            "image/png": "[encoded data removed]",
            "text/plain": [
              "<Figure size 432x288 with 1 Axes>"
            ]
          },
          "metadata": {
            "tags": [],
            "needs_background": "light"
          }
        }
      ]
    },
    {
      "cell_type": "code",
      "metadata": {
        "id": "DwFE66dToFms",
        "colab_type": "code",
        "colab": {
          "base_uri": "https://localhost:8080/",
          "height": 90
        },
        "outputId": "44279924-fde5-4276-9331-d0ea94ea9fa4"
      },
      "source": [
        "erk.var_gaussian(ind[[\"Food\", \"Beer\", \"Smoke\"]], modified=True)"
      ],
      "execution_count": 9,
      "outputs": [
        {
          "output_type": "execute_result",
          "data": {
            "text/plain": [
              "Food     0.061207\n",
              "Beer     0.033881\n",
              "Smoke    0.080292\n",
              "dtype: float64"
            ]
          },
          "metadata": {
            "tags": []
          },
          "execution_count": 9
        }
      ]
    },
    {
      "cell_type": "code",
      "metadata": {
        "id": "WNoGCrE0oFmx",
        "colab_type": "code",
        "colab": {
          "base_uri": "https://localhost:8080/",
          "height": 308
        },
        "outputId": "3e1469fa-e1e8-4ff9-9cd9-ff6fec063f47"
      },
      "source": [
        "erk.var_gaussian(ind).sort_values().plot.bar()"
      ],
      "execution_count": 10,
      "outputs": [
        {
          "output_type": "execute_result",
          "data": {
            "text/plain": [
              "<matplotlib.axes._subplots.AxesSubplot at 0x7f992999ef28>"
            ]
          },
          "metadata": {
            "tags": []
          },
          "execution_count": 10
        },
        {
          "output_type": "display_data",
          "data": {
            "image/png": "[encoded data removed]",
            "text/plain": [
              "<Figure size 432x288 with 1 Axes>"
            ]
          },
          "metadata": {
            "tags": [],
            "needs_background": "light"
          }
        }
      ]
    },
    {
      "cell_type": "markdown",
      "metadata": {
        "id": "umSMuqIaoFm2",
        "colab_type": "text"
      },
      "source": [
        "Let's use this as an opportunity to write functions for annualized returns, volatility and sharpe ratios. Add the following to the `edhec_risk_kit.py` file:\n",
        "\n",
        "```python\n",
        "def annualize_rets(r, periods_per_year):\n",
        "    \"\"\"\n",
        "    Annualizes a set of returns\n",
        "    We should infer the periods per year\n",
        "    but that is currently left as an exercise\n",
        "    to the reader :-)\n",
        "    \"\"\"\n",
        "    compounded_growth = (1+r).prod()\n",
        "    n_periods = r.shape[0]\n",
        "    return compounded_growth**(periods_per_year/n_periods)-1\n",
        "\n",
        "def annualize_vol(r, periods_per_year):\n",
        "    \"\"\"\n",
        "    Annualizes the vol of a set of returns\n",
        "    We should infer the periods per year\n",
        "    but that is currently left as an exercise\n",
        "    to the reader :-)\n",
        "    \"\"\"\n",
        "    return r.std()*(periods_per_year**0.5)\n",
        "\n",
        "def sharpe_ratio(r, riskfree_rate, periods_per_year):\n",
        "    \"\"\"\n",
        "    Computes the annualized sharpe ratio of a set of returns\n",
        "    \"\"\"\n",
        "    # convert the annual riskfree rate to per period\n",
        "    rf_per_period = (1+riskfree_rate)**(1/periods_per_year)-1\n",
        "    excess_ret = r - rf_per_period\n",
        "    ann_ex_ret = annualize_rets(excess_ret, periods_per_year)\n",
        "    ann_vol = annualize_vol(r, periods_per_year)\n",
        "    return ann_ex_ret/ann_vol\n",
        "\n",
        "```"
      ]
    },
    {
      "cell_type": "code",
      "metadata": {
        "id": "4sO9G8puoFm2",
        "colab_type": "code",
        "colab": {
          "base_uri": "https://localhost:8080/",
          "height": 586
        },
        "outputId": "d8d3e7da-3f3d-4aec-ac11-c43ad3657733"
      },
      "source": [
        "erk.sharpe_ratio(ind, 0.03, 12).sort_values()"
      ],
      "execution_count": 11,
      "outputs": [
        {
          "output_type": "execute_result",
          "data": {
            "text/plain": [
              "Coal     0.084275\n",
              "Steel    0.126052\n",
              "Whlsl    0.143494\n",
              "Other    0.160862\n",
              "Mines    0.177109\n",
              "Books    0.192686\n",
              "Games    0.194420\n",
              "Txtls    0.194906\n",
              "Trans    0.214624\n",
              "Autos    0.227548\n",
              "Cnstr    0.229351\n",
              "FabPr    0.265297\n",
              "Servs    0.267263\n",
              "Fin      0.282243\n",
              "Carry    0.285916\n",
              "ElcEq    0.293063\n",
              "Clths    0.293105\n",
              "Util     0.306945\n",
              "Hshld    0.307349\n",
              "Oil      0.330358\n",
              "Meals    0.332717\n",
              "BusEq    0.342974\n",
              "Chems    0.344903\n",
              "Beer     0.351780\n",
              "Rtail    0.364325\n",
              "Paper    0.364722\n",
              "Telcm    0.383294\n",
              "Hlth     0.437783\n",
              "Smoke    0.446361\n",
              "Food     0.454770\n",
              "dtype: float64"
            ]
          },
          "metadata": {
            "tags": []
          },
          "execution_count": 11
        }
      ]
    },
    {
      "cell_type": "code",
      "metadata": {
        "id": "ceLbwWG_oFm7",
        "colab_type": "code",
        "colab": {
          "base_uri": "https://localhost:8080/",
          "height": 324
        },
        "outputId": "85be2e2d-4b0a-44bd-96a1-7708b543dd2d"
      },
      "source": [
        "erk.sharpe_ratio(ind, 0.03, 12).sort_values().plot.bar(title=\"Industry Sharpe Ratios 1926-2018\")"
      ],
      "execution_count": 12,
      "outputs": [
        {
          "output_type": "execute_result",
          "data": {
            "text/plain": [
              "<matplotlib.axes._subplots.AxesSubplot at 0x7f99299cb240>"
            ]
          },
          "metadata": {
            "tags": []
          },
          "execution_count": 12
        },
        {
          "output_type": "display_data",
          "data": {
            "image/png": "[encoded data removed]",
            "text/plain": [
              "<Figure size 432x288 with 1 Axes>"
            ]
          },
          "metadata": {
            "tags": [],
            "needs_background": "light"
          }
        }
      ]
    },
    {
      "cell_type": "code",
      "metadata": {
        "id": "fTjo2Tt9oFnB",
        "colab_type": "code",
        "colab": {
          "base_uri": "https://localhost:8080/",
          "height": 324
        },
        "outputId": "7e83d0a0-b5ba-41c0-b434-a51d65d92468"
      },
      "source": [
        "erk.sharpe_ratio(ind[\"2000\":], 0.03, 12).sort_values().plot.bar(title='Industry Sharpe Ratios since 2000')"
      ],
      "execution_count": 13,
      "outputs": [
        {
          "output_type": "execute_result",
          "data": {
            "text/plain": [
              "<matplotlib.axes._subplots.AxesSubplot at 0x7f99293567b8>"
            ]
          },
          "metadata": {
            "tags": []
          },
          "execution_count": 13
        },
        {
          "output_type": "display_data",
          "data": {
            "image/png": "[encoded data removed]",
            "text/plain": [
              "<Figure size 432x288 with 1 Axes>"
            ]
          },
          "metadata": {
            "tags": [],
            "needs_background": "light"
          }
        }
      ]
    },
    {
      "cell_type": "markdown",
      "metadata": {
        "id": "QwC5bGJUoFnL",
        "colab_type": "text"
      },
      "source": [
        "## Expected Returns and the Covariance Matrix\n",
        "\n",
        "Generating the efficient frontier requires a set of expected returns and a covariance matrix. For now, let's assume that we can estiamte these simply by looking back in time and naively assuming they will hold in the future. Clearly, they will not, but we will have plenty of time to dig into that in future lectures. For the moment, assume that our naive method of estimating these parameters will suffice.\n",
        "\n",
        "We can generate an estimate of expected returns using the `annualize_rets()` function, that returns a vector of expected returns. For instance, let's generate the set of expected returns based on historic returns from the 5 year period from 1996 through 2000:"
      ]
    },
    {
      "cell_type": "code",
      "metadata": {
        "id": "CVQOkN35oFnM",
        "colab_type": "code",
        "colab": {}
      },
      "source": [
        "er = erk.annualize_rets(ind[\"1995\":\"2000\"], 12)"
      ],
      "execution_count": 14,
      "outputs": []
    },
    {
      "cell_type": "code",
      "metadata": {
        "id": "SGyv4q5eoFnQ",
        "colab_type": "code",
        "colab": {
          "base_uri": "https://localhost:8080/",
          "height": 308
        },
        "outputId": "9953c566-a780-4d84-c5fa-c8f4ebc5144d"
      },
      "source": [
        "er.sort_values().plot.bar()"
      ],
      "execution_count": 15,
      "outputs": [
        {
          "output_type": "execute_result",
          "data": {
            "text/plain": [
              "<matplotlib.axes._subplots.AxesSubplot at 0x7f9929256eb8>"
            ]
          },
          "metadata": {
            "tags": []
          },
          "execution_count": 15
        },
        {
          "output_type": "display_data",
          "data": {
            "image/png": "[encoded data removed]",
            "text/plain": [
              "<Figure size 432x288 with 1 Axes>"
            ]
          },
          "metadata": {
            "tags": [],
            "needs_background": "light"
          }
        }
      ]
    },
    {
      "cell_type": "markdown",
      "metadata": {
        "id": "DdwOnUvDoFnV",
        "colab_type": "text"
      },
      "source": [
        "Finally, let's generate the covariance matrix. Fortunately, this is easy enough to do using the `.cov` method:"
      ]
    },
    {
      "cell_type": "code",
      "metadata": {
        "id": "vA0NwyTJoFnW",
        "colab_type": "code",
        "colab": {
          "base_uri": "https://localhost:8080/",
          "height": 35
        },
        "outputId": "70295dea-8ade-49eb-b503-c67cc0b0ea37"
      },
      "source": [
        "cov = ind[\"1995\":\"2000\"].cov()\n",
        "cov.shape"
      ],
      "execution_count": 16,
      "outputs": [
        {
          "output_type": "execute_result",
          "data": {
            "text/plain": [
              "(30, 30)"
            ]
          },
          "metadata": {
            "tags": []
          },
          "execution_count": 16
        }
      ]
    },
    {
      "cell_type": "markdown",
      "metadata": {
        "id": "FkME8LJboFnZ",
        "colab_type": "text"
      },
      "source": [
        "In the next lab session, we'll take the expected returns vector and the covariance matrix we've constructed and start to plot the efficient frontier!"
      ]
    }
  ]
}